{
 "cells": [
  {
   "cell_type": "code",
   "execution_count": 1,
   "metadata": {
    "collapsed": true
   },
   "outputs": [],
   "source": [
    "import tensorflow as tf\n",
    "from helpers import *\n",
    "from convnet_experiment import *"
   ]
  },
  {
   "cell_type": "code",
   "execution_count": 2,
   "metadata": {
    "collapsed": true
   },
   "outputs": [],
   "source": [
    "%matplotlib inline"
   ]
  },
  {
   "cell_type": "code",
   "execution_count": 3,
   "metadata": {
    "collapsed": true
   },
   "outputs": [],
   "source": [
    "DATA_DIR = 'netdata'\n",
    "train = np.load(os.path.join(DATA_DIR, 'standardized_train.npy'))\n",
    "train_labels = np.load(os.path.join(DATA_DIR, 'labels_train.npy'))\n",
    "test = np.load(os.path.join(DATA_DIR, 'standardized_test.npy'))\n",
    "test_labels = np.load(os.path.join(DATA_DIR, 'labels_test.npy'))"
   ]
  },
  {
   "cell_type": "code",
   "execution_count": 4,
   "metadata": {
    "collapsed": true
   },
   "outputs": [],
   "source": [
    "RUN_NAME = 'CRPS-MODEL-3.0'\n",
    "DATA_DIR = 'netdata'\n",
    "ITERS = 100000\n",
    "START_ITER = 0\n",
    "MODEL_LOAD_PATH = None\n",
    "PIC_WIDTH = 32\n",
    "### Architectural Hyperparameters\n",
    "DEPTH_1 = 8         # The output depth of the first convolutional layer\n",
    "DEPTH_2 = 16         # The output depth of the second convolutional layer\n",
    "DEPTH_3 = 20         # The output depth of the second convolutional layer\n",
    "DEPTH_4 = 24        # The output depth of the second convolutional layer\n",
    "DEPTH_5 = 30        # The output depth of the second convolutional layer\n",
    "DEPTH_6 = 40        # The output depth of the second convolutional layer\n",
    "\n",
    "NUM_OUTPUTS = 25    # Number of output classes in the softmax layer\n",
    "KERNEL_X = 3         # The width of the convolution kernel (using same for 1st and 2nd layers)\n",
    "KERNEL_Y = 3         # The height of the convolution kernel (using same for 1st and 2nd layers)\n",
    "mu = 0.0001\n",
    "LEARNING_RATE = 1e-4\n",
    "\n",
    "REGULARIZE_BIAS = False\n",
    "\n",
    "NUM_INPUTS = 9  \n",
    "NUM_REPS = 144\n",
    "\n",
    "TRAIN_LABEL_NOISE_STD = 2.\n",
    "TRAIN_LABEL_SMOOTHING_STD = 0.\n",
    "DATA_AUGMENTATION = True\n",
    "DIASTOLE = False\n",
    "\n",
    "###########################################\n",
    "NUM_INPUTS = 9       # Number of input channels\n",
    "NUM_OUTPUTS = 2\n",
    "NUM_REPS = 144\n",
    "TRAIN_LABEL_NOISE_STD = 0.0001\n",
    "TRAIN_LABEL_SMOOTHING_STD = 0.\n",
    "LEARNING_RATE = 1e-3\n",
    "mu = 0.05\n",
    "DATA_AUGMENTATION = True\n",
    "RUN_NAME = 'TWO-CLASS-EXP'\n",
    "DEPTH_1 = 4         # The output depth of the first convolutional layer\n",
    "DEPTH_2 = 4         # The output depth of the second convolutional layer\n",
    "DEPTH_3 = 4         # The output depth of the second convolutional layer\n",
    "DEPTH_4 = 2        # The output depth of the second convolutional layer\n",
    "DEPTH_5 = 2        # The output depth of the second convolutional layer\n",
    "DEPTH_6 = 2   "
   ]
  },
  {
   "cell_type": "code",
   "execution_count": 5,
   "metadata": {
    "collapsed": true
   },
   "outputs": [],
   "source": [
    "graph = tf.Graph()\n",
    "with graph.as_default():\n",
    "    ####################################### INPUT/OUTPUT PLACEHOLDERS ##############################################\n",
    "    x = tf.placeholder(tf.float32, shape=[None, PIC_WIDTH, PIC_WIDTH, NUM_INPUTS]) #Placeholder for the input images\n",
    "    y_ = tf.placeholder(tf.float32, shape=[None, NUM_OUTPUTS]) #Placeholder for the label cdfs\n",
    "    ####################################### FIRST CONVOLUTIONAL LAYER ##############################################\n",
    "    # The weight tensor has dimensions [kernel_size_x, kernel_size_y, num_input_channels, num_output_channels]\n",
    "    W_conv1 = weight_variable([KERNEL_X, KERNEL_Y, NUM_INPUTS, DEPTH_1])\n",
    "    b_conv1 = bias_variable([DEPTH_1])\n",
    "    #Take the input image, reshape it to a 4D tensor with dimensions: [_, image_width, image_height, num_channels]\n",
    "    #x_image = tf.reshape(x, [-1,32,32,3])\n",
    "    h_conv1 = tf.nn.relu(conv2d(x, W_conv1) + b_conv1)\n",
    "    h_pool1 = max_pool_2x2(h_conv1)\n",
    "    ####################################### SECOND CONVOLUTIONAL LAYER ##############################################\n",
    "    W_conv2 = weight_variable([KERNEL_X, KERNEL_Y, DEPTH_1, DEPTH_2])\n",
    "    b_conv2 = bias_variable([DEPTH_2])\n",
    "\n",
    "    h_conv2 = tf.nn.relu(conv2d(h_pool1, W_conv2) + b_conv2)\n",
    "    h_pool2 = max_pool_2x2(h_conv2)\n",
    "    ####################################### THIRD CONVOLUTIONAL LAYER ##############################################\n",
    "    W_conv3 = weight_variable([KERNEL_X, KERNEL_Y, DEPTH_2, DEPTH_3])\n",
    "    b_conv3 = bias_variable([DEPTH_3])\n",
    "\n",
    "    h_conv3 = tf.nn.relu(conv2d(h_pool2, W_conv3) + b_conv3)\n",
    "    h_pool3 = max_pool_2x2(h_conv3)\n",
    "    ####################################### FOURTH CONVOLUTIONAL LAYER ##############################################\n",
    "    W_conv4 = weight_variable([KERNEL_X, KERNEL_Y, DEPTH_3, DEPTH_4])\n",
    "    b_conv4 = bias_variable([DEPTH_4])\n",
    "\n",
    "    h_conv4 = tf.nn.relu(conv2d(h_pool3, W_conv4) + b_conv4)\n",
    "    h_pool4 = max_pool_2x2(h_conv4)\n",
    "    # ####################################### FIFTH CONVOLUTIONAL LAYER ##############################################\n",
    "    #This layer uses a 1x1 convolution\n",
    "    W_conv5 = weight_variable([1, 1, DEPTH_4, DEPTH_5])\n",
    "    b_conv5 = bias_variable([DEPTH_5])\n",
    "\n",
    "    h_conv5 = tf.nn.relu(conv2d(h_pool4, W_conv5) + b_conv5)\n",
    "    h_pool5 = tf.nn.avg_pool(h_conv5,ksize=[1, 2, 2, 1], strides=[1, 2, 2, 1], padding='SAME')\n",
    "    h_pool5_flat = tf.reshape(h_pool5, [-1, DEPTH_5])\n",
    "    ############################################### DROPOUT ##########################################################\n",
    "    keep_prob = tf.placeholder(tf.float32)\n",
    "    h_fc1_drop = tf.nn.dropout(h_pool5_flat, keep_prob)\n",
    "    ############################################# SOFTMAX OUTPUT LAYER ###############################################\n",
    "    W_fc2 = weight_variable([DEPTH_5, NUM_OUTPUTS])\n",
    "    b_fc2 = bias_variable([NUM_OUTPUTS])\n",
    "\n",
    "    y = tf.nn.softmax(tf.matmul(h_fc1_drop, W_fc2) + b_fc2)\n",
    "    ##################################### SETTING UP THE OPTIMISATION PROBLEM #####################################\n",
    "    cross_entropy = -tf.reduce_sum(y_*tf.log(y+1e-12))\n",
    "    loss = cross_entropy + mu*(tf.nn.l2_loss(W_conv1) + tf.nn.l2_loss(W_conv2)\n",
    "                                + tf.nn.l2_loss(W_conv3) + tf.nn.l2_loss(W_conv4)\n",
    "                                + tf.nn.l2_loss(W_conv5) + tf.nn.l2_loss(W_fc2))\n",
    "\n",
    "    train_step = tf.train.AdamOptimizer(LEARNING_RATE).minimize(loss)\n",
    "\n",
    "    correct_prediction = tf.equal(tf.argmax(y,1), tf.argmax(y_,1))\n",
    "    accuracy = tf.reduce_mean(tf.cast(correct_prediction, tf.float32))\n",
    "\n",
    "    xentrop_summ = tf.scalar_summary(\"Cross Entropy\", loss)\n",
    "    accuracy_summ = tf.scalar_summary(\"Accuracy\", accuracy)"
   ]
  },
  {
   "cell_type": "markdown",
   "metadata": {},
   "source": [
    "## Run the relevant data through the classifier, in this case I'm running the 200 test cases"
   ]
  },
  {
   "cell_type": "code",
   "execution_count": 6,
   "metadata": {
    "collapsed": false
   },
   "outputs": [
    {
     "name": "stdout",
     "output_type": "stream",
     "text": [
      "Patient  0\n",
      "Patient  40\n",
      "Patient  80\n",
      "Patient  120\n",
      "Patient  160\n"
     ]
    }
   ],
   "source": [
    "MODEL_LOAD_PATH = 'TWO-CLASS-EXP/model-13000'\n",
    "predictions = []\n",
    "with tf.Session(graph=graph) as session:\n",
    "    saver = tf.train.Saver()\n",
    "    saver.restore(session, MODEL_LOAD_PATH)\n",
    "    for i in range(200):\n",
    "        if i%40 == 0:\n",
    "            print 'Patient ', i\n",
    "        Xt,yt = batch(test[:,i:i+1], [])\n",
    "        pred = session.run([y], feed_dict={x: Xt, keep_prob: 1.0})[0]\n",
    "        ### Average over all 144 predictions\n",
    "        pred = np.mean(pred, axis=0)\n",
    "        predictions.append(pred)\n",
    "    predictions = np.array(predictions)\n",
    "class_pred = predictions[:,1]"
   ]
  },
  {
   "cell_type": "code",
   "execution_count": 8,
   "metadata": {
    "collapsed": false
   },
   "outputs": [
    {
     "data": {
      "text/plain": [
       "<matplotlib.collections.PathCollection at 0x124a2c390>"
      ]
     },
     "execution_count": 8,
     "metadata": {},
     "output_type": "execute_result"
    },
    {
     "data": {
      "image/png": "[encoded data removed]",
      "text/plain": [
       "<matplotlib.figure.Figure at 0x1249622d0>"
      ]
     },
     "metadata": {},
     "output_type": "display_data"
    }
   ],
   "source": [
    "plt.scatter(test_labels, class_pred)"
   ]
  },
  {
   "cell_type": "markdown",
   "metadata": {},
   "source": [
    "## Code for smoothing the CDFs"
   ]
  },
  {
   "cell_type": "code",
   "execution_count": null,
   "metadata": {
    "collapsed": true
   },
   "outputs": [],
   "source": [
    "width = 20\n",
    "h = np.ones(width)/float(width)\n",
    "smooth_cdfs = np.zeros_like(cdfs)\n",
    "for i in range(cdfs.shape[0]):\n",
    "    smoos = np.convolve(h,cdfs[i])\n",
    "    smoos = smoos[width/2:-(width/2 - 1)]\n",
    "    smoos[-(width/2):] = 1.\n",
    "    smooth_cdfs[i,:] = smoos\n",
    "\n",
    "smooth_cdfs.shape"
   ]
  }
 ],
 "metadata": {
  "kernelspec": {
   "display_name": "Python 2",
   "language": "python",
   "name": "python2"
  },
  "language_info": {
   "codemirror_mode": {
    "name": "ipython",
    "version": 2
   },
   "file_extension": ".py",
   "mimetype": "text/x-python",
   "name": "python",
   "nbconvert_exporter": "python",
   "pygments_lexer": "ipython2",
   "version": "2.7.11"
  }
 },
 "nbformat": 4,
 "nbformat_minor": 0
}

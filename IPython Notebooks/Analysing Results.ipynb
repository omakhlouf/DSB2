{
 "cells": [
  {
   "cell_type": "code",
   "execution_count": 1,
   "metadata": {
    "collapsed": false
   },
   "outputs": [],
   "source": [
    "import tensorflow as tf\n",
    "from helpers import *\n",
    "from convnet_experiment import *"
   ]
  },
  {
   "cell_type": "code",
   "execution_count": 2,
   "metadata": {
    "collapsed": true
   },
   "outputs": [],
   "source": [
    "%matplotlib inline"
   ]
  },
  {
   "cell_type": "code",
   "execution_count": 137,
   "metadata": {
    "collapsed": false
   },
   "outputs": [
    {
     "name": "stdout",
     "output_type": "stream",
     "text": [
      "/Users/omakhlouf/Desktop/Data Science Bowl/kaggle-dsb\n"
     ]
    }
   ],
   "source": [
    "cd kaggle-dsb/"
   ]
  },
  {
   "cell_type": "code",
   "execution_count": 3,
   "metadata": {
    "collapsed": true
   },
   "outputs": [],
   "source": [
    "DATA_DIR = 'netdata'\n",
    "train = np.load(os.path.join(DATA_DIR, 'standardized_train.npy'))\n",
    "train_labels = np.load(os.path.join(DATA_DIR, 'labels_train.npy'))\n",
    "test = np.load(os.path.join(DATA_DIR, 'standardized_test.npy'))\n",
    "test_labels = np.load(os.path.join(DATA_DIR, 'labels_test.npy'))"
   ]
  },
  {
   "cell_type": "code",
   "execution_count": 127,
   "metadata": {
    "collapsed": false
   },
   "outputs": [
    {
     "data": {
      "text/plain": [
       "(1000,)"
      ]
     },
     "execution_count": 127,
     "metadata": {},
     "output_type": "execute_result"
    }
   ],
   "source": [
    "labels = np.concatenate((train_labels, test_labels))\n",
    "labels.shape"
   ]
  },
  {
   "cell_type": "code",
   "execution_count": 135,
   "metadata": {
    "collapsed": false
   },
   "outputs": [
    {
     "data": {
      "text/plain": [
       "631"
      ]
     },
     "execution_count": 135,
     "metadata": {},
     "output_type": "execute_result"
    }
   ],
   "source": [
    "np.sum(labels > 80)"
   ]
  },
  {
   "cell_type": "code",
   "execution_count": 8,
   "metadata": {
    "collapsed": false
   },
   "outputs": [],
   "source": [
    "xv, yv = batch(test, test_labels)"
   ]
  },
  {
   "cell_type": "code",
   "execution_count": 14,
   "metadata": {
    "collapsed": false
   },
   "outputs": [
    {
     "data": {
      "text/plain": [
       "(28800, 32, 32, 9)"
      ]
     },
     "execution_count": 14,
     "metadata": {},
     "output_type": "execute_result"
    }
   ],
   "source": [
    "xv.shape"
   ]
  },
  {
   "cell_type": "code",
   "execution_count": 6,
   "metadata": {
    "collapsed": false
   },
   "outputs": [
    {
     "data": {
      "text/plain": [
       "(3, 200, 2, 8, 32, 32)"
      ]
     },
     "execution_count": 6,
     "metadata": {},
     "output_type": "execute_result"
    }
   ],
   "source": [
    "test.shape"
   ]
  },
  {
   "cell_type": "code",
   "execution_count": 155,
   "metadata": {
    "collapsed": false
   },
   "outputs": [
    {
     "data": {
      "text/plain": [
       "100"
      ]
     },
     "execution_count": 155,
     "metadata": {},
     "output_type": "execute_result"
    }
   ],
   "source": [
    "np.sum(labels<42.69)"
   ]
  },
  {
   "cell_type": "code",
   "execution_count": 171,
   "metadata": {
    "collapsed": false
   },
   "outputs": [
    {
     "data": {
      "text/plain": [
       "[42.690000000000005,\n",
       " 54.0,\n",
       " 69.799999999999997,\n",
       " 85.900000000000006,\n",
       " 109.0,\n",
       " 131.0,\n",
       " 155.63,\n",
       " 177.25999999999999,\n",
       " 208.78999999999999]"
      ]
     },
     "execution_count": 171,
     "metadata": {},
     "output_type": "execute_result"
    }
   ],
   "source": [
    "[np.percentile(labels, 10*i) for i in range(1,10)]"
   ]
  },
  {
   "cell_type": "code",
   "execution_count": 4,
   "metadata": {
    "collapsed": true
   },
   "outputs": [],
   "source": [
    "def make_class_label(y):\n",
    "    ''' Return an encoded version of y in one of 10 percentile classes '''\n",
    "    y = np.array(y).astype(int)\n",
    "    encodings = np.zeros((y.shape[0], 2))\n",
    "    for i in range(y.shape[0]):\n",
    "        if y[i] < 100.:\n",
    "            encodings[i, 0] = 1.\n",
    "        else:\n",
    "            encodings[i, 1] = 1.\n",
    "\n",
    "    return encodings"
   ]
  },
  {
   "cell_type": "code",
   "execution_count": 16,
   "metadata": {
    "collapsed": true
   },
   "outputs": [],
   "source": [
    "enc = make_class_label(labels)"
   ]
  },
  {
   "cell_type": "markdown",
   "metadata": {},
   "source": [
    "## Evaluate the UNDER-110 Model"
   ]
  },
  {
   "cell_type": "code",
   "execution_count": 304,
   "metadata": {
    "collapsed": true
   },
   "outputs": [],
   "source": [
    "RUN_NAME = 'CRPS-MODEL-3.0'\n",
    "DATA_DIR = 'netdata'\n",
    "ITERS = 100000\n",
    "START_ITER = 0\n",
    "MODEL_LOAD_PATH = None\n",
    "PIC_WIDTH = 32\n",
    "### Architectural Hyperparameters\n",
    "DEPTH_1 = 20         # The output depth of the first convolutional layer\n",
    "DEPTH_2 = 40         # The output depth of the second convolutional layer\n",
    "DEPTH_3 = 80         # The output depth of the second convolutional layer\n",
    "DEPTH_4 = 150        # The output depth of the second convolutional layer\n",
    "DEPTH_5 = 150        # The output depth of the second convolutional layer\n",
    "DEPTH_6 = 150        # The output depth of the second convolutional layer\n",
    "NUM_HIDDEN = 400     # Number of hidden units in the hidden layer\n",
    "NUM_OUTPUTS = 600    # Number of output classes in the softmax layer\n",
    "KERNEL_X = 3         # The width of the convolution kernel (using same for 1st and 2nd layers)\n",
    "KERNEL_Y = 3         # The height of the convolution kernel (using same for 1st and 2nd layers)\n",
    "mu = 0.0001\n",
    "LEARNING_RATE = 1e-4\n",
    "REGULARIZE_BIAS = False\n",
    "NUM_INPUTS = 3       # Number of input channels\n",
    "NUM_REPS = 64\n",
    "TRAIN_LABEL_NOISE_STD = 2.\n",
    "TRAIN_LABEL_SMOOTHING_STD = 0.\n",
    "DATA_AUGMENTATION = True\n",
    "ENLARGED = False\n",
    "SHIFT = False\n",
    "DIASTOLE = False\n",
    "UNDER = False\n",
    "DATA_MEDIAN_FILTER = False\n",
    "WEIGHTS_PATH = None\n",
    "##################################################################################################\n",
    "NUM_INPUTS = 9       # Number of input channels\n",
    "NUM_REPS = 144\n",
    "TRAIN_LABEL_NOISE_STD = 1.\n",
    "TRAIN_LABEL_SMOOTHING_STD = 2.\n",
    "DATA_AUGMENTATION = True\n",
    "RUN_NAME = 'UNDER2-110'\n",
    "UNDER = True\n",
    "LEARNING_RATE = 1e-3"
   ]
  },
  {
   "cell_type": "code",
   "execution_count": 306,
   "metadata": {
    "collapsed": false
   },
   "outputs": [],
   "source": [
    "graph = tf.Graph()\n",
    "with graph.as_default():\n",
    "    ####################################### INPUT/OUTPUT PLACEHOLDERS ##############################################\n",
    "    x = tf.placeholder(tf.float32, shape=[None, PIC_WIDTH, PIC_WIDTH, NUM_INPUTS]) #Placeholder for the input images\n",
    "    y_ = tf.placeholder(tf.float32, shape=[None, NUM_OUTPUTS]) #Placeholder for the label cdfs\n",
    "\n",
    "    ####################################### FIRST CONVOLUTIONAL LAYER ##############################################\n",
    "    # The weight tensor has dimensions [kernel_size_x, kernel_size_y, num_input_channels, num_output_channels]\n",
    "    W_conv1 = weight_variable([KERNEL_X, KERNEL_Y, NUM_INPUTS, DEPTH_1])\n",
    "    b_conv1 = bias_variable([DEPTH_1])\n",
    "    #Take the input image, reshape it to a 4D tensor with dimensions: [_, image_width, image_height, num_channels]\n",
    "    #x_image = tf.reshape(x, [-1,32,32,3])\n",
    "    # Convolve with kernel -> add bias -> apply ReLU -> max pool \n",
    "    h_conv1 = tf.nn.relu(conv2d(x, W_conv1) + b_conv1)\n",
    "    h_pool1 = max_pool_2x2(h_conv1)\n",
    "\n",
    "    ####################################### SECOND CONVOLUTIONAL LAYER ##############################################\n",
    "    W_conv2 = weight_variable([KERNEL_X, KERNEL_Y, DEPTH_1, DEPTH_2])\n",
    "    b_conv2 = bias_variable([DEPTH_2])\n",
    "\n",
    "    h_conv2 = tf.nn.relu(conv2d(h_pool1, W_conv2) + b_conv2)\n",
    "    h_pool2 = max_pool_2x2(h_conv2)\n",
    "\n",
    "    ####################################### THIRD CONVOLUTIONAL LAYER ##############################################\n",
    "    W_conv3 = weight_variable([KERNEL_X, KERNEL_Y, DEPTH_2, DEPTH_3])\n",
    "    b_conv3 = bias_variable([DEPTH_3])\n",
    "\n",
    "    h_conv3 = tf.nn.relu(conv2d(h_pool2, W_conv3) + b_conv3)\n",
    "    h_pool3 = max_pool_2x2(h_conv3)\n",
    "\n",
    "    ####################################### FOURTH CONVOLUTIONAL LAYER ##############################################\n",
    "    #W_conv4 = weight_variable([KERNEL_X, KERNEL_Y, DEPTH_3, DEPTH_4])\n",
    "    W_conv4 = weight_variable([2, 2, DEPTH_3, DEPTH_4]) #Modified this to support 5x5\n",
    "    b_conv4 = bias_variable([DEPTH_4])\n",
    "\n",
    "    h_conv4 = tf.nn.relu(conv2d(h_pool3, W_conv4) + b_conv4)\n",
    "    h_pool4 = max_pool_2x2(h_conv4)\n",
    "    # ####################################### FIFTH CONVOLUTIONAL LAYER ##############################################\n",
    "    #This layer uses a 1x1 convolution\n",
    "    W_conv5 = weight_variable([1, 1, DEPTH_4, DEPTH_5])\n",
    "    b_conv5 = bias_variable([DEPTH_5])\n",
    "\n",
    "    h_conv5 = tf.nn.relu(conv2d(h_pool4, W_conv5) + b_conv5)\n",
    "    h_pool5 = tf.nn.avg_pool(h_conv5,ksize=[1, 2, 2, 1], strides=[1, 2, 2, 1], padding='SAME')\n",
    "    h_pool5_flat = tf.reshape(h_pool5, [-1, DEPTH_6])\n",
    "\n",
    "    ############################################### DROPOUT ##########################################################\n",
    "    keep_prob = tf.placeholder(tf.float32)\n",
    "    h_fc1_drop = tf.nn.dropout(h_pool5_flat, keep_prob)\n",
    "\n",
    "    ############################################# SOFTMAX OUTPUT LAYER ###############################################\n",
    "    W_fc2 = weight_variable([DEPTH_5, NUM_OUTPUTS])\n",
    "    b_fc2 = bias_variable([NUM_OUTPUTS])\n",
    "\n",
    "    y_conv=tf.nn.softmax(tf.matmul(h_fc1_drop, W_fc2) + b_fc2)\n",
    "\n",
    "    #Cumulative sum\n",
    "    y = cumsum(y_conv)\n",
    "    ##################################### SETTING UP THE OPTIMISATION PROBLEM #####################################\n",
    "    crps = tf.reduce_mean(tf.reduce_mean(tf.square(y - y_), 1)) #y_ here should be the label cdfs\n",
    "    ### Could add learning rate decay here - 1e-4 is the current learning rate\n",
    "    loss = crps + mu*(tf.nn.l2_loss(W_conv1) + tf.nn.l2_loss(W_conv2)\n",
    "                    + tf.nn.l2_loss(W_conv3) + tf.nn.l2_loss(W_conv4)\n",
    "                    + tf.nn.l2_loss(W_conv5) + tf.nn.l2_loss(W_fc2))\n",
    "    if REGULARIZE_BIAS:\n",
    "        loss += mu*(tf.nn.l2_loss(b_conv1) + tf.nn.l2_loss(b_conv2)\n",
    "                + tf.nn.l2_loss(b_conv3) + tf.nn.l2_loss(b_conv4)\n",
    "                + tf.nn.l2_loss(b_conv5) + tf.nn.l2_loss(b_fc2))\n",
    "\n",
    "    train_step = tf.train.AdamOptimizer(LEARNING_RATE).minimize(loss)\n",
    "\n",
    "    mean_y = tf.reduce_mean(tf.reshape(y,(-1, NUM_REPS, NUM_OUTPUTS)), 1)\n",
    "    mean_crps = tf.reduce_mean(tf.reduce_mean(tf.square(mean_y - y_), 1))\n",
    "\n",
    "    mean_crps_summ = tf.scalar_summary(\"mean crps\", mean_crps)\n",
    "    crps_summ = tf.scalar_summary(\"crps\", crps)\n"
   ]
  },
  {
   "cell_type": "code",
   "execution_count": 307,
   "metadata": {
    "collapsed": true
   },
   "outputs": [],
   "source": [
    "MODEL_LOAD_PATH = 'UNDER2-110/model-37000'\n",
    "under_cdfs = []"
   ]
  },
  {
   "cell_type": "code",
   "execution_count": 310,
   "metadata": {
    "collapsed": false
   },
   "outputs": [
    {
     "data": {
      "text/plain": [
       "(200, 600)"
      ]
     },
     "execution_count": 310,
     "metadata": {},
     "output_type": "execute_result"
    }
   ],
   "source": [
    "#Do this 50 at a time -> 0:50, 50:100, 100:150, 150:200\n",
    "X, y = batch(test[:,100:200], [])\n",
    "under_cdfs = list(under_cdfs)\n",
    "with tf.Session(graph=graph) as session:\n",
    "    saver = tf.train.Saver()\n",
    "    saver.restore(session, MODEL_LOAD_PATH)\n",
    "    under_cdfs.extend(mean_y.eval(feed_dict={x:X, keep_prob: 1}))\n",
    "\n",
    "under_cdfs = np.array(under_cdfs)\n",
    "under_cdfs.shape"
   ]
  },
  {
   "cell_type": "markdown",
   "metadata": {},
   "source": [
    "### Smooth the CDFs"
   ]
  },
  {
   "cell_type": "code",
   "execution_count": 311,
   "metadata": {
    "collapsed": true
   },
   "outputs": [],
   "source": [
    "width = 20\n",
    "h = np.ones(width)/float(width)\n",
    "smooth_under_cdfs = np.zeros_like(under_cdfs)\n",
    "for i in range(under_cdfs.shape[0]):\n",
    "    smoos = np.convolve(h,under_cdfs[i])\n",
    "    smoos = smoos[width/2:-(width/2 - 1)]\n",
    "    smoos[-(width/2):] = 1.\n",
    "    smooth_under_cdfs[i,:] = smoos\n",
    "under_110_errs = np.mean(np.square(smooth_under_cdfs[:] - make_cdf(test_labels[:])), 1)"
   ]
  },
  {
   "cell_type": "code",
   "execution_count": 312,
   "metadata": {
    "collapsed": false
   },
   "outputs": [
    {
     "data": {
      "text/plain": [
       "0.067574985609096541"
      ]
     },
     "execution_count": 312,
     "metadata": {},
     "output_type": "execute_result"
    }
   ],
   "source": [
    "under_110_errs.mean()"
   ]
  },
  {
   "cell_type": "code",
   "execution_count": 329,
   "metadata": {
    "collapsed": false
   },
   "outputs": [
    {
     "data": {
      "text/plain": [
       "0.012421334803685674"
      ]
     },
     "execution_count": 329,
     "metadata": {},
     "output_type": "execute_result"
    }
   ],
   "source": [
    "mask = (test_labels < 100)#*(test_labels > 80)\n",
    "under_110_errs[mask].mean()#, over_80_errs[mask].mean()"
   ]
  },
  {
   "cell_type": "code",
   "execution_count": 330,
   "metadata": {
    "collapsed": false
   },
   "outputs": [
    {
     "data": {
      "text/plain": [
       "0.0016563054325861061"
      ]
     },
     "execution_count": 330,
     "metadata": {},
     "output_type": "execute_result"
    }
   ],
   "source": [
    "best_errs[mask].mean() - under_110_errs[mask].mean()"
   ]
  },
  {
   "cell_type": "code",
   "execution_count": 323,
   "metadata": {
    "collapsed": false
   },
   "outputs": [
    {
     "data": {
      "text/plain": [
       "<matplotlib.collections.PathCollection at 0x12f995b90>"
      ]
     },
     "execution_count": 323,
     "metadata": {},
     "output_type": "execute_result"
    },
    {
     "data": {
      "image/png": "[encoded data removed]",
      "text/plain": [
       "<matplotlib.figure.Figure at 0x14293c110>"
      ]
     },
     "metadata": {},
     "output_type": "display_data"
    }
   ],
   "source": [
    "plt.scatter(test_labels, under_110_errs)\n",
    "#plt.scatter(test_labels, over_80_errs, c='r')"
   ]
  },
  {
   "cell_type": "code",
   "execution_count": 433,
   "metadata": {
    "collapsed": false
   },
   "outputs": [
    {
     "data": {
      "text/plain": [
       "(200,)"
      ]
     },
     "execution_count": 433,
     "metadata": {},
     "output_type": "execute_result"
    }
   ],
   "source": [
    "pests = np.argmax(best_cdfs > 0.5, axis=1)\n",
    "pests.shape"
   ]
  },
  {
   "cell_type": "code",
   "execution_count": null,
   "metadata": {
    "collapsed": true
   },
   "outputs": [],
   "source": []
  },
  {
   "cell_type": "code",
   "execution_count": 434,
   "metadata": {
    "collapsed": false
   },
   "outputs": [
    {
     "data": {
      "text/plain": [
       "<matplotlib.collections.PathCollection at 0x142eafdd0>"
      ]
     },
     "execution_count": 434,
     "metadata": {},
     "output_type": "execute_result"
    },
    {
     "data": {
      "image/png": "[encoded data removed]",
      "text/plain": [
       "<matplotlib.figure.Figure at 0x142de0790>"
      ]
     },
     "metadata": {},
     "output_type": "display_data"
    }
   ],
   "source": [
    "plt.scatter(test_labels, pests)"
   ]
  },
  {
   "cell_type": "markdown",
   "metadata": {},
   "source": [
    "## Evaluate the OVER-80 Model"
   ]
  },
  {
   "cell_type": "code",
   "execution_count": 4,
   "metadata": {
    "collapsed": true
   },
   "outputs": [],
   "source": [
    "RUN_NAME = 'CRPS-MODEL-3.0'\n",
    "DATA_DIR = 'netdata'\n",
    "ITERS = 100000\n",
    "START_ITER = 0\n",
    "MODEL_LOAD_PATH = None\n",
    "PIC_WIDTH = 32\n",
    "### Architectural Hyperparameters\n",
    "DEPTH_1 = 20         # The output depth of the first convolutional layer\n",
    "DEPTH_2 = 40         # The output depth of the second convolutional layer\n",
    "DEPTH_3 = 80         # The output depth of the second convolutional layer\n",
    "DEPTH_4 = 150        # The output depth of the second convolutional layer\n",
    "DEPTH_5 = 150        # The output depth of the second convolutional layer\n",
    "DEPTH_6 = 150        # The output depth of the second convolutional layer\n",
    "NUM_HIDDEN = 400     # Number of hidden units in the hidden layer\n",
    "NUM_OUTPUTS = 600    # Number of output classes in the softmax layer\n",
    "KERNEL_X = 3         # The width of the convolution kernel (using same for 1st and 2nd layers)\n",
    "KERNEL_Y = 3         # The height of the convolution kernel (using same for 1st and 2nd layers)\n",
    "mu = 0.0001\n",
    "LEARNING_RATE = 1e-4\n",
    "\n",
    "REGULARIZE_BIAS = False\n",
    "\n",
    "\n",
    "NUM_INPUTS = 3       # Number of input channels\n",
    "NUM_REPS = 64\n",
    "MBSIZE = 100\n",
    "\n",
    "TRAIN_LABEL_NOISE_STD = 2.\n",
    "TRAIN_LABEL_SMOOTHING_STD = 0.\n",
    "DATA_AUGMENTATION = False\n",
    "\n",
    "DATA_MEDIAN_FILTER = False\n",
    "DATA_UNIT_VAR = False\n",
    "VAL_PER = 1000\n",
    "DROPOUT = 0.5\n",
    "ALSO_MIN_RMSE = False\n",
    "TEMP_DIR_PATH = '.'\n",
    "TRAIN_ALL = False\n",
    "FILTER_BY_LABEL = False\n",
    "\n",
    "############################\n",
    "NUM_INPUTS = 9       # Number of input channels\n",
    "NUM_REPS = 144\n",
    "TRAIN_LABEL_NOISE_STD = 1.\n",
    "TRAIN_LABEL_SMOOTHING_STD = 2.\n",
    "DATA_AUGMENTATION = True\n",
    "RUN_NAME = 'OVER-80'\n",
    "FILTER_BY_LABEL = True\n",
    "LEARNING_RATE = 1e-3\n",
    "MBSIZE = 2000\n",
    "VAL_PER = 200"
   ]
  },
  {
   "cell_type": "code",
   "execution_count": 5,
   "metadata": {
    "collapsed": true
   },
   "outputs": [],
   "source": [
    "graph = tf.Graph()\n",
    "with graph.as_default():\n",
    "    ####################################### INPUT/OUTPUT PLACEHOLDERS ##############################################\n",
    "    x = tf.placeholder(tf.float32, shape=[None, PIC_WIDTH, PIC_WIDTH, NUM_INPUTS]) #Placeholder for the input images\n",
    "    y_ = tf.placeholder(tf.float32, shape=[None, NUM_OUTPUTS]) #Placeholder for the label cdfs\n",
    "    y_pests = tf.placeholder(tf.float32, shape=[None])\n",
    "    lr = tf.placeholder(tf.float32)\n",
    "    ####################################### FIRST CONVOLUTIONAL LAYER ##############################################\n",
    "    # The weight tensor has dimensions [kernel_size_x, kernel_size_y, num_input_channels, num_output_channels]\n",
    "    W_conv1 = weight_variable([KERNEL_X, KERNEL_Y, NUM_INPUTS, DEPTH_1])\n",
    "    b_conv1 = bias_variable([DEPTH_1])\n",
    "\n",
    "    h_conv1 = tf.nn.relu(conv2d(x, W_conv1) + b_conv1)\n",
    "    h_pool1 = max_pool_2x2(h_conv1)\n",
    "\n",
    "    ####################################### SECOND CONVOLUTIONAL LAYER ##############################################\n",
    "    W_conv2 = weight_variable([KERNEL_X, KERNEL_Y, DEPTH_1, DEPTH_2])\n",
    "    b_conv2 = bias_variable([DEPTH_2])\n",
    "\n",
    "    h_conv2 = tf.nn.relu(conv2d(h_pool1, W_conv2) + b_conv2)\n",
    "    h_pool2 = max_pool_2x2(h_conv2)\n",
    "\n",
    "    ####################################### THIRD CONVOLUTIONAL LAYER ##############################################\n",
    "    W_conv3 = weight_variable([KERNEL_X, KERNEL_Y, DEPTH_2, DEPTH_3])\n",
    "    b_conv3 = bias_variable([DEPTH_3])\n",
    "\n",
    "    h_conv3 = tf.nn.relu(conv2d(h_pool2, W_conv3) + b_conv3)\n",
    "    h_pool3 = max_pool_2x2(h_conv3)\n",
    "\n",
    "    ####################################### FOURTH CONVOLUTIONAL LAYER ##############################################\n",
    "    W_conv4 = weight_variable([KERNEL_X, KERNEL_Y, DEPTH_3, DEPTH_4])\n",
    "    b_conv4 = bias_variable([DEPTH_4])\n",
    "\n",
    "    h_conv4 = tf.nn.relu(conv2d(h_pool3, W_conv4) + b_conv4)\n",
    "    h_pool4 = max_pool_2x2(h_conv4)\n",
    "    # ####################################### FIFTH CONVOLUTIONAL LAYER ##############################################\n",
    "    W_conv5 = weight_variable([1, 1, DEPTH_4, DEPTH_5])\n",
    "    b_conv5 = bias_variable([DEPTH_5])\n",
    "\n",
    "    h_conv5 = tf.nn.relu(conv2d(h_pool4, W_conv5) + b_conv5)\n",
    "    h_pool5 = tf.nn.avg_pool(h_conv5,ksize=[1, 2, 2, 1], strides=[1, 2, 2, 1], padding='SAME')\n",
    "    h_pool5_flat = tf.reshape(h_pool5, [-1, DEPTH_6])\n",
    "\n",
    "    ############################################### DROPOUT ##########################################################\n",
    "    keep_prob = tf.placeholder(tf.float32)\n",
    "    h_fc1_drop = tf.nn.dropout(h_pool5_flat, keep_prob)\n",
    "\n",
    "    ############################################# SOFTMAX OUTPUT LAYER ###############################################\n",
    "    W_fc2 = weight_variable([DEPTH_5, NUM_OUTPUTS])\n",
    "    b_fc2 = bias_variable([NUM_OUTPUTS])\n",
    "\n",
    "    y_conv=tf.nn.softmax(tf.matmul(h_fc1_drop, W_fc2) + b_fc2)\n",
    "\n",
    "    #Cumulative sum\n",
    "    y = cumsum(y_conv)\n",
    "    ##################################### SETTING UP THE OPTIMISATION PROBLEM #####################################\n",
    "    l2 =  mu*(tf.nn.l2_loss(W_conv1) + tf.nn.l2_loss(W_conv2)\n",
    "                    + tf.nn.l2_loss(W_conv3) + tf.nn.l2_loss(W_conv4)\n",
    "                    + tf.nn.l2_loss(W_conv5) + tf.nn.l2_loss(W_fc2))\n",
    "    if REGULARIZE_BIAS:\n",
    "        l2 += mu*(tf.nn.l2_loss(b_conv1) + tf.nn.l2_loss(b_conv2)\n",
    "                + tf.nn.l2_loss(b_conv3) + tf.nn.l2_loss(b_conv4)\n",
    "                + tf.nn.l2_loss(b_conv5) + tf.nn.l2_loss(b_fc2))\n",
    "\n",
    "    labs = tf.constant(np.arange(600, dtype='float32').reshape((1,-1)))\n",
    "    point = tf.reduce_sum(y_conv*labs, 1)\n",
    "    rmse = tf.sqrt(tf.reduce_mean(tf.square(point - y_pests)))\n",
    "    rmse_loss = rmse + l2\n",
    "    rmse_train_step = tf.train.AdamOptimizer(lr).minimize(rmse_loss)\n",
    "\n",
    "    crps = tf.reduce_mean(tf.square(y - y_)) #y_ here should be the label cdfs\n",
    "    ### Could add learning rate decay here - 1e-4 is the current learning rate\n",
    "    loss = crps + l2\n",
    "    train_step = tf.train.AdamOptimizer(lr).minimize(loss)\n",
    "\n",
    "    mean_y = tf.reduce_mean(tf.reshape(y,(-1, NUM_REPS, NUM_OUTPUTS)), 1)\n",
    "    mean_crps = tf.reduce_mean(tf.square(mean_y - y_))\n",
    "\n",
    "    mean_crps_summ = tf.scalar_summary(\"mean crps\", mean_crps)\n",
    "    crps_summ = tf.scalar_summary(\"crps\", crps)"
   ]
  },
  {
   "cell_type": "code",
   "execution_count": 6,
   "metadata": {
    "collapsed": true
   },
   "outputs": [],
   "source": [
    "MODEL_LOAD_PATH = 'OVER-80/model-45000'\n",
    "cdfs = []"
   ]
  },
  {
   "cell_type": "code",
   "execution_count": 9,
   "metadata": {
    "collapsed": true
   },
   "outputs": [],
   "source": [
    "#Do this 50 at a time -> 0:50, 50:100, 100:150, 150:200\n",
    "X, y = batch(test[:,100:200], [])\n",
    "cdfs = list(cdfs)\n",
    "with tf.Session(graph=graph) as session:\n",
    "    saver = tf.train.Saver()\n",
    "    saver.restore(session, MODEL_LOAD_PATH)\n",
    "    cdfs.extend(mean_y.eval(feed_dict={x:X, keep_prob: 1}))\n",
    "\n",
    "cdfs = np.array(cdfs)"
   ]
  },
  {
   "cell_type": "code",
   "execution_count": 10,
   "metadata": {
    "collapsed": false
   },
   "outputs": [
    {
     "data": {
      "text/plain": [
       "(200, 600)"
      ]
     },
     "execution_count": 10,
     "metadata": {},
     "output_type": "execute_result"
    }
   ],
   "source": [
    "cdfs.shape"
   ]
  },
  {
   "cell_type": "code",
   "execution_count": 11,
   "metadata": {
    "collapsed": true
   },
   "outputs": [],
   "source": [
    "over_80_errs = np.mean(np.square(cdfs[:] - make_cdf(test_labels[:])), 1)"
   ]
  },
  {
   "cell_type": "markdown",
   "metadata": {},
   "source": [
    "### Smooth the CDFs"
   ]
  },
  {
   "cell_type": "code",
   "execution_count": 218,
   "metadata": {
    "collapsed": true
   },
   "outputs": [],
   "source": [
    "width = 20\n",
    "h = np.ones(width)/float(width)\n",
    "smooth_cdfs = np.zeros_like(cdfs)\n",
    "for i in range(cdfs.shape[0]):\n",
    "    smoos = np.convolve(h,cdfs[i])\n",
    "    smoos = smoos[width/2:-(width/2 - 1)]\n",
    "    smoos[-(width/2):] = 1.\n",
    "    smooth_cdfs[i,:] = smoos\n",
    "over_80_errs = np.mean(np.square(smooth_cdfs[:] - make_cdf(test_labels[:])), 1)"
   ]
  },
  {
   "cell_type": "code",
   "execution_count": 219,
   "metadata": {
    "collapsed": false
   },
   "outputs": [
    {
     "data": {
      "text/plain": [
       "0.023254210163210762"
      ]
     },
     "execution_count": 219,
     "metadata": {},
     "output_type": "execute_result"
    }
   ],
   "source": [
    "mask = (test_labels > 100)#*(test_labels < 100)\n",
    "over_80_errs[mask].mean()"
   ]
  },
  {
   "cell_type": "code",
   "execution_count": 118,
   "metadata": {
    "collapsed": false
   },
   "outputs": [
    {
     "data": {
      "text/plain": [
       "<matplotlib.collections.PathCollection at 0x13180f210>"
      ]
     },
     "execution_count": 118,
     "metadata": {},
     "output_type": "execute_result"
    },
    {
     "data": {
      "image/png": "[encoded data removed]",
      "text/plain": [
       "<matplotlib.figure.Figure at 0x12ecee310>"
      ]
     },
     "metadata": {},
     "output_type": "display_data"
    }
   ],
   "source": [
    "plt.scatter(test_labels, over_80_errs)"
   ]
  },
  {
   "cell_type": "markdown",
   "metadata": {},
   "source": [
    "## Evaluating the best model"
   ]
  },
  {
   "cell_type": "code",
   "execution_count": null,
   "metadata": {
    "collapsed": true
   },
   "outputs": [],
   "source": [
    "RUN_NAME = 'CRPS-MODEL-3.0'\n",
    "DATA_DIR = 'netdata'\n",
    "ITERS = 100000\n",
    "START_ITER = 0\n",
    "MODEL_LOAD_PATH = None\n",
    "PIC_WIDTH = 32\n",
    "### Architectural Hyperparameters\n",
    "DEPTH_1 = 20         # The output depth of the first convolutional layer\n",
    "DEPTH_2 = 40         # The output depth of the second convolutional layer\n",
    "DEPTH_3 = 80         # The output depth of the second convolutional layer\n",
    "DEPTH_4 = 150        # The output depth of the second convolutional layer\n",
    "DEPTH_5 = 150        # The output depth of the second convolutional layer\n",
    "DEPTH_6 = 150        # The output depth of the second convolutional layer\n",
    "NUM_HIDDEN = 400     # Number of hidden units in the hidden layer\n",
    "NUM_OUTPUTS = 600    # Number of output classes in the softmax layer\n",
    "KERNEL_X = 3         # The width of the convolution kernel (using same for 1st and 2nd layers)\n",
    "KERNEL_Y = 3         # The height of the convolution kernel (using same for 1st and 2nd layers)\n",
    "mu = 0.0001\n",
    "LEARNING_RATE = 1e-4\n",
    "\n",
    "REGULARIZE_BIAS = False\n",
    "\n",
    "\n",
    "NUM_INPUTS = 3       # Number of input channels\n",
    "NUM_REPS = 64\n",
    "MBSIZE = 100\n",
    "\n",
    "TRAIN_LABEL_NOISE_STD = 2.\n",
    "TRAIN_LABEL_SMOOTHING_STD = 0.\n",
    "DATA_AUGMENTATION = False\n",
    "\n",
    "DATA_MEDIAN_FILTER = False\n",
    "DATA_UNIT_VAR = False\n",
    "VAL_PER = 1000\n",
    "DROPOUT = 0.5\n",
    "ALSO_MIN_RMSE = False\n",
    "TEMP_DIR_PATH = '.'\n",
    "TRAIN_ALL = False\n",
    "FILTER_BY_LABEL = False\n",
    "#########################################\n",
    "NUM_INPUTS = 9       # Number of input channels\n",
    "NUM_REPS = 144\n",
    "TRAIN_LABEL_NOISE_STD = 1.\n",
    "TRAIN_LABEL_SMOOTHING_STD = 2.\n",
    "DATA_AUGMENTATION = True\n",
    "RUN_NAME = 'AUG-EXP'"
   ]
  },
  {
   "cell_type": "code",
   "execution_count": null,
   "metadata": {
    "collapsed": true
   },
   "outputs": [],
   "source": [
    "MODEL_LOAD_PATH = 'AUG-EXP/model-9800'\n",
    "best_cdfs = []"
   ]
  },
  {
   "cell_type": "code",
   "execution_count": null,
   "metadata": {
    "collapsed": true
   },
   "outputs": [],
   "source": [
    "graph = tf.Graph()\n",
    "with graph.as_default():\n",
    "    ####################################### INPUT/OUTPUT PLACEHOLDERS ##############################################\n",
    "    x = tf.placeholder(tf.float32, shape=[None, PIC_WIDTH, PIC_WIDTH, NUM_INPUTS]) #Placeholder for the input images\n",
    "    y_ = tf.placeholder(tf.float32, shape=[None, NUM_OUTPUTS]) #Placeholder for the label cdfs\n",
    "    weights = tf.placeholder(tf.float32, shape=[None, 1])\n",
    "\n",
    "    ####################################### FIRST CONVOLUTIONAL LAYER ##############################################\n",
    "    # The weight tensor has dimensions [kernel_size_x, kernel_size_y, num_input_channels, num_output_channels]\n",
    "    W_conv1 = weight_variable([KERNEL_X, KERNEL_Y, NUM_INPUTS, DEPTH_1])\n",
    "    b_conv1 = bias_variable([DEPTH_1])\n",
    "    #Take the input image, reshape it to a 4D tensor with dimensions: [_, image_width, image_height, num_channels]\n",
    "    #x_image = tf.reshape(x, [-1,32,32,3])\n",
    "    # Convolve with kernel -> add bias -> apply ReLU -> max pool \n",
    "    h_conv1 = tf.nn.relu(conv2d(x, W_conv1) + b_conv1)\n",
    "    h_pool1 = max_pool_2x2(h_conv1)\n",
    "\n",
    "    ####################################### SECOND CONVOLUTIONAL LAYER ##############################################\n",
    "    W_conv2 = weight_variable([KERNEL_X, KERNEL_Y, DEPTH_1, DEPTH_2])\n",
    "    b_conv2 = bias_variable([DEPTH_2])\n",
    "\n",
    "    h_conv2 = tf.nn.relu(conv2d(h_pool1, W_conv2) + b_conv2)\n",
    "    h_pool2 = max_pool_2x2(h_conv2)\n",
    "\n",
    "    ####################################### THIRD CONVOLUTIONAL LAYER ##############################################\n",
    "    W_conv3 = weight_variable([KERNEL_X, KERNEL_Y, DEPTH_2, DEPTH_3])\n",
    "    b_conv3 = bias_variable([DEPTH_3])\n",
    "\n",
    "    h_conv3 = tf.nn.relu(conv2d(h_pool2, W_conv3) + b_conv3)\n",
    "    h_pool3 = max_pool_2x2(h_conv3)\n",
    "\n",
    "    ####################################### FOURTH CONVOLUTIONAL LAYER ##############################################\n",
    "    W_conv4 = weight_variable([KERNEL_X, KERNEL_Y, DEPTH_3, DEPTH_4])\n",
    "    #W_conv4 = weight_variable([2, 2, DEPTH_3, DEPTH_4]) #Modified this to support 5x5\n",
    "    b_conv4 = bias_variable([DEPTH_4])\n",
    "\n",
    "    h_conv4 = tf.nn.relu(conv2d(h_pool3, W_conv4) + b_conv4)\n",
    "    h_pool4 = max_pool_2x2(h_conv4)\n",
    "    # ####################################### FIFTH CONVOLUTIONAL LAYER ##############################################\n",
    "    #This layer uses a 1x1 convolution\n",
    "    W_conv5 = weight_variable([1, 1, DEPTH_4, DEPTH_5])\n",
    "    b_conv5 = bias_variable([DEPTH_5])\n",
    "\n",
    "    h_conv5 = tf.nn.relu(conv2d(h_pool4, W_conv5) + b_conv5)\n",
    "    h_pool5 = tf.nn.avg_pool(h_conv5,ksize=[1, 2, 2, 1], strides=[1, 2, 2, 1], padding='SAME')\n",
    "    h_pool5_flat = tf.reshape(h_pool5, [-1, DEPTH_6])\n",
    "\n",
    "    ############################################### DROPOUT ##########################################################\n",
    "    keep_prob = tf.placeholder(tf.float32)\n",
    "    h_fc1_drop = tf.nn.dropout(h_pool5_flat, keep_prob)\n",
    "\n",
    "    ############################################# SOFTMAX OUTPUT LAYER ###############################################\n",
    "    W_fc2 = weight_variable([DEPTH_5, NUM_OUTPUTS])\n",
    "    b_fc2 = bias_variable([NUM_OUTPUTS])\n",
    "\n",
    "    y_conv=tf.nn.softmax(tf.matmul(h_fc1_drop, W_fc2) + b_fc2)\n",
    "\n",
    "    #Cumulative sum\n",
    "    y = cumsum(y_conv)\n",
    "    ##################################### SETTING UP THE OPTIMISATION PROBLEM #####################################\n",
    "    crps = tf.reduce_mean(tf.reduce_mean(tf.square(y - y_), 1)*weights) #y_ here should be the label cdfs\n",
    "    ### Could add learning rate decay here - 1e-4 is the current learning rate\n",
    "    loss = crps + mu*(tf.nn.l2_loss(W_conv1) + tf.nn.l2_loss(W_conv2)\n",
    "                    + tf.nn.l2_loss(W_conv3) + tf.nn.l2_loss(W_conv4)\n",
    "                    + tf.nn.l2_loss(W_conv5) + tf.nn.l2_loss(W_fc2))\n",
    "#     if REGULARIZE_BIAS:\n",
    "#         loss += mu*(tf.nn.l2_loss(b_conv1) + tf.nn.l2_loss(b_conv2)\n",
    "#                 + tf.nn.l2_loss(b_conv3) + tf.nn.l2_loss(b_conv4)\n",
    "#                 + tf.nn.l2_loss(b_conv5) + tf.nn.l2_loss(b_fc2))\n",
    "\n",
    "    train_step = tf.train.AdamOptimizer(LEARNING_RATE).minimize(loss)\n",
    "\n",
    "    mean_y = tf.reduce_mean(tf.reshape(y,(-1, NUM_REPS, NUM_OUTPUTS)), 1)\n",
    "    mean_crps = tf.reduce_mean(tf.reduce_mean(tf.square(mean_y - y_), 1)*weights)\n",
    "\n",
    "    mean_crps_summ = tf.scalar_summary(\"mean crps\", mean_crps)\n",
    "    crps_summ = tf.scalar_summary(\"crps\", crps)"
   ]
  },
  {
   "cell_type": "code",
   "execution_count": null,
   "metadata": {
    "collapsed": true
   },
   "outputs": [],
   "source": [
    "X, y = batch(test[:,100:200], [])\n",
    "best_cdfs = list(best_cdfs)\n",
    "with tf.Session(graph=graph) as session:\n",
    "    saver = tf.train.Saver()\n",
    "    saver.restore(session, MODEL_LOAD_PATH)\n",
    "    best_cdfs.extend(mean_y.eval(feed_dict={x:X, keep_prob: 1}))\n",
    "\n",
    "best_cdfs = np.array(best_cdfs)\n",
    "best_cdfs.shape"
   ]
  },
  {
   "cell_type": "code",
   "execution_count": 428,
   "metadata": {
    "collapsed": true
   },
   "outputs": [],
   "source": [
    "np.save('best_cdfs.npy', smooth_best_cdfs)\n",
    "np.save('over_80_cdfs.npy', smooth_cdfs)\n",
    "np.save('under_110_cdfs.npy', smooth_under_cdfs)\n",
    "np.save('classifier_predictions.npy', class_pred)"
   ]
  },
  {
   "cell_type": "code",
   "execution_count": 427,
   "metadata": {
    "collapsed": false
   },
   "outputs": [
    {
     "data": {
      "text/plain": [
       "array([ 0.96363002,  0.39884675,  0.9598344 ,  0.27593374,  0.99998689,\n",
       "        0.28982264,  0.81741428,  0.27842405,  0.9994418 ,  0.54476768], dtype=float32)"
      ]
     },
     "execution_count": 427,
     "metadata": {},
     "output_type": "execute_result"
    }
   ],
   "source": [
    "class_pred[:10]"
   ]
  },
  {
   "cell_type": "code",
   "execution_count": 119,
   "metadata": {
    "collapsed": true
   },
   "outputs": [],
   "source": [
    "best_errs = np.mean(np.square(best_cdfs[:] - make_cdf(test_labels[:])), 1)"
   ]
  },
  {
   "cell_type": "code",
   "execution_count": 120,
   "metadata": {
    "collapsed": false
   },
   "outputs": [
    {
     "data": {
      "text/plain": [
       "0.02154622361472101"
      ]
     },
     "execution_count": 120,
     "metadata": {},
     "output_type": "execute_result"
    }
   ],
   "source": [
    "best_errs.mean()"
   ]
  },
  {
   "cell_type": "markdown",
   "metadata": {},
   "source": [
    "### Smooth the CDFs"
   ]
  },
  {
   "cell_type": "code",
   "execution_count": 215,
   "metadata": {
    "collapsed": true
   },
   "outputs": [],
   "source": [
    "width = 20\n",
    "h = np.ones(width)/float(width)\n",
    "smooth_best_cdfs = np.zeros_like(best_cdfs)\n",
    "for i in range(best_cdfs.shape[0]):\n",
    "    smoos = np.convolve(h,best_cdfs[i])\n",
    "    smoos = smoos[width/2:-(width/2 - 1)]\n",
    "    smoos[-(width/2):] = 1.\n",
    "    smooth_best_cdfs[i,:] = smoos\n",
    "best_errs = np.mean(np.square(smooth_best_cdfs[:] - make_cdf(test_labels[:])), 1)"
   ]
  },
  {
   "cell_type": "code",
   "execution_count": 216,
   "metadata": {
    "collapsed": false
   },
   "outputs": [
    {
     "data": {
      "text/plain": [
       "(200, 600)"
      ]
     },
     "execution_count": 216,
     "metadata": {},
     "output_type": "execute_result"
    }
   ],
   "source": [
    "smooth_best_cdfs.shape"
   ]
  },
  {
   "cell_type": "code",
   "execution_count": 217,
   "metadata": {
    "collapsed": false
   },
   "outputs": [
    {
     "data": {
      "text/plain": [
       "0.021221292677961193"
      ]
     },
     "execution_count": 217,
     "metadata": {},
     "output_type": "execute_result"
    }
   ],
   "source": [
    "best_errs.mean()"
   ]
  },
  {
   "cell_type": "markdown",
   "metadata": {},
   "source": [
    "## Evaluating the classifier"
   ]
  },
  {
   "cell_type": "code",
   "execution_count": 497,
   "metadata": {
    "collapsed": true
   },
   "outputs": [],
   "source": [
    "RUN_NAME = 'CRPS-MODEL-3.0'\n",
    "DATA_DIR = 'netdata'\n",
    "ITERS = 100000\n",
    "START_ITER = 0\n",
    "MODEL_LOAD_PATH = None\n",
    "PIC_WIDTH = 32\n",
    "### Architectural Hyperparameters\n",
    "DEPTH_1 = 8         # The output depth of the first convolutional layer\n",
    "DEPTH_2 = 16         # The output depth of the second convolutional layer\n",
    "DEPTH_3 = 20         # The output depth of the second convolutional layer\n",
    "DEPTH_4 = 24        # The output depth of the second convolutional layer\n",
    "DEPTH_5 = 30        # The output depth of the second convolutional layer\n",
    "DEPTH_6 = 40        # The output depth of the second convolutional layer\n",
    "\n",
    "NUM_OUTPUTS = 25    # Number of output classes in the softmax layer\n",
    "KERNEL_X = 3         # The width of the convolution kernel (using same for 1st and 2nd layers)\n",
    "KERNEL_Y = 3         # The height of the convolution kernel (using same for 1st and 2nd layers)\n",
    "mu = 0.0001\n",
    "LEARNING_RATE = 1e-4\n",
    "\n",
    "REGULARIZE_BIAS = False\n",
    "\n",
    "NUM_INPUTS = 9  \n",
    "NUM_REPS = 144\n",
    "\n",
    "TRAIN_LABEL_NOISE_STD = 2.\n",
    "TRAIN_LABEL_SMOOTHING_STD = 0.\n",
    "DATA_AUGMENTATION = True\n",
    "DIASTOLE = False\n",
    "\n",
    "###########################################\n",
    "NUM_INPUTS = 9       # Number of input channels\n",
    "NUM_OUTPUTS = 2\n",
    "NUM_REPS = 144\n",
    "TRAIN_LABEL_NOISE_STD = 0.0001\n",
    "TRAIN_LABEL_SMOOTHING_STD = 0.\n",
    "LEARNING_RATE = 1e-3\n",
    "mu = 0.05\n",
    "DATA_AUGMENTATION = True\n",
    "RUN_NAME = 'TWO-CLASS-EXP'\n",
    "DEPTH_1 = 4         # The output depth of the first convolutional layer\n",
    "DEPTH_2 = 4         # The output depth of the second convolutional layer\n",
    "DEPTH_3 = 4         # The output depth of the second convolutional layer\n",
    "DEPTH_4 = 2        # The output depth of the second convolutional layer\n",
    "DEPTH_5 = 2        # The output depth of the second convolutional layer\n",
    "DEPTH_6 = 2   "
   ]
  },
  {
   "cell_type": "code",
   "execution_count": 540,
   "metadata": {
    "collapsed": true
   },
   "outputs": [],
   "source": [
    "graph = tf.Graph()\n",
    "with graph.as_default():\n",
    "    ####################################### INPUT/OUTPUT PLACEHOLDERS ##############################################\n",
    "    x = tf.placeholder(tf.float32, shape=[None, PIC_WIDTH, PIC_WIDTH, NUM_INPUTS]) #Placeholder for the input images\n",
    "    y_ = tf.placeholder(tf.float32, shape=[None, NUM_OUTPUTS]) #Placeholder for the label cdfs\n",
    "    ####################################### FIRST CONVOLUTIONAL LAYER ##############################################\n",
    "    # The weight tensor has dimensions [kernel_size_x, kernel_size_y, num_input_channels, num_output_channels]\n",
    "    W_conv1 = weight_variable([KERNEL_X, KERNEL_Y, NUM_INPUTS, DEPTH_1])\n",
    "    b_conv1 = bias_variable([DEPTH_1])\n",
    "    #Take the input image, reshape it to a 4D tensor with dimensions: [_, image_width, image_height, num_channels]\n",
    "    #x_image = tf.reshape(x, [-1,32,32,3])\n",
    "    h_conv1 = tf.nn.relu(conv2d(x, W_conv1) + b_conv1)\n",
    "    h_pool1 = max_pool_2x2(h_conv1)\n",
    "    ####################################### SECOND CONVOLUTIONAL LAYER ##############################################\n",
    "    W_conv2 = weight_variable([KERNEL_X, KERNEL_Y, DEPTH_1, DEPTH_2])\n",
    "    b_conv2 = bias_variable([DEPTH_2])\n",
    "\n",
    "    h_conv2 = tf.nn.relu(conv2d(h_pool1, W_conv2) + b_conv2)\n",
    "    h_pool2 = max_pool_2x2(h_conv2)\n",
    "    ####################################### THIRD CONVOLUTIONAL LAYER ##############################################\n",
    "    W_conv3 = weight_variable([KERNEL_X, KERNEL_Y, DEPTH_2, DEPTH_3])\n",
    "    b_conv3 = bias_variable([DEPTH_3])\n",
    "\n",
    "    h_conv3 = tf.nn.relu(conv2d(h_pool2, W_conv3) + b_conv3)\n",
    "    h_pool3 = max_pool_2x2(h_conv3)\n",
    "    ####################################### FOURTH CONVOLUTIONAL LAYER ##############################################\n",
    "    W_conv4 = weight_variable([KERNEL_X, KERNEL_Y, DEPTH_3, DEPTH_4])\n",
    "    b_conv4 = bias_variable([DEPTH_4])\n",
    "\n",
    "    h_conv4 = tf.nn.relu(conv2d(h_pool3, W_conv4) + b_conv4)\n",
    "    h_pool4 = max_pool_2x2(h_conv4)\n",
    "    # ####################################### FIFTH CONVOLUTIONAL LAYER ##############################################\n",
    "    #This layer uses a 1x1 convolution\n",
    "    W_conv5 = weight_variable([1, 1, DEPTH_4, DEPTH_5])\n",
    "    b_conv5 = bias_variable([DEPTH_5])\n",
    "\n",
    "    h_conv5 = tf.nn.relu(conv2d(h_pool4, W_conv5) + b_conv5)\n",
    "    h_pool5 = tf.nn.avg_pool(h_conv5,ksize=[1, 2, 2, 1], strides=[1, 2, 2, 1], padding='SAME')\n",
    "    h_pool5_flat = tf.reshape(h_pool5, [-1, DEPTH_5])\n",
    "    ############################################### DROPOUT ##########################################################\n",
    "    keep_prob = tf.placeholder(tf.float32)\n",
    "    h_fc1_drop = tf.nn.dropout(h_pool5_flat, keep_prob)\n",
    "    ############################################# SOFTMAX OUTPUT LAYER ###############################################\n",
    "    W_fc2 = weight_variable([DEPTH_5, NUM_OUTPUTS])\n",
    "    b_fc2 = bias_variable([NUM_OUTPUTS])\n",
    "\n",
    "    y = tf.nn.softmax(tf.matmul(h_fc1_drop, W_fc2) + b_fc2)\n",
    "    ##################################### SETTING UP THE OPTIMISATION PROBLEM #####################################\n",
    "    cross_entropy = -tf.reduce_sum(y_*tf.log(y+1e-12))\n",
    "    loss = cross_entropy + mu*(tf.nn.l2_loss(W_conv1) + tf.nn.l2_loss(W_conv2)\n",
    "                                + tf.nn.l2_loss(W_conv3) + tf.nn.l2_loss(W_conv4)\n",
    "                                + tf.nn.l2_loss(W_conv5) + tf.nn.l2_loss(W_fc2))\n",
    "\n",
    "    train_step = tf.train.AdamOptimizer(LEARNING_RATE).minimize(loss)\n",
    "\n",
    "    correct_prediction = tf.equal(tf.argmax(y,1), tf.argmax(y_,1))\n",
    "    accuracy = tf.reduce_mean(tf.cast(correct_prediction, tf.float32))\n",
    "\n",
    "    xentrop_summ = tf.scalar_summary(\"Cross Entropy\", loss)\n",
    "    accuracy_summ = tf.scalar_summary(\"Accuracy\", accuracy)"
   ]
  },
  {
   "cell_type": "code",
   "execution_count": 541,
   "metadata": {
    "collapsed": true
   },
   "outputs": [],
   "source": [
    "MODEL_LOAD_PATH = 'TWO-CLASS-EXP/model-13000'"
   ]
  },
  {
   "cell_type": "code",
   "execution_count": 542,
   "metadata": {
    "collapsed": true
   },
   "outputs": [],
   "source": [
    "predictions = []"
   ]
  },
  {
   "cell_type": "code",
   "execution_count": 543,
   "metadata": {
    "collapsed": false
   },
   "outputs": [
    {
     "name": "stdout",
     "output_type": "stream",
     "text": [
      "Patient  0\n",
      "Patient  40\n",
      "Patient  80\n",
      "Patient  120\n",
      "Patient  160\n"
     ]
    }
   ],
   "source": [
    "predictions = []\n",
    "with tf.Session(graph=graph) as session:\n",
    "    saver = tf.train.Saver()\n",
    "    saver.restore(session, MODEL_LOAD_PATH)\n",
    "    for i in range(200):\n",
    "        if i%40 == 0:\n",
    "            print 'Patient ', i\n",
    "        Xt,yt = batch(test[:,i:i+1], [])\n",
    "        #predictions = list(predictions)\n",
    "        pred = session.run([y], feed_dict={x: Xt, keep_prob: 1.0})[0]\n",
    "        pred = np.mean(pred, axis=0)\n",
    "        #pred = pred[1]\n",
    "        predictions.append(pred)\n",
    "    predictions = np.array(predictions)"
   ]
  },
  {
   "cell_type": "code",
   "execution_count": 544,
   "metadata": {
    "collapsed": false
   },
   "outputs": [],
   "source": [
    "class_pred = predictions[:,1]"
   ]
  },
  {
   "cell_type": "code",
   "execution_count": 545,
   "metadata": {
    "collapsed": false
   },
   "outputs": [
    {
     "data": {
      "text/plain": [
       "<matplotlib.collections.PathCollection at 0x144e54f90>"
      ]
     },
     "execution_count": 545,
     "metadata": {},
     "output_type": "execute_result"
    },
    {
     "data": {
      "image/png": "[encoded data removed]",
      "text/plain": [
       "<matplotlib.figure.Figure at 0x141478110>"
      ]
     },
     "metadata": {},
     "output_type": "display_data"
    }
   ],
   "source": [
    "plt.scatter(test_labels, class_pred)"
   ]
  },
  {
   "cell_type": "code",
   "execution_count": 68,
   "metadata": {
    "collapsed": true
   },
   "outputs": [],
   "source": [
    "fps = []\n",
    "fns = []\n",
    "accs = []\n",
    "for thresh in np.linspace(0.2, 0.95, 50):\n",
    "    #thresh = #0.307\n",
    "    mask = (test_labels < 100)*(class_pred > thresh)\n",
    "    false_pos = test_labels[mask].shape[0]/float(np.sum(test_labels>100))\n",
    "\n",
    "    mask = (test_labels > 100)*(class_pred < thresh)\n",
    "    false_negative = test_labels[mask].shape[0]/float(np.sum(test_labels>100))\n",
    "    accuracy = np.sum(class_pred > thresh)/float(np.sum(test_labels>100))\n",
    "    accs.append(accuracy)\n",
    "    fps.append(false_pos)\n",
    "    fns.append(false_negative) #accuracy*(1 - (false_pos/float(np.sum(yt>100))))"
   ]
  },
  {
   "cell_type": "code",
   "execution_count": 78,
   "metadata": {
    "collapsed": true
   },
   "outputs": [],
   "source": [
    "thresh = 0.7\n",
    "mask = (test_labels < 100)*(class_pred > thresh)\n",
    "false_pos = test_labels[mask].shape[0]/float(np.sum(test_labels>100))\n",
    "\n",
    "mask = (test_labels > 100)*(class_pred < thresh)\n",
    "false_negative = test_labels[mask].shape[0]/float(np.sum(test_labels>100))\n",
    "accuracy = np.sum(class_pred > thresh)/float(np.sum(test_labels>100))"
   ]
  },
  {
   "cell_type": "code",
   "execution_count": 79,
   "metadata": {
    "collapsed": false
   },
   "outputs": [
    {
     "data": {
      "text/plain": [
       "(0.03669724770642202, 0.25688073394495414, 0.77981651376146788)"
      ]
     },
     "execution_count": 79,
     "metadata": {},
     "output_type": "execute_result"
    }
   ],
   "source": [
    "false_pos, false_negative, accuracy"
   ]
  },
  {
   "cell_type": "code",
   "execution_count": 64,
   "metadata": {
    "collapsed": false
   },
   "outputs": [
    {
     "data": {
      "text/plain": [
       "[<matplotlib.lines.Line2D at 0x12d29d090>]"
      ]
     },
     "execution_count": 64,
     "metadata": {},
     "output_type": "execute_result"
    },
    {
     "data": {
      "image/png": "[encoded data removed]",
      "text/plain": [
       "<matplotlib.figure.Figure at 0x12d29d110>"
      ]
     },
     "metadata": {},
     "output_type": "display_data"
    }
   ],
   "source": [
    "plt.plot(np.linspace(0.2, 0.95, 50), fps, 'r')\n",
    "plt.plot(np.linspace(0.2, 0.95, 50), fns, 'b')"
   ]
  },
  {
   "cell_type": "code",
   "execution_count": 172,
   "metadata": {
    "collapsed": false
   },
   "outputs": [],
   "source": [
    "jerrs = []\n",
    "for thresh in np.linspace(0.3,0.96,50):\n",
    "    joint_cdfs = np.concatenate((smooth_best_cdfs[class_pred < thresh],smooth_cdfs[class_pred > thresh]))\n",
    "    jerrs.append(np.mean(np.square(joint_cdfs[:] - make_cdf(test_labels[:])), 1))"
   ]
  },
  {
   "cell_type": "code",
   "execution_count": 124,
   "metadata": {
    "collapsed": false
   },
   "outputs": [],
   "source": [
    "joint_errs = []\n",
    "for thresh in np.linspace(0.3,0.96,50):\n",
    "    alpha = np.sum(class_pred < thresh)/200.\n",
    "    joint_err = alpha*best_errs[class_pred < thresh].mean() + (1-alpha)*over_80_errs[class_pred > thresh].mean()\n",
    "    joint_errs.append(joint_err)"
   ]
  },
  {
   "cell_type": "markdown",
   "metadata": {},
   "source": [
    "## Use point estimates rather than classifier predictions"
   ]
  },
  {
   "cell_type": "code",
   "execution_count": null,
   "metadata": {
    "collapsed": true
   },
   "outputs": [],
   "source": []
  },
  {
   "cell_type": "code",
   "execution_count": 496,
   "metadata": {
    "collapsed": false
   },
   "outputs": [
    {
     "data": {
      "text/plain": [
       "0.021221292677961193"
      ]
     },
     "execution_count": 496,
     "metadata": {},
     "output_type": "execute_result"
    }
   ],
   "source": [
    "best_errs.mean()"
   ]
  },
  {
   "cell_type": "code",
   "execution_count": 495,
   "metadata": {
    "collapsed": false
   },
   "outputs": [
    {
     "data": {
      "text/plain": [
       "((178, 0), 0.020100129929578835)"
      ]
     },
     "execution_count": 495,
     "metadata": {},
     "output_type": "execute_result"
    }
   ],
   "source": [
    "best = (600, 0)\n",
    "best_err = 20.\n",
    "for ub in range(100,300,2):\n",
    "    for lb in range(0,100,2):\n",
    "        part1 = smooth_best_cdfs.copy()\n",
    "        part1[pests < lb] = 0.0\n",
    "        part1[pests > ub] = 0.0\n",
    "\n",
    "        part2 = smooth_cdfs.copy()\n",
    "        part2[pests < ub] = 0.0\n",
    "\n",
    "        part3 = smooth_under_cdfs.copy()\n",
    "        part3[pests > lb] = 0.0\n",
    "\n",
    "        total_cdfs = part1 + part2 + part3 #smooth_best_cdfs*(class_pred < thresh)+smooth_cdfs*(class_pred > thresh)\n",
    "        err = np.mean(np.mean(np.square(total_cdfs[:] - make_cdf(test_labels[:])), 1))\n",
    "        if err < best_err:\n",
    "            best = (ub, lb)\n",
    "            best_err = err\n",
    "\n",
    "best, best_err"
   ]
  },
  {
   "cell_type": "code",
   "execution_count": 493,
   "metadata": {
    "collapsed": true
   },
   "outputs": [],
   "source": [
    "p_errs = np.mean(np.square(total_cdfs[:] - make_cdf(test_labels[:])), 1)"
   ]
  },
  {
   "cell_type": "code",
   "execution_count": 494,
   "metadata": {
    "collapsed": false
   },
   "outputs": [
    {
     "data": {
      "text/plain": [
       "0.021239672772933559"
      ]
     },
     "execution_count": 494,
     "metadata": {},
     "output_type": "execute_result"
    }
   ],
   "source": [
    "p_errs.mean()"
   ]
  },
  {
   "cell_type": "markdown",
   "metadata": {},
   "source": [
    "### +++++++++++++++++++++++++++++++++++++++++++++++++++++++++++++++++++++++++++++++"
   ]
  },
  {
   "cell_type": "code",
   "execution_count": 535,
   "metadata": {
    "collapsed": false
   },
   "outputs": [],
   "source": [
    "ub = 1.\n",
    "lb = 0.\n",
    "es = []\n",
    "for lb in np.linspace(0.0, 1., 50): \n",
    "    part1 = smooth_best_cdfs.copy()\n",
    "    part1[class_pred < lb] = 0.0\n",
    "    part1[class_pred > ub] = 0.0\n",
    "\n",
    "    part2 = smooth_cdfs.copy()\n",
    "    part2[class_pred < ub] = 0.0\n",
    "\n",
    "    part3 = smooth_under_cdfs.copy()\n",
    "    part3[class_pred > lb] = 0.0\n",
    "\n",
    "    total_cdfs = part1 + part2 + part3 #smooth_best_cdfs*(class_pred < thresh)+smooth_cdfs*(class_pred > thresh)\n",
    "    e = np.mean(np.mean(np.square(total_cdfs[:] - make_cdf(test_labels[:])), 1))\n",
    "    es.append(e)"
   ]
  },
  {
   "cell_type": "code",
   "execution_count": 537,
   "metadata": {
    "collapsed": false
   },
   "outputs": [
    {
     "data": {
      "text/plain": [
       "13"
      ]
     },
     "execution_count": 537,
     "metadata": {},
     "output_type": "execute_result"
    }
   ],
   "source": [
    "np.argmin(es)"
   ]
  },
  {
   "cell_type": "code",
   "execution_count": 538,
   "metadata": {
    "collapsed": false
   },
   "outputs": [
    {
     "data": {
      "text/plain": [
       "0.021212220096030167"
      ]
     },
     "execution_count": 538,
     "metadata": {},
     "output_type": "execute_result"
    }
   ],
   "source": [
    "es[13]"
   ]
  },
  {
   "cell_type": "code",
   "execution_count": 536,
   "metadata": {
    "collapsed": false
   },
   "outputs": [
    {
     "data": {
      "text/plain": [
       "[<matplotlib.lines.Line2D at 0x1414d8310>]"
      ]
     },
     "execution_count": 536,
     "metadata": {},
     "output_type": "execute_result"
    },
    {
     "data": {
      "image/png": "[encoded data removed]",
      "text/plain": [
       "<matplotlib.figure.Figure at 0x13b68a6d0>"
      ]
     },
     "metadata": {},
     "output_type": "display_data"
    }
   ],
   "source": [
    "plt.plot(np.linspace(0,1,50), es)"
   ]
  },
  {
   "cell_type": "code",
   "execution_count": 531,
   "metadata": {
    "collapsed": false
   },
   "outputs": [
    {
     "data": {
      "text/plain": [
       "27"
      ]
     },
     "execution_count": 531,
     "metadata": {},
     "output_type": "execute_result"
    }
   ],
   "source": [
    "np.argmin(es)"
   ]
  },
  {
   "cell_type": "code",
   "execution_count": 523,
   "metadata": {
    "collapsed": true
   },
   "outputs": [],
   "source": [
    "t_errs = np.mean(np.square(total_cdfs[:] - make_cdf(test_labels[:])), 1)"
   ]
  },
  {
   "cell_type": "code",
   "execution_count": 509,
   "metadata": {
    "collapsed": false
   },
   "outputs": [
    {
     "data": {
      "text/plain": [
       "0.021221292677961193"
      ]
     },
     "execution_count": 509,
     "metadata": {},
     "output_type": "execute_result"
    }
   ],
   "source": [
    "t_errs.mean()"
   ]
  },
  {
   "cell_type": "code",
   "execution_count": 524,
   "metadata": {
    "collapsed": false
   },
   "outputs": [
    {
     "data": {
      "text/plain": [
       "0.021303095348607623"
      ]
     },
     "execution_count": 524,
     "metadata": {},
     "output_type": "execute_result"
    }
   ],
   "source": [
    "t_errs.mean()"
   ]
  },
  {
   "cell_type": "code",
   "execution_count": 417,
   "metadata": {
    "collapsed": false
   },
   "outputs": [
    {
     "data": {
      "text/plain": [
       "42"
      ]
     },
     "execution_count": 417,
     "metadata": {},
     "output_type": "execute_result"
    }
   ],
   "source": [
    "np.sum(class_pred < 0.277)"
   ]
  },
  {
   "cell_type": "code",
   "execution_count": 378,
   "metadata": {
    "collapsed": false
   },
   "outputs": [
    {
     "data": {
      "text/plain": [
       "<matplotlib.collections.PathCollection at 0x1428f2c50>"
      ]
     },
     "execution_count": 378,
     "metadata": {},
     "output_type": "execute_result"
    },
    {
     "data": {
      "image/png": "[encoded data removed]",
      "text/plain": [
       "<matplotlib.figure.Figure at 0x1427409d0>"
      ]
     },
     "metadata": {},
     "output_type": "display_data"
    }
   ],
   "source": [
    "plt.scatter(test_labels, t_errs)"
   ]
  },
  {
   "cell_type": "code",
   "execution_count": 282,
   "metadata": {
    "collapsed": false
   },
   "outputs": [
    {
     "data": {
      "text/plain": [
       "(0.014590426239965702, 0.024811236418202258)"
      ]
     },
     "execution_count": 282,
     "metadata": {},
     "output_type": "execute_result"
    }
   ],
   "source": [
    "t_errs[test_labels < 100].mean(), t_errs[test_labels > 100].mean()"
   ]
  },
  {
   "cell_type": "code",
   "execution_count": 283,
   "metadata": {
    "collapsed": false
   },
   "outputs": [
    {
     "data": {
      "text/plain": [
       "(0.014077640236271781, 0.027185259395334917)"
      ]
     },
     "execution_count": 283,
     "metadata": {},
     "output_type": "execute_result"
    }
   ],
   "source": [
    "best_errs[test_labels < 100].mean(), best_errs[test_labels > 100].mean()"
   ]
  },
  {
   "cell_type": "code",
   "execution_count": 271,
   "metadata": {
    "collapsed": false
   },
   "outputs": [
    {
     "data": {
      "text/plain": [
       "(200, 600)"
      ]
     },
     "execution_count": 271,
     "metadata": {},
     "output_type": "execute_result"
    }
   ],
   "source": [
    "joint_cdfs = np.zeros_like(best_cdfs)\n",
    "for i in range(200):\n",
    "    alpha = class_pred[i]**3#(class_pred[i]**4)/(class_pred[i]**4 + (1-class_pred[i])**4)\n",
    "    joint_cdfs[i,:] = (1 - alpha)*smooth_best_cdfs[i] + (alpha)*smooth_cdfs[i]\n",
    "\n",
    "joint_cdfs.shape"
   ]
  },
  {
   "cell_type": "code",
   "execution_count": 272,
   "metadata": {
    "collapsed": false
   },
   "outputs": [],
   "source": [
    "soft_errs = np.mean(np.square(joint_cdfs[:] - make_cdf(test_labels[:])), 1)"
   ]
  },
  {
   "cell_type": "code",
   "execution_count": 279,
   "metadata": {
    "collapsed": false
   },
   "outputs": [
    {
     "data": {
      "text/plain": [
       "(0.020160767787104624, 0.020382730737500028)"
      ]
     },
     "execution_count": 279,
     "metadata": {},
     "output_type": "execute_result"
    }
   ],
   "source": [
    "t_errs.mean(), soft_errs.mean()"
   ]
  },
  {
   "cell_type": "code",
   "execution_count": 280,
   "metadata": {
    "collapsed": false
   },
   "outputs": [
    {
     "data": {
      "text/plain": [
       "<matplotlib.collections.PathCollection at 0x138334090>"
      ]
     },
     "execution_count": 280,
     "metadata": {},
     "output_type": "execute_result"
    },
    {
     "data": {
      "image/png": "[encoded data removed]",
      "text/plain": [
       "<matplotlib.figure.Figure at 0x138334e10>"
      ]
     },
     "metadata": {},
     "output_type": "display_data"
    }
   ],
   "source": [
    "plt.scatter(test_labels, soft_errs)\n",
    "plt.scatter(test_labels, t_errs, c='r')"
   ]
  },
  {
   "cell_type": "code",
   "execution_count": 156,
   "metadata": {
    "collapsed": true
   },
   "outputs": [],
   "source": [
    "mask = (class_pred > 0.75)*(test_labels < 100)\n",
    "false_pos = test_labels[mask]"
   ]
  },
  {
   "cell_type": "code",
   "execution_count": 157,
   "metadata": {
    "collapsed": false
   },
   "outputs": [
    {
     "data": {
      "text/plain": [
       "array([ 88.7,  95.4,  80.7,  91. ])"
      ]
     },
     "execution_count": 157,
     "metadata": {},
     "output_type": "execute_result"
    }
   ],
   "source": [
    "false_pos"
   ]
  },
  {
   "cell_type": "code",
   "execution_count": 155,
   "metadata": {
    "collapsed": false
   },
   "outputs": [
    {
     "data": {
      "text/plain": [
       "array([ 157. ,  218.4,  128.9,  244.1,  397.1,  284. ,  131. ,  305.5,\n",
       "        277.6,  268.3,  209.9,  257. ,  122.5,  249.7,  250. ,  260.6,\n",
       "        182. ,   91. ])"
      ]
     },
     "execution_count": 155,
     "metadata": {},
     "output_type": "execute_result"
    }
   ],
   "source": [
    "test_labels[best_errs > 0.05]"
   ]
  },
  {
   "cell_type": "code",
   "execution_count": 154,
   "metadata": {
    "collapsed": false
   },
   "outputs": [
    {
     "data": {
      "text/plain": [
       "array([ 243.3,  172.7,   50.6,  230.5,  100.1,  158.9,  104.8,   62. ,\n",
       "         58.5,   51.8,  215.9,   96.5])"
      ]
     },
     "execution_count": 154,
     "metadata": {},
     "output_type": "execute_result"
    }
   ],
   "source": [
    "test_labels[total_errs > 0.05]"
   ]
  },
  {
   "cell_type": "code",
   "execution_count": 149,
   "metadata": {
    "collapsed": false
   },
   "outputs": [
    {
     "data": {
      "text/plain": [
       "array([ 88.7,  95.4,  80.7,  91. ])"
      ]
     },
     "execution_count": 149,
     "metadata": {},
     "output_type": "execute_result"
    }
   ],
   "source": [
    "false_pos"
   ]
  },
  {
   "cell_type": "code",
   "execution_count": 284,
   "metadata": {
    "collapsed": true
   },
   "outputs": [],
   "source": [
    "thresh = 0.75\n",
    "total_errs = np.concatenate((best_errs[class_pred < thresh],over_80_errs[class_pred > thresh]))"
   ]
  },
  {
   "cell_type": "code",
   "execution_count": 285,
   "metadata": {
    "collapsed": false
   },
   "outputs": [
    {
     "data": {
      "text/plain": [
       "<matplotlib.collections.PathCollection at 0x1387a4750>"
      ]
     },
     "execution_count": 285,
     "metadata": {},
     "output_type": "execute_result"
    },
    {
     "data": {
      "image/png": "[encoded data removed]",
      "text/plain": [
       "<matplotlib.figure.Figure at 0x138334a10>"
      ]
     },
     "metadata": {},
     "output_type": "display_data"
    }
   ],
   "source": [
    "plt.scatter(test_labels, total_errs)"
   ]
  },
  {
   "cell_type": "code",
   "execution_count": 286,
   "metadata": {
    "collapsed": false
   },
   "outputs": [
    {
     "data": {
      "text/plain": [
       "0.020160767787104624"
      ]
     },
     "execution_count": 286,
     "metadata": {},
     "output_type": "execute_result"
    }
   ],
   "source": [
    "total_errs.mean()"
   ]
  },
  {
   "cell_type": "code",
   "execution_count": 137,
   "metadata": {
    "collapsed": false
   },
   "outputs": [
    {
     "data": {
      "text/plain": [
       "(0.019347035980824837, 0.020840121863101791)"
      ]
     },
     "execution_count": 137,
     "metadata": {},
     "output_type": "execute_result"
    }
   ],
   "source": [
    "total_errs[test_labels<100].mean(), total_errs[test_labels>100].mean()"
   ]
  },
  {
   "cell_type": "code",
   "execution_count": 136,
   "metadata": {
    "collapsed": false
   },
   "outputs": [
    {
     "data": {
      "text/plain": [
       "(0.014077640233637216, 0.027185259406250308)"
      ]
     },
     "execution_count": 136,
     "metadata": {},
     "output_type": "execute_result"
    }
   ],
   "source": [
    "best_errs[test_labels<100].mean(), best_errs[test_labels>100].mean()"
   ]
  },
  {
   "cell_type": "code",
   "execution_count": 125,
   "metadata": {
    "collapsed": false
   },
   "outputs": [
    {
     "data": {
      "text/plain": [
       "[<matplotlib.lines.Line2D at 0x133692690>]"
      ]
     },
     "execution_count": 125,
     "metadata": {},
     "output_type": "execute_result"
    },
    {
     "data": {
      "image/png": "[encoded data removed]",
      "text/plain": [
       "<matplotlib.figure.Figure at 0x12ecee810>"
      ]
     },
     "metadata": {},
     "output_type": "display_data"
    }
   ],
   "source": [
    "plt.plot(np.linspace(0.3,0.96,50), joint_errs)"
   ]
  },
  {
   "cell_type": "code",
   "execution_count": 127,
   "metadata": {
    "collapsed": false
   },
   "outputs": [
    {
     "data": {
      "text/plain": [
       "0.8253061224489795"
      ]
     },
     "execution_count": 127,
     "metadata": {},
     "output_type": "execute_result"
    }
   ],
   "source": [
    "np.linspace(0.3,0.96,50)[39]"
   ]
  },
  {
   "cell_type": "code",
   "execution_count": 128,
   "metadata": {
    "collapsed": false
   },
   "outputs": [
    {
     "data": {
      "text/plain": [
       "(0.020127561795954159, 39)"
      ]
     },
     "execution_count": 128,
     "metadata": {},
     "output_type": "execute_result"
    }
   ],
   "source": [
    "np.min(joint_errs), np.argmin(joint_errs)"
   ]
  },
  {
   "cell_type": "code",
   "execution_count": 129,
   "metadata": {
    "collapsed": false
   },
   "outputs": [
    {
     "data": {
      "text/plain": [
       "0.0010937308867571896"
      ]
     },
     "execution_count": 129,
     "metadata": {},
     "output_type": "execute_result"
    }
   ],
   "source": [
    "best_errs.mean() - np.min(joint_errs)"
   ]
  },
  {
   "cell_type": "markdown",
   "metadata": {},
   "source": [
    "### ++++++++++++++++++++++++++++++++++++++++++++++++++++++++++++++++++++++++++++++++++++++++++++"
   ]
  },
  {
   "cell_type": "code",
   "execution_count": 59,
   "metadata": {
    "collapsed": false
   },
   "outputs": [
    {
     "data": {
      "text/plain": [
       "<matplotlib.collections.PathCollection at 0x12d218610>"
      ]
     },
     "execution_count": 59,
     "metadata": {},
     "output_type": "execute_result"
    },
    {
     "data": {
      "image/png": "[encoded data removed]",
      "text/plain": [
       "<matplotlib.figure.Figure at 0x138b02290>"
      ]
     },
     "metadata": {},
     "output_type": "display_data"
    }
   ],
   "source": [
    "plt.scatter(yt, predictions[:,1])"
   ]
  },
  {
   "cell_type": "code",
   "execution_count": 118,
   "metadata": {
    "collapsed": false
   },
   "outputs": [
    {
     "data": {
      "image/png": "[encoded data removed]",
      "text/plain": [
       "<matplotlib.figure.Figure at 0x12d775e50>"
      ]
     },
     "metadata": {},
     "output_type": "display_data"
    }
   ],
   "source": [
    "_,_,_ = plt.hist(yt[predictions[:,1] > 0.5], bins=30)"
   ]
  },
  {
   "cell_type": "code",
   "execution_count": 125,
   "metadata": {
    "collapsed": false
   },
   "outputs": [],
   "source": [
    "fps = []\n",
    "fns = []\n",
    "for thresh in np.linspace(0.2, 0.95, 50):\n",
    "    #thresh = #0.307\n",
    "    mask = (yt[:,0] < 100)*(predictions[:,1] > thresh)\n",
    "    false_pos = yt[mask].shape[0]/float(np.sum(yt>100))\n",
    "\n",
    "    mask = (yt[:,0] > 100)*(predictions[:,1] < thresh)\n",
    "    false_negative = yt[mask].shape[0]/float(np.sum(yt>100))\n",
    "\n",
    "    accuracy = np.sum(predictions[:,1] > thresh)/float(np.sum(yt>100))\n",
    "    fps.append(false_pos)\n",
    "    fns.append(false_negative) #accuracy*(1 - (false_pos/float(np.sum(yt>100))))"
   ]
  },
  {
   "cell_type": "code",
   "execution_count": 126,
   "metadata": {
    "collapsed": false
   },
   "outputs": [
    {
     "data": {
      "text/plain": [
       "[<matplotlib.lines.Line2D at 0x129bac190>]"
      ]
     },
     "execution_count": 126,
     "metadata": {},
     "output_type": "execute_result"
    },
    {
     "data": {
      "image/png": "[encoded data removed]",
      "text/plain": [
       "<matplotlib.figure.Figure at 0x129baca10>"
      ]
     },
     "metadata": {},
     "output_type": "display_data"
    }
   ],
   "source": [
    "plt.plot(fps, 'r')\n",
    "plt.plot(fns, 'b')"
   ]
  },
  {
   "cell_type": "code",
   "execution_count": null,
   "metadata": {
    "collapsed": true
   },
   "outputs": [],
   "source": [
    "mask = (yt[:,0] < 100)*(predictions[:,1] > thresh)\n",
    "false_pos = yt[mask].shape[0]"
   ]
  },
  {
   "cell_type": "code",
   "execution_count": 119,
   "metadata": {
    "collapsed": false
   },
   "outputs": [
    {
     "data": {
      "text/plain": [
       "505"
      ]
     },
     "execution_count": 119,
     "metadata": {},
     "output_type": "execute_result"
    }
   ],
   "source": [
    "np.sum(predictions[:,1] > 0.5)"
   ]
  },
  {
   "cell_type": "code",
   "execution_count": 112,
   "metadata": {
    "collapsed": false
   },
   "outputs": [
    {
     "data": {
      "text/plain": [
       "7"
      ]
     },
     "execution_count": 112,
     "metadata": {},
     "output_type": "execute_result"
    }
   ],
   "source": [
    "np.argmax(score)"
   ]
  },
  {
   "cell_type": "code",
   "execution_count": 85,
   "metadata": {
    "collapsed": false
   },
   "outputs": [],
   "source": [
    "mask = (yt[:,0] < 100)*(predictions[:,1] > 0.5)"
   ]
  },
  {
   "cell_type": "code",
   "execution_count": 86,
   "metadata": {
    "collapsed": false
   },
   "outputs": [
    {
     "data": {
      "text/plain": [
       "(58, 1)"
      ]
     },
     "execution_count": 86,
     "metadata": {},
     "output_type": "execute_result"
    }
   ],
   "source": [
    "yt[mask].shape"
   ]
  },
  {
   "cell_type": "code",
   "execution_count": 31,
   "metadata": {
    "collapsed": false
   },
   "outputs": [
    {
     "data": {
      "text/plain": [
       "(array([  57.,   86.,   12.,    7.,   76.,    0.,  109.,    3.,   44.,\n",
       "          47.,   50.,   35.,   19.,   16.,   34.,    7.,  112.,   13.,\n",
       "          13.,    1.,  130.,    3.,   53.,   41.,   32.]),\n",
       " array([  0.  ,   0.96,   1.92,   2.88,   3.84,   4.8 ,   5.76,   6.72,\n",
       "          7.68,   8.64,   9.6 ,  10.56,  11.52,  12.48,  13.44,  14.4 ,\n",
       "         15.36,  16.32,  17.28,  18.24,  19.2 ,  20.16,  21.12,  22.08,\n",
       "         23.04,  24.  ]),\n",
       " <a list of 25 Patch objects>)"
      ]
     },
     "execution_count": 31,
     "metadata": {},
     "output_type": "execute_result"
    },
    {
     "data": {
      "image/png": "[encoded data removed]",
      "text/plain": [
       "<matplotlib.figure.Figure at 0x102376f90>"
      ]
     },
     "metadata": {},
     "output_type": "display_data"
    }
   ],
   "source": [
    "plt.hist(predictions[0], bins=25)"
   ]
  },
  {
   "cell_type": "code",
   "execution_count": 250,
   "metadata": {
    "collapsed": false
   },
   "outputs": [
    {
     "data": {
      "text/plain": [
       "(1000, 10)"
      ]
     },
     "execution_count": 250,
     "metadata": {},
     "output_type": "execute_result"
    }
   ],
   "source": [
    "test_classes = make_class_label(yt)\n",
    "test_classes.shape"
   ]
  },
  {
   "cell_type": "code",
   "execution_count": 254,
   "metadata": {
    "collapsed": false
   },
   "outputs": [
    {
     "data": {
      "text/plain": [
       "array([5, 0, 4, 2, 8, 7, 6, 5, 6, 0])"
      ]
     },
     "execution_count": 254,
     "metadata": {},
     "output_type": "execute_result"
    }
   ],
   "source": [
    "t_class = np.argmax(test_classes, axis=1)\n",
    "t_class[:10]"
   ]
  },
  {
   "cell_type": "code",
   "execution_count": 255,
   "metadata": {
    "collapsed": false
   },
   "outputs": [
    {
     "data": {
      "text/plain": [
       "array([3, 0, 4, 2, 8, 8, 5, 3, 9, 1])"
      ]
     },
     "execution_count": 255,
     "metadata": {},
     "output_type": "execute_result"
    }
   ],
   "source": [
    "predictions[0][:10]"
   ]
  },
  {
   "cell_type": "code",
   "execution_count": 259,
   "metadata": {
    "collapsed": false
   },
   "outputs": [],
   "source": [
    "accs = [np.mean(predictions[0][t_class == i] == t_class[t_class == i]) for i in range(10)]"
   ]
  },
  {
   "cell_type": "code",
   "execution_count": 265,
   "metadata": {
    "collapsed": false
   },
   "outputs": [
    {
     "data": {
      "text/plain": [
       "[0.58878504672897192,\n",
       " 0.51470588235294112,\n",
       " 0.29496402877697842,\n",
       " 0.43181818181818182,\n",
       " 0.27027027027027029,\n",
       " 0.25925925925925924,\n",
       " 0.24183006535947713,\n",
       " 0.13636363636363635,\n",
       " 0.67692307692307696,\n",
       " 0.60256410256410253]"
      ]
     },
     "execution_count": 265,
     "metadata": {},
     "output_type": "execute_result"
    }
   ],
   "source": [
    "accs"
   ]
  },
  {
   "cell_type": "code",
   "execution_count": 273,
   "metadata": {
    "collapsed": false
   },
   "outputs": [
    {
     "data": {
      "image/png": "[encoded data removed]",
      "text/plain": [
       "<matplotlib.figure.Figure at 0x1261afc90>"
      ]
     },
     "metadata": {},
     "output_type": "display_data"
    }
   ],
   "source": [
    "counts, scores, _ = plt.hist(predictions[0][t_class == 8])"
   ]
  },
  {
   "cell_type": "markdown",
   "metadata": {},
   "source": [
    "### Run test cases through this classifier"
   ]
  },
  {
   "cell_type": "code",
   "execution_count": 408,
   "metadata": {
    "collapsed": true
   },
   "outputs": [],
   "source": [
    "predictions = []"
   ]
  },
  {
   "cell_type": "code",
   "execution_count": 409,
   "metadata": {
    "collapsed": false
   },
   "outputs": [
    {
     "name": "stdout",
     "output_type": "stream",
     "text": [
      "Case 0\n",
      "Case 50\n",
      "Case 100\n",
      "Case 150\n"
     ]
    }
   ],
   "source": [
    "with tf.Session(graph=graph) as session:\n",
    "    saver = tf.train.Saver()\n",
    "    saver.restore(session, MODEL_LOAD_PATH)\n",
    "    for i in range(200):\n",
    "        if i%50 == 0:\n",
    "            print 'Case %d' % i\n",
    "        X, test_labs = batch(test[:,i:i+1], [])\n",
    "        pred = y.eval(feed_dict={x:X, keep_prob: 1.})\n",
    "        predictions.extend(np.mean(pred, axis=0))\n",
    "\n",
    "predictions = np.array(predictions)"
   ]
  },
  {
   "cell_type": "code",
   "execution_count": 410,
   "metadata": {
    "collapsed": false
   },
   "outputs": [
    {
     "data": {
      "text/plain": [
       "(2000,)"
      ]
     },
     "execution_count": 410,
     "metadata": {},
     "output_type": "execute_result"
    }
   ],
   "source": [
    "predictions.shape"
   ]
  },
  {
   "cell_type": "code",
   "execution_count": 313,
   "metadata": {
    "collapsed": false
   },
   "outputs": [
    {
     "data": {
      "text/plain": [
       "200.0"
      ]
     },
     "execution_count": 313,
     "metadata": {},
     "output_type": "execute_result"
    }
   ],
   "source": [
    "np.sum(predictions)"
   ]
  },
  {
   "cell_type": "code",
   "execution_count": 411,
   "metadata": {
    "collapsed": false
   },
   "outputs": [
    {
     "data": {
      "text/plain": [
       "array([  2.17667800e-16,   6.17813846e-15,   2.93096519e-11,\n",
       "         2.95156859e-08,   7.89937330e-05,   1.26642117e-03,\n",
       "         1.23804603e-02,   2.26404592e-01,   6.18132234e-01,\n",
       "         1.41737312e-01], dtype=float32)"
      ]
     },
     "execution_count": 411,
     "metadata": {},
     "output_type": "execute_result"
    }
   ],
   "source": [
    "predictions = np.reshape(predictions, (200, 10))\n",
    "predictions[0]"
   ]
  },
  {
   "cell_type": "code",
   "execution_count": 419,
   "metadata": {
    "collapsed": false
   },
   "outputs": [],
   "source": [
    "soft_predictions = []\n",
    "for i in range(200):\n",
    "    soft_predictions.append(np.sum([predictions[i][j]*j for j in range(10)]))\n",
    "#predictions = np.mean(predictions[i] , axis=1)"
   ]
  },
  {
   "cell_type": "code",
   "execution_count": 420,
   "metadata": {
    "collapsed": false
   },
   "outputs": [
    {
     "data": {
      "text/plain": [
       "(200,)"
      ]
     },
     "execution_count": 420,
     "metadata": {},
     "output_type": "execute_result"
    }
   ],
   "source": [
    "soft_predictions = np.array(soft_predictions)\n",
    "soft_predictions.shape"
   ]
  },
  {
   "cell_type": "code",
   "execution_count": 323,
   "metadata": {
    "collapsed": false
   },
   "outputs": [
    {
     "data": {
      "text/plain": [
       "array([ 243.3,  397.1,  215. ,  284. ,  169.5,  305.5,  241.7,  181.3,\n",
       "        203.6,  268.3,  257. ,  249.7,  109.4,  250. ,  182. ,  219.3])"
      ]
     },
     "execution_count": 323,
     "metadata": {},
     "output_type": "execute_result"
    }
   ],
   "source": [
    "test_labels[predictions == 9]"
   ]
  },
  {
   "cell_type": "code",
   "execution_count": 382,
   "metadata": {
    "collapsed": false
   },
   "outputs": [
    {
     "data": {
      "text/plain": [
       "[0.32123667660455996,\n",
       " 0.27898278870585402,\n",
       " 0.27160360853072413,\n",
       " 0.23671157885254152,\n",
       " 0.21183617566479318,\n",
       " 0.1692951492046551,\n",
       " 0.14697928813581185,\n",
       " 0.10724855029399888,\n",
       " 0.098133146040374847,\n",
       " 0.064906080054163609]"
      ]
     },
     "execution_count": 382,
     "metadata": {},
     "output_type": "execute_result"
    }
   ],
   "source": [
    "errs = [errors[predictions == i].mean() for i in range(10)]\n",
    "errs"
   ]
  },
  {
   "cell_type": "code",
   "execution_count": 384,
   "metadata": {
    "collapsed": false
   },
   "outputs": [
    {
     "data": {
      "text/plain": [
       "[0.012319645175615091,\n",
       " 0.014281586093096234,\n",
       " 0.0078595513444006775,\n",
       " 0.016847867230656361,\n",
       " 0.020172668462459905,\n",
       " 0.01535038285718923,\n",
       " 0.01725590908379444,\n",
       " 0.033737819610445509,\n",
       " 0.02459551709208524,\n",
       " 0.055692864171687666]"
      ]
     },
     "execution_count": 384,
     "metadata": {},
     "output_type": "execute_result"
    }
   ],
   "source": [
    "b_errs = [best_errs[predictions == i].mean() for i in range(10)]\n",
    "b_errs"
   ]
  },
  {
   "cell_type": "code",
   "execution_count": 423,
   "metadata": {
    "collapsed": false
   },
   "outputs": [
    {
     "data": {
      "text/plain": [
       "<matplotlib.collections.PathCollection at 0x12eef7150>"
      ]
     },
     "execution_count": 423,
     "metadata": {},
     "output_type": "execute_result"
    },
    {
     "data": {
      "image/png": "[encoded data removed]",
      "text/plain": [
       "<matplotlib.figure.Figure at 0x139092f50>"
      ]
     },
     "metadata": {},
     "output_type": "display_data"
    }
   ],
   "source": [
    "plt.scatter(test_labels, soft_predictions)\n",
    "plt.scatter(test_labels, 20*errors, c='r')\n",
    "plt.scatter(test_labels, 20*best_errs, c='g')"
   ]
  },
  {
   "cell_type": "code",
   "execution_count": 489,
   "metadata": {
    "collapsed": false
   },
   "outputs": [
    {
     "data": {
      "text/plain": [
       "array([ 397.1,  215. ,  284. ,  241.7,  257. ,  250. ,  182. ])"
      ]
     },
     "execution_count": 489,
     "metadata": {},
     "output_type": "execute_result"
    }
   ],
   "source": [
    "mask = (soft_predictions > 8.7)*(pests > 180)\n",
    "test_labels[mask]"
   ]
  },
  {
   "cell_type": "code",
   "execution_count": 490,
   "metadata": {
    "collapsed": false
   },
   "outputs": [
    {
     "data": {
      "text/plain": [
       "0.055545040654554491"
      ]
     },
     "execution_count": 490,
     "metadata": {},
     "output_type": "execute_result"
    }
   ],
   "source": [
    "errors[mask].mean()"
   ]
  },
  {
   "cell_type": "code",
   "execution_count": 491,
   "metadata": {
    "collapsed": false
   },
   "outputs": [
    {
     "data": {
      "text/plain": [
       "0.063604920174532259"
      ]
     },
     "execution_count": 491,
     "metadata": {},
     "output_type": "execute_result"
    }
   ],
   "source": [
    "best_errs[mask].mean()"
   ]
  },
  {
   "cell_type": "code",
   "execution_count": null,
   "metadata": {
    "collapsed": true
   },
   "outputs": [],
   "source": [
    "test_classes = make_class_label(test_labels)\n",
    "test_classes.shape"
   ]
  },
  {
   "cell_type": "markdown",
   "metadata": {},
   "source": [
    "## ++++++++++++++++++++++++++++ END CLASSIFIER ++++++++++++++++++++++++++++++"
   ]
  },
  {
   "cell_type": "code",
   "execution_count": 492,
   "metadata": {
    "collapsed": false
   },
   "outputs": [
    {
     "data": {
      "text/plain": [
       "[<matplotlib.lines.Line2D at 0x132ffc9d0>]"
      ]
     },
     "execution_count": 492,
     "metadata": {},
     "output_type": "execute_result"
    },
    {
     "data": {
      "image/png": "[encoded data removed]",
      "text/plain": [
       "<matplotlib.figure.Figure at 0x13369dd90>"
      ]
     },
     "metadata": {},
     "output_type": "display_data"
    }
   ],
   "source": [
    "plt.plot(best_cdfs[0])"
   ]
  },
  {
   "cell_type": "code",
   "execution_count": 511,
   "metadata": {
    "collapsed": false
   },
   "outputs": [
    {
     "data": {
      "text/plain": [
       "[<matplotlib.lines.Line2D at 0x1400778d0>]"
      ]
     },
     "execution_count": 511,
     "metadata": {},
     "output_type": "execute_result"
    },
    {
     "data": {
      "image/png": "[encoded data removed]",
      "text/plain": [
       "<matplotlib.figure.Figure at 0x1400776d0>"
      ]
     },
     "metadata": {},
     "output_type": "display_data"
    }
   ],
   "source": [
    "h = np.ones(40)/40.\n",
    "smoos = np.convolve(h,best_cdfs[0])\n",
    "plt.plot(smoos[20:-19])\n",
    "plt.plot(best_cdfs[0])"
   ]
  },
  {
   "cell_type": "code",
   "execution_count": 548,
   "metadata": {
    "collapsed": false,
    "scrolled": true
   },
   "outputs": [],
   "source": [
    "#width = 60\n",
    "smoothed_errs = []\n",
    "for width in range(4,80,2):\n",
    "    h = np.ones(width)/float(width)\n",
    "    smooth_cdfs = np.zeros_like(best_cdfs)\n",
    "    for i in range(best_cdfs.shape[0]):\n",
    "        smoos = np.convolve(h,best_cdfs[i])\n",
    "        smoos = smoos[width/2:-(width/2 - 1)]\n",
    "        smoos[-(width/2):] = 1.\n",
    "        smooth_cdfs[i,:] = smoos\n",
    "    smooth_errors = np.mean(np.square(smooth_cdfs[:] - make_cdf(test_labels[:])), 1)\n",
    "    smoothed_errs.append(smooth_errors.mean())\n",
    "    #smooth_errors = np.mean(np.square(smooth_cdfs[:] - make_cdf(test_labels[:])), 1)\n",
    "    #smooth_errors.mean(), best_errs.mean()"
   ]
  },
  {
   "cell_type": "code",
   "execution_count": 288,
   "metadata": {
    "collapsed": true
   },
   "outputs": [],
   "source": [
    "import pandas as pd"
   ]
  },
  {
   "cell_type": "code",
   "execution_count": 290,
   "metadata": {
    "collapsed": false
   },
   "outputs": [
    {
     "name": "stdout",
     "output_type": "stream",
     "text": [
      "/Users/omakhlouf/Desktop/Data Science Bowl\n"
     ]
    }
   ],
   "source": [
    "cd .."
   ]
  },
  {
   "cell_type": "code",
   "execution_count": 291,
   "metadata": {
    "collapsed": false
   },
   "outputs": [
    {
     "data": {
      "text/plain": [
       "(200, 3)"
      ]
     },
     "execution_count": 291,
     "metadata": {},
     "output_type": "execute_result"
    }
   ],
   "source": [
    "valid = pd.read_csv('validate.csv')\n",
    "valid_labels = valid.as_matrix()\n",
    "valid_labels.shape"
   ]
  },
  {
   "cell_type": "code",
   "execution_count": 292,
   "metadata": {
    "collapsed": false
   },
   "outputs": [
    {
     "data": {
      "text/plain": [
       "(200, 2)"
      ]
     },
     "execution_count": 292,
     "metadata": {},
     "output_type": "execute_result"
    }
   ],
   "source": [
    "valid_labels = valid_labels[:,1:]\n",
    "valid_labels.shape"
   ]
  },
  {
   "cell_type": "code",
   "execution_count": 293,
   "metadata": {
    "collapsed": false
   },
   "outputs": [
    {
     "name": "stdout",
     "output_type": "stream",
     "text": [
      "/Users/omakhlouf/Desktop/Data Science Bowl/kaggle-dsb\n"
     ]
    }
   ],
   "source": [
    "cd kaggle-dsb/"
   ]
  },
  {
   "cell_type": "code",
   "execution_count": 295,
   "metadata": {
    "collapsed": false
   },
   "outputs": [
    {
     "data": {
      "text/plain": [
       "array([ 175.7,  107.3,   88.7,   30.7])"
      ]
     },
     "execution_count": 295,
     "metadata": {},
     "output_type": "execute_result"
    }
   ],
   "source": [
    "test_labels[:4]"
   ]
  },
  {
   "cell_type": "code",
   "execution_count": 296,
   "metadata": {
    "collapsed": false
   },
   "outputs": [
    {
     "data": {
      "text/plain": [
       "array([[ 104.3,  212.5],\n",
       "       [  87.2,  203.8]])"
      ]
     },
     "execution_count": 296,
     "metadata": {},
     "output_type": "execute_result"
    }
   ],
   "source": [
    "valid_labels[:2]"
   ]
  },
  {
   "cell_type": "code",
   "execution_count": 297,
   "metadata": {
    "collapsed": false
   },
   "outputs": [],
   "source": [
    "swapped = np.zeros_like(valid_labels)\n",
    "swapped[:,0] = valid_labels[:,1]\n",
    "swapped[:,1] = valid_labels[:,0]"
   ]
  },
  {
   "cell_type": "code",
   "execution_count": 298,
   "metadata": {
    "collapsed": false
   },
   "outputs": [],
   "source": [
    "valid_labels= swapped.reshape((400,1))"
   ]
  },
  {
   "cell_type": "code",
   "execution_count": 301,
   "metadata": {
    "collapsed": false
   },
   "outputs": [
    {
     "data": {
      "text/plain": [
       "(200,)"
      ]
     },
     "execution_count": 301,
     "metadata": {},
     "output_type": "execute_result"
    }
   ],
   "source": [
    "test_labels.shape"
   ]
  },
  {
   "cell_type": "code",
   "execution_count": 303,
   "metadata": {
    "collapsed": false
   },
   "outputs": [],
   "source": [
    "np.save('labels_lboard.npy',valid_labels[:,0])"
   ]
  },
  {
   "cell_type": "code",
   "execution_count": 299,
   "metadata": {
    "collapsed": false
   },
   "outputs": [
    {
     "data": {
      "text/plain": [
       "array([[ 212.5],\n",
       "       [ 104.3],\n",
       "       [ 203.8],\n",
       "       [  87.2]])"
      ]
     },
     "execution_count": 299,
     "metadata": {},
     "output_type": "execute_result"
    }
   ],
   "source": [
    "valid_labels[:4]"
   ]
  },
  {
   "cell_type": "code",
   "execution_count": 20,
   "metadata": {
    "collapsed": false
   },
   "outputs": [
    {
     "name": "stdout",
     "output_type": "stream",
     "text": [
      "/Users/omakhlouf/Desktop/Data Science Bowl/kaggle-dsb\n"
     ]
    }
   ],
   "source": [
    "cd kaggle-dsb"
   ]
  },
  {
   "cell_type": "code",
   "execution_count": 22,
   "metadata": {
    "collapsed": false
   },
   "outputs": [],
   "source": [
    "from helpers import *\n",
    "from nnutils import *"
   ]
  },
  {
   "cell_type": "code",
   "execution_count": 68,
   "metadata": {
    "collapsed": false
   },
   "outputs": [
    {
     "data": {
      "text/plain": [
       "(array([  9.,   9.,  19.,  41.,  37.,  36.,  18.,  21.,  18.,  18.,  25.,\n",
       "         20.,  23.,  17.,  19.,  18.,  11.,  12.,   8.,   4.,   3.,   3.,\n",
       "          2.,   5.,   2.,   0.,   0.,   0.,   0.,   2.]),\n",
       " array([   3.93 ,   15.699,   27.468,   39.237,   51.006,   62.775,\n",
       "          74.544,   86.313,   98.082,  109.851,  121.62 ,  133.389,\n",
       "         145.158,  156.927,  168.696,  180.465,  192.234,  204.003,\n",
       "         215.772,  227.541,  239.31 ,  251.079,  262.848,  274.617,\n",
       "         286.386,  298.155,  309.924,  321.693,  333.462,  345.231,  357.   ]),\n",
       " <a list of 30 Patch objects>)"
      ]
     },
     "execution_count": 68,
     "metadata": {},
     "output_type": "execute_result"
    },
    {
     "data": {
      "image/png": "[encoded data removed]",
      "text/plain": [
       "<matplotlib.figure.Figure at 0x114d2f510>"
      ]
     },
     "metadata": {},
     "output_type": "display_data"
    }
   ],
   "source": [
    "plt.hist(valid_labels, bins=30)"
   ]
  },
  {
   "cell_type": "code",
   "execution_count": 69,
   "metadata": {
    "collapsed": true
   },
   "outputs": [],
   "source": [
    "valid_errs = np.mean(np.square(sub_cdfs[:] - make_cdf(valid_labels[:])), 1)"
   ]
  },
  {
   "cell_type": "code",
   "execution_count": 122,
   "metadata": {
    "collapsed": false
   },
   "outputs": [
    {
     "data": {
      "text/plain": [
       "163"
      ]
     },
     "execution_count": 122,
     "metadata": {},
     "output_type": "execute_result"
    }
   ],
   "source": [
    "np.sum(mask)"
   ]
  },
  {
   "cell_type": "code",
   "execution_count": 131,
   "metadata": {
    "collapsed": false
   },
   "outputs": [
    {
     "data": {
      "text/plain": [
       "(0.013362621737174733, 193)"
      ]
     },
     "execution_count": 131,
     "metadata": {},
     "output_type": "execute_result"
    }
   ],
   "source": [
    "mask = (valid_labels[:,0] < 100)#*(valid_labels[:,0] < 200)\n",
    "valid_errs[mask].mean(), np.sum(mask)"
   ]
  },
  {
   "cell_type": "code",
   "execution_count": 135,
   "metadata": {
    "collapsed": false
   },
   "outputs": [
    {
     "data": {
      "text/plain": [
       "(0.026988574884343357, 207)"
      ]
     },
     "execution_count": 135,
     "metadata": {},
     "output_type": "execute_result"
    }
   ],
   "source": [
    "mask = (valid_labels[:,0] > 100)#*(valid_labels[:,0] < 200)\n",
    "valid_errs[mask].mean(), np.sum(mask)"
   ]
  },
  {
   "cell_type": "code",
   "execution_count": 72,
   "metadata": {
    "collapsed": false
   },
   "outputs": [
    {
     "data": {
      "text/plain": [
       "<matplotlib.collections.PathCollection at 0x1160f79d0>"
      ]
     },
     "execution_count": 72,
     "metadata": {},
     "output_type": "execute_result"
    },
    {
     "data": {
      "image/png": "[encoded data removed]",
      "text/plain": [
       "<matplotlib.figure.Figure at 0x116061590>"
      ]
     },
     "metadata": {},
     "output_type": "display_data"
    }
   ],
   "source": [
    "plt.scatter(valid_labels, valid_errs)"
   ]
  },
  {
   "cell_type": "markdown",
   "metadata": {},
   "source": [
    "## +++++++++++++++++++++++++++ Load SHIFT-AUG-EXP +++++++++++++++++++++++++++"
   ]
  },
  {
   "cell_type": "code",
   "execution_count": 175,
   "metadata": {
    "collapsed": true
   },
   "outputs": [],
   "source": [
    "RUN_NAME = 'CRPS-MODEL-3.0'\n",
    "DATA_DIR = 'netdata'\n",
    "ITERS = 100000\n",
    "START_ITER = 0\n",
    "MODEL_LOAD_PATH = None\n",
    "PIC_WIDTH = 32\n",
    "### Architectural Hyperparameters\n",
    "DEPTH_1 = 20         # The output depth of the first convolutional layer\n",
    "DEPTH_2 = 40         # The output depth of the second convolutional layer\n",
    "DEPTH_3 = 80         # The output depth of the second convolutional layer\n",
    "DEPTH_4 = 150        # The output depth of the second convolutional layer\n",
    "DEPTH_5 = 150        # The output depth of the second convolutional layer\n",
    "DEPTH_6 = 150        # The output depth of the second convolutional layer\n",
    "NUM_HIDDEN = 400     # Number of hidden units in the hidden layer\n",
    "NUM_OUTPUTS = 600    # Number of output classes in the softmax layer\n",
    "KERNEL_X = 3         # The width of the convolution kernel (using same for 1st and 2nd layers)\n",
    "KERNEL_Y = 3         # The height of the convolution kernel (using same for 1st and 2nd layers)\n",
    "mu = 0.0001\n",
    "LEARNING_RATE = 1e-4\n",
    "\n",
    "REGULARIZE_BIAS = False\n",
    "\n",
    "NUM_INPUTS = 3       # Number of input channels\n",
    "NUM_REPS = 64\n",
    "\n",
    "\n",
    "TRAIN_LABEL_NOISE_STD = 2.\n",
    "TRAIN_LABEL_SMOOTHING_STD = 0.\n",
    "DATA_AUGMENTATION = True\n",
    "ENLARGED = False\n",
    "SHIFT = False\n",
    "DIASTOLE = False\n",
    "\n",
    "DATA_MEDIAN_FILTER = False\n",
    "WEIGHTS_PATH = None\n",
    "\n",
    "##### The actual experiment I was using\n",
    "NUM_INPUTS = 9       # Number of input channels\n",
    "DEPTH_1 = 10         # The output depth of the first convolutional layer\n",
    "DEPTH_2 = 20         # The output depth of the second convolutional layer\n",
    "DEPTH_3 = 40         # The output depth of the second convolutional layer\n",
    "DEPTH_4 = 40        # The output depth of the second convolutional layer\n",
    "DEPTH_5 = 60        # The output depth of the second convolutional layer\n",
    "DEPTH_6 = 60        # The output depth of the second convolutional layer\n",
    "NUM_REPS = 144\n",
    "TRAIN_LABEL_NOISE_STD = .02\n",
    "TRAIN_LABEL_SMOOTHING_STD = .02\n",
    "DATA_AUGMENTATION = True\n",
    "mu = 0.0002\n",
    "#ENLARGED = True\n",
    "DIASTOLE = True\n",
    "RUN_NAME = 'DIA-ONLY5'"
   ]
  },
  {
   "cell_type": "code",
   "execution_count": 176,
   "metadata": {
    "collapsed": true
   },
   "outputs": [],
   "source": [
    "graph = tf.Graph()\n",
    "with graph.as_default():\n",
    "    ####################################### INPUT/OUTPUT PLACEHOLDERS ##############################################\n",
    "    x = tf.placeholder(tf.float32, shape=[None, PIC_WIDTH, PIC_WIDTH, NUM_INPUTS]) #Placeholder for the input images\n",
    "    y_ = tf.placeholder(tf.float32, shape=[None, NUM_OUTPUTS]) #Placeholder for the label cdfs\n",
    "    weights = tf.placeholder(tf.float32, shape=[None, 1])\n",
    "\n",
    "    ####################################### FIRST CONVOLUTIONAL LAYER ##############################################\n",
    "    # The weight tensor has dimensions [kernel_size_x, kernel_size_y, num_input_channels, num_output_channels]\n",
    "    W_conv1 = weight_variable([KERNEL_X, KERNEL_Y, NUM_INPUTS, DEPTH_1])\n",
    "    b_conv1 = bias_variable([DEPTH_1])\n",
    "    #Take the input image, reshape it to a 4D tensor with dimensions: [_, image_width, image_height, num_channels]\n",
    "    #x_image = tf.reshape(x, [-1,32,32,3])\n",
    "    # Convolve with kernel -> add bias -> apply ReLU -> max pool \n",
    "    h_conv1 = tf.nn.relu(conv2d(x, W_conv1) + b_conv1)\n",
    "    h_pool1 = max_pool_2x2(h_conv1)\n",
    "\n",
    "    ####################################### SECOND CONVOLUTIONAL LAYER ##############################################\n",
    "    W_conv2 = weight_variable([KERNEL_X, KERNEL_Y, DEPTH_1, DEPTH_2])\n",
    "    b_conv2 = bias_variable([DEPTH_2])\n",
    "\n",
    "    h_conv2 = tf.nn.relu(conv2d(h_pool1, W_conv2) + b_conv2)\n",
    "    h_pool2 = max_pool_2x2(h_conv2)\n",
    "\n",
    "    ####################################### THIRD CONVOLUTIONAL LAYER ##############################################\n",
    "    W_conv3 = weight_variable([KERNEL_X, KERNEL_Y, DEPTH_2, DEPTH_3])\n",
    "    b_conv3 = bias_variable([DEPTH_3])\n",
    "\n",
    "    h_conv3 = tf.nn.relu(conv2d(h_pool2, W_conv3) + b_conv3)\n",
    "    h_pool3 = max_pool_2x2(h_conv3)\n",
    "\n",
    "    ####################################### FOURTH CONVOLUTIONAL LAYER ##############################################\n",
    "    W_conv4 = weight_variable([KERNEL_X, KERNEL_Y, DEPTH_3, DEPTH_4])\n",
    "    b_conv4 = bias_variable([DEPTH_4])\n",
    "\n",
    "    h_conv4 = tf.nn.relu(conv2d(h_pool3, W_conv4) + b_conv4)\n",
    "    h_pool4 = max_pool_2x2(h_conv4)\n",
    "    # ####################################### FIFTH CONVOLUTIONAL LAYER ##############################################\n",
    "    #This layer uses a 1x1 convolution\n",
    "    W_conv5 = weight_variable([1, 1, DEPTH_4, DEPTH_5])\n",
    "    b_conv5 = bias_variable([DEPTH_5])\n",
    "\n",
    "    h_conv5 = tf.nn.relu(conv2d(h_pool4, W_conv5) + b_conv5)\n",
    "    h_pool5 = tf.nn.avg_pool(h_conv5,ksize=[1, 2, 2, 1], strides=[1, 2, 2, 1], padding='SAME')\n",
    "    h_pool5_flat = tf.reshape(h_pool5, [-1, DEPTH_6])\n",
    "\n",
    "    ############################################### DROPOUT ##########################################################\n",
    "    keep_prob = tf.placeholder(tf.float32)\n",
    "    h_fc1_drop = tf.nn.dropout(h_pool5_flat, keep_prob)\n",
    "\n",
    "    ############################################# SOFTMAX OUTPUT LAYER ###############################################\n",
    "    W_fc2 = weight_variable([DEPTH_5, NUM_OUTPUTS])\n",
    "    b_fc2 = bias_variable([NUM_OUTPUTS])\n",
    "\n",
    "    y_conv=tf.nn.softmax(tf.matmul(h_fc1_drop, W_fc2) + b_fc2)\n",
    "\n",
    "    #Cumulative sum\n",
    "    y = cumsum(y_conv)\n",
    "    ##################################### SETTING UP THE OPTIMISATION PROBLEM #####################################\n",
    "    crps = tf.reduce_mean(tf.reduce_mean(tf.square(y - y_), 1)*weights) #y_ here should be the label cdfs\n",
    "    ### Could add learning rate decay here - 1e-4 is the current learning rate\n",
    "    loss = crps + mu*(tf.nn.l2_loss(W_conv1) + tf.nn.l2_loss(W_conv2)\n",
    "                    + tf.nn.l2_loss(W_conv3) + tf.nn.l2_loss(W_conv4)\n",
    "                    + tf.nn.l2_loss(W_conv5) + tf.nn.l2_loss(W_fc2))\n",
    "    if REGULARIZE_BIAS:\n",
    "        loss += mu*(tf.nn.l2_loss(b_conv1) + tf.nn.l2_loss(b_conv2)\n",
    "                + tf.nn.l2_loss(b_conv3) + tf.nn.l2_loss(b_conv4)\n",
    "                + tf.nn.l2_loss(b_conv5) + tf.nn.l2_loss(b_fc2))\n",
    "\n",
    "    train_step = tf.train.AdamOptimizer(LEARNING_RATE).minimize(loss)\n",
    "\n",
    "    mean_y = tf.reduce_mean(tf.reshape(y,(-1, NUM_REPS, NUM_OUTPUTS)), 1)\n",
    "    mean_crps = tf.reduce_mean(tf.reduce_mean(tf.square(mean_y - y_), 1)*weights)\n",
    "\n",
    "    mean_crps_summ = tf.scalar_summary(\"mean crps\", mean_crps)\n",
    "    crps_summ = tf.scalar_summary(\"crps\", crps)"
   ]
  },
  {
   "cell_type": "code",
   "execution_count": 177,
   "metadata": {
    "collapsed": true
   },
   "outputs": [],
   "source": [
    "MODEL_LOAD_PATH = 'DIA-ONLY5/model-111000'"
   ]
  },
  {
   "cell_type": "code",
   "execution_count": 178,
   "metadata": {
    "collapsed": true
   },
   "outputs": [],
   "source": [
    "cdfs = []"
   ]
  },
  {
   "cell_type": "code",
   "execution_count": 181,
   "metadata": {
    "collapsed": false
   },
   "outputs": [],
   "source": [
    "#Do this 50 at a time -> 0:50, 50:100, 100:150, 150:200\n",
    "X, y = batch(test[:,100:200], [])\n",
    "cdfs = list(cdfs)\n",
    "with tf.Session(graph=graph) as session:\n",
    "    saver = tf.train.Saver()\n",
    "    saver.restore(session, MODEL_LOAD_PATH)\n",
    "    cdfs.extend(mean_y.eval(feed_dict={x:X, keep_prob: 1}))\n",
    "\n",
    "cdfs = np.array(cdfs)"
   ]
  },
  {
   "cell_type": "code",
   "execution_count": 182,
   "metadata": {
    "collapsed": false
   },
   "outputs": [
    {
     "data": {
      "text/plain": [
       "(200, 600)"
      ]
     },
     "execution_count": 182,
     "metadata": {},
     "output_type": "execute_result"
    }
   ],
   "source": [
    "cdfs.shape"
   ]
  },
  {
   "cell_type": "code",
   "execution_count": 183,
   "metadata": {
    "collapsed": true
   },
   "outputs": [],
   "source": [
    "shift_errs = np.mean(np.square(cdfs[:] - make_cdf(test_labels[:])), 1)"
   ]
  },
  {
   "cell_type": "code",
   "execution_count": 197,
   "metadata": {
    "collapsed": false
   },
   "outputs": [
    {
     "data": {
      "text/plain": [
       "0.026222164341912418"
      ]
     },
     "execution_count": 197,
     "metadata": {},
     "output_type": "execute_result"
    }
   ],
   "source": [
    "shift_errs[::2][test_labels[::2] > 80].mean()"
   ]
  },
  {
   "cell_type": "code",
   "execution_count": 202,
   "metadata": {
    "collapsed": false
   },
   "outputs": [
    {
     "data": {
      "text/plain": [
       "<matplotlib.collections.PathCollection at 0x1301da890>"
      ]
     },
     "execution_count": 202,
     "metadata": {},
     "output_type": "execute_result"
    },
    {
     "data": {
      "image/png": "[encoded data removed]",
      "text/plain": [
       "<matplotlib.figure.Figure at 0x134a3e7d0>"
      ]
     },
     "metadata": {},
     "output_type": "display_data"
    }
   ],
   "source": [
    "plt.scatter(test_labels[::2], shift_errs[::2])\n",
    "plt.scatter(test_labels[1::2], shift_errs[1::2], c='r')"
   ]
  },
  {
   "cell_type": "code",
   "execution_count": 199,
   "metadata": {
    "collapsed": false
   },
   "outputs": [
    {
     "data": {
      "text/plain": [
       "(0.022627842101478706, 74)"
      ]
     },
     "execution_count": 199,
     "metadata": {},
     "output_type": "execute_result"
    }
   ],
   "source": [
    "mask = (test_labels > 120)*(test_labels < 200)\n",
    "shift_errs[mask].mean(), np.sum(mask)"
   ]
  },
  {
   "cell_type": "markdown",
   "metadata": {},
   "source": [
    "## ++++++++++++++++++++++++++++++++++++++++++++++++++++++++++++++++++++++"
   ]
  },
  {
   "cell_type": "code",
   "execution_count": 27,
   "metadata": {
    "collapsed": true
   },
   "outputs": [],
   "source": [
    "sub = pd.read_csv('smooth_sub2.csv')"
   ]
  },
  {
   "cell_type": "code",
   "execution_count": 28,
   "metadata": {
    "collapsed": false
   },
   "outputs": [
    {
     "data": {
      "text/plain": [
       "(400, 601)"
      ]
     },
     "execution_count": 28,
     "metadata": {},
     "output_type": "execute_result"
    }
   ],
   "source": [
    "sub_cdfs = sub.as_matrix()\n",
    "sub_cdfs.shape"
   ]
  },
  {
   "cell_type": "code",
   "execution_count": 29,
   "metadata": {
    "collapsed": false
   },
   "outputs": [
    {
     "data": {
      "text/plain": [
       "(400, 600)"
      ]
     },
     "execution_count": 29,
     "metadata": {},
     "output_type": "execute_result"
    }
   ],
   "source": [
    "sub_cdfs = sub_cdfs[:, 1:]\n",
    "sub_cdfs.shape"
   ]
  },
  {
   "cell_type": "code",
   "execution_count": 598,
   "metadata": {
    "collapsed": false
   },
   "outputs": [
    {
     "data": {
      "text/plain": [
       "(400, 600)"
      ]
     },
     "execution_count": 598,
     "metadata": {},
     "output_type": "execute_result"
    }
   ],
   "source": [
    "width = 20\n",
    "h = np.ones(width)/float(width)\n",
    "smooth_cdfs = np.zeros_like(sub_cdfs)\n",
    "for i in range(sub_cdfs.shape[0]):\n",
    "    smoos = np.convolve(h,sub_cdfs[i])\n",
    "    smoos = smoos[width/2:-(width/2 - 1)]\n",
    "    smoos[-(width/2):] = 1.\n",
    "    smooth_cdfs[i,:] = smoos\n",
    "    \n",
    "smooth_cdfs.shape"
   ]
  },
  {
   "cell_type": "code",
   "execution_count": 601,
   "metadata": {
    "collapsed": false
   },
   "outputs": [
    {
     "data": {
      "text/plain": [
       "[<matplotlib.lines.Line2D at 0x14770ad50>]"
      ]
     },
     "execution_count": 601,
     "metadata": {},
     "output_type": "execute_result"
    },
    {
     "data": {
      "image/png": "[encoded data removed]",
      "text/plain": [
       "<matplotlib.figure.Figure at 0x1446e9350>"
      ]
     },
     "metadata": {},
     "output_type": "display_data"
    }
   ],
   "source": [
    "plt.plot(smooth_cdfs[2])\n",
    "plt.plot(sub_cdfs[2])"
   ]
  },
  {
   "cell_type": "code",
   "execution_count": 602,
   "metadata": {
    "collapsed": true
   },
   "outputs": [],
   "source": [
    "new_sub = prepare_submission(np.array(smooth_cdfs))\n",
    "new_sub.to_csv('smooth_sub2.csv')"
   ]
  },
  {
   "cell_type": "code",
   "execution_count": 555,
   "metadata": {
    "collapsed": false
   },
   "outputs": [],
   "source": [
    "width = 20\n",
    "h = np.ones(width)/float(width)\n",
    "smooth_cdfs = np.zeros_like(best_cdfs)\n",
    "for i in range(best_cdfs.shape[0]):\n",
    "    smoos = np.convolve(h,best_cdfs[i])\n",
    "    smoos = smoos[width/2:-(width/2 - 1)]\n",
    "    smoos[-(width/2):] = 1.\n",
    "    smooth_cdfs[i,:] = smoos\n",
    "smooth_errors = np.mean(np.square(smooth_cdfs[:] - make_cdf(test_labels[:])), 1)\n",
    "smoothed_errs.append(smooth_errors.mean())"
   ]
  },
  {
   "cell_type": "code",
   "execution_count": 566,
   "metadata": {
    "collapsed": false
   },
   "outputs": [],
   "source": [
    "uncertainty = np.array([pdfs[i].std() for i in range(200)])"
   ]
  },
  {
   "cell_type": "code",
   "execution_count": 581,
   "metadata": {
    "collapsed": false
   },
   "outputs": [],
   "source": [
    "uncertain_cdfs = best_cdfs[uncertainty > 0.022]\n",
    "uncertain_cdfs_smoos = smooth_cdfs[uncertainty > 0.022]"
   ]
  },
  {
   "cell_type": "code",
   "execution_count": 589,
   "metadata": {
    "collapsed": false
   },
   "outputs": [
    {
     "data": {
      "text/plain": [
       "(0.031015488607771008, 0.03224022037628526)"
      ]
     },
     "execution_count": 589,
     "metadata": {},
     "output_type": "execute_result"
    }
   ],
   "source": [
    "smooth_errors[uncertainty > 0.022].mean(), best_errs[uncertainty > 0.022].mean()"
   ]
  },
  {
   "cell_type": "code",
   "execution_count": 590,
   "metadata": {
    "collapsed": false
   },
   "outputs": [
    {
     "data": {
      "text/plain": [
       "[<matplotlib.lines.Line2D at 0x1472d52d0>]"
      ]
     },
     "execution_count": 590,
     "metadata": {},
     "output_type": "execute_result"
    },
    {
     "data": {
      "image/png": "[encoded data removed]",
      "text/plain": [
       "<matplotlib.figure.Figure at 0x1472d5450>"
      ]
     },
     "metadata": {},
     "output_type": "display_data"
    }
   ],
   "source": [
    "plt.plot(uncertain_cdfs[5])\n",
    "plt.plot(uncertain_cdfs_smoos[5])"
   ]
  },
  {
   "cell_type": "code",
   "execution_count": 560,
   "metadata": {
    "collapsed": false
   },
   "outputs": [
    {
     "data": {
      "text/plain": [
       "(200, 599)"
      ]
     },
     "execution_count": 560,
     "metadata": {},
     "output_type": "execute_result"
    }
   ],
   "source": [
    "pdfs = np.diff(best_cdfs, axis=1)\n",
    "pdfs.shape"
   ]
  },
  {
   "cell_type": "code",
   "execution_count": 552,
   "metadata": {
    "collapsed": false
   },
   "outputs": [
    {
     "data": {
      "text/plain": [
       "(8, 0.021221292682711348)"
      ]
     },
     "execution_count": 552,
     "metadata": {},
     "output_type": "execute_result"
    }
   ],
   "source": [
    "np.argmin(smoothed_errs), smoothed_errs[8]"
   ]
  },
  {
   "cell_type": "code",
   "execution_count": 554,
   "metadata": {
    "collapsed": false
   },
   "outputs": [
    {
     "data": {
      "text/plain": [
       "0.00032493093200966147"
      ]
     },
     "execution_count": 554,
     "metadata": {},
     "output_type": "execute_result"
    }
   ],
   "source": [
    "best_errs.mean() - smoothed_errs[8]"
   ]
  },
  {
   "cell_type": "code",
   "execution_count": 549,
   "metadata": {
    "collapsed": false
   },
   "outputs": [
    {
     "data": {
      "text/plain": [
       "[<matplotlib.lines.Line2D at 0x144a34a10>]"
      ]
     },
     "execution_count": 549,
     "metadata": {},
     "output_type": "execute_result"
    },
    {
     "data": {
      "image/png": "[encoded data removed]",
      "text/plain": [
       "<matplotlib.figure.Figure at 0x144968390>"
      ]
     },
     "metadata": {},
     "output_type": "display_data"
    }
   ],
   "source": [
    "plt.plot(smoothed_errs)"
   ]
  },
  {
   "cell_type": "code",
   "execution_count": 545,
   "metadata": {
    "collapsed": false
   },
   "outputs": [
    {
     "data": {
      "text/plain": [
       "38"
      ]
     },
     "execution_count": 545,
     "metadata": {},
     "output_type": "execute_result"
    }
   ],
   "source": [
    "len(range(4,80,2))"
   ]
  },
  {
   "cell_type": "code",
   "execution_count": 535,
   "metadata": {
    "collapsed": false
   },
   "outputs": [
    {
     "data": {
      "image/png": "[encoded data removed]",
      "text/plain": [
       "<matplotlib.figure.Figure at 0x1436c4150>"
      ]
     },
     "metadata": {},
     "output_type": "display_data"
    }
   ],
   "source": [
    "smooth_errors = np.mean(np.square(smooth_cdfs[:] - make_cdf(test_labels[:])), 1)\n",
    "counts,scores,_ = plt.hist(errors, bins=30)"
   ]
  },
  {
   "cell_type": "code",
   "execution_count": 536,
   "metadata": {
    "collapsed": false
   },
   "outputs": [
    {
     "data": {
      "text/plain": [
       "0.021352636478102066"
      ]
     },
     "execution_count": 536,
     "metadata": {},
     "output_type": "execute_result"
    }
   ],
   "source": [
    "smooth_errors.mean()"
   ]
  },
  {
   "cell_type": "code",
   "execution_count": 531,
   "metadata": {
    "collapsed": false
   },
   "outputs": [
    {
     "data": {
      "text/plain": [
       "0.02154622361472101"
      ]
     },
     "execution_count": 531,
     "metadata": {},
     "output_type": "execute_result"
    }
   ],
   "source": [
    "best_errs.mean()"
   ]
  },
  {
   "cell_type": "code",
   "execution_count": 559,
   "metadata": {
    "collapsed": false
   },
   "outputs": [
    {
     "data": {
      "text/plain": [
       "[<matplotlib.lines.Line2D at 0x1452e9450>]"
      ]
     },
     "execution_count": 559,
     "metadata": {},
     "output_type": "execute_result"
    },
    {
     "data": {
      "image/png": "[encoded data removed]",
      "text/plain": [
       "<matplotlib.figure.Figure at 0x1452e9590>"
      ]
     },
     "metadata": {},
     "output_type": "display_data"
    }
   ],
   "source": [
    "case = 30\n",
    "plt.plot(smooth_cdfs[case])\n",
    "plt.plot(best_cdfs[case])"
   ]
  },
  {
   "cell_type": "code",
   "execution_count": 508,
   "metadata": {
    "collapsed": false
   },
   "outputs": [
    {
     "data": {
      "text/plain": [
       "0.088187763661251001"
      ]
     },
     "execution_count": 508,
     "metadata": {},
     "output_type": "execute_result"
    }
   ],
   "source": [
    "np.mean(np.square(cdfs[0] - make_cdf(test_labels[0:1])[0]))"
   ]
  },
  {
   "cell_type": "code",
   "execution_count": 515,
   "metadata": {
    "collapsed": false
   },
   "outputs": [
    {
     "data": {
      "text/plain": [
       "0.010311087437755788"
      ]
     },
     "execution_count": 515,
     "metadata": {},
     "output_type": "execute_result"
    }
   ],
   "source": [
    "np.mean(np.square(prop_smoos - make_cdf(test_labels[0:1])[0]))"
   ]
  },
  {
   "cell_type": "code",
   "execution_count": 80,
   "metadata": {
    "collapsed": false
   },
   "outputs": [
    {
     "data": {
      "text/plain": [
       "((3, 12, 2, 8, 32, 32), (3, 35, 2, 8, 32, 32))"
      ]
     },
     "execution_count": 80,
     "metadata": {},
     "output_type": "execute_result"
    }
   ],
   "source": [
    "reduced_test = test[:, test_labels>240, :,:,:,:]\n",
    "reduced_train = train[:, train_labels>240, :,:,:,:]\n",
    "reduced_test_labels = test_labels[test_labels>240]\n",
    "reduced_train_labels = train_labels[train_labels>240]\n",
    "reduced_test.shape, reduced_train.shape"
   ]
  },
  {
   "cell_type": "code",
   "execution_count": 471,
   "metadata": {
    "collapsed": false
   },
   "outputs": [
    {
     "data": {
      "text/plain": [
       "(100,)"
      ]
     },
     "execution_count": 471,
     "metadata": {},
     "output_type": "execute_result"
    }
   ],
   "source": [
    "test_labels[::2].shape"
   ]
  },
  {
   "cell_type": "code",
   "execution_count": 82,
   "metadata": {
    "collapsed": false
   },
   "outputs": [
    {
     "data": {
      "text/plain": [
       "((50, 32, 32, 9), (50, 1))"
      ]
     },
     "execution_count": 82,
     "metadata": {},
     "output_type": "execute_result"
    }
   ],
   "source": [
    "rbatchdata, rbatchlabels, _ = minibatch(reduced_train, reduced_train_labels, size=50)\n",
    "rbatchdata.shape, rbatchlabels.shape"
   ]
  },
  {
   "cell_type": "code",
   "execution_count": 95,
   "metadata": {
    "collapsed": false
   },
   "outputs": [
    {
     "data": {
      "text/plain": [
       "<matplotlib.image.AxesImage at 0x12aa3f510>"
      ]
     },
     "execution_count": 95,
     "metadata": {},
     "output_type": "execute_result"
    },
    {
     "data": {
      "image/png": "[encoded data removed]",
      "text/plain": [
       "<matplotlib.figure.Figure at 0x12c1e0290>"
      ]
     },
     "metadata": {},
     "output_type": "display_data"
    }
   ],
   "source": [
    "case = 1\n",
    "i = 0\n",
    "plt.imshow(rbatchdata[case, :, :, i])#.mean()"
   ]
  },
  {
   "cell_type": "code",
   "execution_count": null,
   "metadata": {
    "collapsed": true
   },
   "outputs": [],
   "source": []
  },
  {
   "cell_type": "code",
   "execution_count": 436,
   "metadata": {
    "collapsed": false
   },
   "outputs": [
    {
     "data": {
      "text/plain": [
       "800"
      ]
     },
     "execution_count": 436,
     "metadata": {},
     "output_type": "execute_result"
    }
   ],
   "source": [
    "len(train_labels)"
   ]
  },
  {
   "cell_type": "code",
   "execution_count": 75,
   "metadata": {
    "collapsed": false
   },
   "outputs": [
    {
     "data": {
      "text/plain": [
       "(3, 68, 2, 8, 32, 32)"
      ]
     },
     "execution_count": 75,
     "metadata": {},
     "output_type": "execute_result"
    }
   ],
   "source": [
    "test[:, test_labels>150, :,:,:,:].shape"
   ]
  },
  {
   "cell_type": "code",
   "execution_count": 38,
   "metadata": {
    "collapsed": false
   },
   "outputs": [
    {
     "data": {
      "text/plain": [
       "(3, 200, 2, 8, 32, 32)"
      ]
     },
     "execution_count": 38,
     "metadata": {},
     "output_type": "execute_result"
    }
   ],
   "source": [
    "test.shape"
   ]
  },
  {
   "cell_type": "code",
   "execution_count": 37,
   "metadata": {
    "collapsed": false
   },
   "outputs": [
    {
     "data": {
      "text/plain": [
       "(3, 800, 2, 8, 32, 32)"
      ]
     },
     "execution_count": 37,
     "metadata": {},
     "output_type": "execute_result"
    }
   ],
   "source": [
    "train.shape"
   ]
  },
  {
   "cell_type": "code",
   "execution_count": 20,
   "metadata": {
    "collapsed": true
   },
   "outputs": [],
   "source": [
    "RUN_NAME = 'CRPS-MODEL-3.0'\n",
    "DATA_DIR = 'netdata'\n",
    "ITERS = 100000\n",
    "START_ITER = 0\n",
    "MODEL_LOAD_PATH = None\n",
    "PIC_WIDTH = 32\n",
    "### Architectural Hyperparameters\n",
    "DEPTH_1 = 20         # The output depth of the first convolutional layer\n",
    "DEPTH_2 = 40         # The output depth of the second convolutional layer\n",
    "DEPTH_3 = 80         # The output depth of the second convolutional layer\n",
    "DEPTH_4 = 150        # The output depth of the second convolutional layer\n",
    "DEPTH_5 = 150        # The output depth of the second convolutional layer\n",
    "DEPTH_6 = 150        # The output depth of the second convolutional layer\n",
    "NUM_HIDDEN = 400     # Number of hidden units in the hidden layer\n",
    "NUM_OUTPUTS = 600    # Number of output classes in the softmax layer\n",
    "KERNEL_X = 3         # The width of the convolution kernel (using same for 1st and 2nd layers)\n",
    "KERNEL_Y = 3         # The height of the convolution kernel (using same for 1st and 2nd layers)\n",
    "mu = 0.0001\n",
    "LEARNING_RATE = 1e-4\n",
    "\n",
    "REGULARIZE_BIAS = False\n",
    "\n",
    "NUM_INPUTS = 3       # Number of input channels\n",
    "NUM_REPS = 64\n",
    "\n",
    "\n",
    "TRAIN_LABEL_NOISE_STD = 2.\n",
    "TRAIN_LABEL_SMOOTHING_STD = 0.\n",
    "DATA_AUGMENTATION = True\n",
    "ENLARGED = False\n",
    "SHIFT = False\n",
    "DIASTOLE = False\n",
    "\n",
    "DATA_MEDIAN_FILTER = False\n",
    "WEIGHTS_PATH = None\n",
    "\n",
    "##### The actual experiment I was using\n",
    "NUM_INPUTS = 9       # Number of input channels\n",
    "NUM_REPS = 144\n",
    "TRAIN_LABEL_NOISE_STD = 0.0001\n",
    "TRAIN_LABEL_SMOOTHING_STD = 0.\n",
    "DATA_AUGMENTATION = True\n",
    "SHIFT = True\n",
    "RUN_NAME = 'NEW-SHIFT-AUG-EXP'"
   ]
  },
  {
   "cell_type": "code",
   "execution_count": 21,
   "metadata": {
    "collapsed": false
   },
   "outputs": [],
   "source": [
    "graph = tf.Graph()\n",
    "with graph.as_default():\n",
    "    ####################################### INPUT/OUTPUT PLACEHOLDERS ##############################################\n",
    "    x = tf.placeholder(tf.float32, shape=[None, PIC_WIDTH, PIC_WIDTH, NUM_INPUTS]) #Placeholder for the input images\n",
    "    y_ = tf.placeholder(tf.float32, shape=[None, NUM_OUTPUTS]) #Placeholder for the label cdfs\n",
    "    weights = tf.placeholder(tf.float32, shape=[None, 1])\n",
    "\n",
    "    ####################################### FIRST CONVOLUTIONAL LAYER ##############################################\n",
    "    # The weight tensor has dimensions [kernel_size_x, kernel_size_y, num_input_channels, num_output_channels]\n",
    "    W_conv1 = weight_variable([KERNEL_X, KERNEL_Y, NUM_INPUTS, DEPTH_1])\n",
    "    b_conv1 = bias_variable([DEPTH_1])\n",
    "    #Take the input image, reshape it to a 4D tensor with dimensions: [_, image_width, image_height, num_channels]\n",
    "    #x_image = tf.reshape(x, [-1,32,32,3])\n",
    "    # Convolve with kernel -> add bias -> apply ReLU -> max pool \n",
    "    h_conv1 = tf.nn.relu(conv2d(x, W_conv1) + b_conv1)\n",
    "    h_pool1 = max_pool_2x2(h_conv1)\n",
    "\n",
    "    ####################################### SECOND CONVOLUTIONAL LAYER ##############################################\n",
    "    W_conv2 = weight_variable([KERNEL_X, KERNEL_Y, DEPTH_1, DEPTH_2])\n",
    "    b_conv2 = bias_variable([DEPTH_2])\n",
    "\n",
    "    h_conv2 = tf.nn.relu(conv2d(h_pool1, W_conv2) + b_conv2)\n",
    "    h_pool2 = max_pool_2x2(h_conv2)\n",
    "\n",
    "    ####################################### THIRD CONVOLUTIONAL LAYER ##############################################\n",
    "    W_conv3 = weight_variable([KERNEL_X, KERNEL_Y, DEPTH_2, DEPTH_3])\n",
    "    b_conv3 = bias_variable([DEPTH_3])\n",
    "\n",
    "    h_conv3 = tf.nn.relu(conv2d(h_pool2, W_conv3) + b_conv3)\n",
    "    h_pool3 = max_pool_2x2(h_conv3)\n",
    "\n",
    "    ####################################### FOURTH CONVOLUTIONAL LAYER ##############################################\n",
    "    #W_conv4 = weight_variable([KERNEL_X, KERNEL_Y, DEPTH_3, DEPTH_4])\n",
    "    W_conv4 = weight_variable([2, 2, DEPTH_3, DEPTH_4]) #Modified this to support 5x5\n",
    "    b_conv4 = bias_variable([DEPTH_4])\n",
    "\n",
    "    h_conv4 = tf.nn.relu(conv2d(h_pool3, W_conv4) + b_conv4)\n",
    "    h_pool4 = max_pool_2x2(h_conv4)\n",
    "    # ####################################### FIFTH CONVOLUTIONAL LAYER ##############################################\n",
    "    #This layer uses a 1x1 convolution\n",
    "    W_conv5 = weight_variable([1, 1, DEPTH_4, DEPTH_5])\n",
    "    b_conv5 = bias_variable([DEPTH_5])\n",
    "\n",
    "    h_conv5 = tf.nn.relu(conv2d(h_pool4, W_conv5) + b_conv5)\n",
    "    h_pool5 = tf.nn.avg_pool(h_conv5,ksize=[1, 2, 2, 1], strides=[1, 2, 2, 1], padding='SAME')\n",
    "    h_pool5_flat = tf.reshape(h_pool5, [-1, DEPTH_6])\n",
    "\n",
    "    ############################################### DROPOUT ##########################################################\n",
    "    keep_prob = tf.placeholder(tf.float32)\n",
    "    h_fc1_drop = tf.nn.dropout(h_pool5_flat, keep_prob)\n",
    "\n",
    "    ############################################# SOFTMAX OUTPUT LAYER ###############################################\n",
    "    W_fc2 = weight_variable([DEPTH_5, NUM_OUTPUTS])\n",
    "    b_fc2 = bias_variable([NUM_OUTPUTS])\n",
    "\n",
    "    y_conv=tf.nn.softmax(tf.matmul(h_fc1_drop, W_fc2) + b_fc2)\n",
    "\n",
    "    #Cumulative sum\n",
    "    y = cumsum(y_conv)\n",
    "    ##################################### SETTING UP THE OPTIMISATION PROBLEM #####################################\n",
    "    crps = tf.reduce_mean(tf.reduce_mean(tf.square(y - y_), 1)*weights) #y_ here should be the label cdfs\n",
    "    ### Could add learning rate decay here - 1e-4 is the current learning rate\n",
    "    loss = crps + mu*(tf.nn.l2_loss(W_conv1) + tf.nn.l2_loss(W_conv2)\n",
    "                    + tf.nn.l2_loss(W_conv3) + tf.nn.l2_loss(W_conv4)\n",
    "                    + tf.nn.l2_loss(W_conv5) + tf.nn.l2_loss(W_fc2))\n",
    "    if REGULARIZE_BIAS:\n",
    "        loss += mu*(tf.nn.l2_loss(b_conv1) + tf.nn.l2_loss(b_conv2)\n",
    "                + tf.nn.l2_loss(b_conv3) + tf.nn.l2_loss(b_conv4)\n",
    "                + tf.nn.l2_loss(b_conv5) + tf.nn.l2_loss(b_fc2))\n",
    "\n",
    "    train_step = tf.train.AdamOptimizer(LEARNING_RATE).minimize(loss)\n",
    "\n",
    "    mean_y = tf.reduce_mean(tf.reshape(y,(-1, NUM_REPS, NUM_OUTPUTS)), 1)\n",
    "    mean_crps = tf.reduce_mean(tf.reduce_mean(tf.square(mean_y - y_), 1)*weights)\n",
    "\n",
    "    mean_crps_summ = tf.scalar_summary(\"mean crps\", mean_crps)\n",
    "    crps_summ = tf.scalar_summary(\"crps\", crps)\n"
   ]
  },
  {
   "cell_type": "code",
   "execution_count": 22,
   "metadata": {
    "collapsed": true
   },
   "outputs": [],
   "source": [
    "MODEL_LOAD_PATH = 'NEW-SHIFT-AUG-EXP/model-27000'"
   ]
  },
  {
   "cell_type": "markdown",
   "metadata": {},
   "source": [
    "## Get the outputs on the validation data using this model, 50 cases at a time"
   ]
  },
  {
   "cell_type": "code",
   "execution_count": 23,
   "metadata": {
    "collapsed": true
   },
   "outputs": [],
   "source": [
    "cdfs = []"
   ]
  },
  {
   "cell_type": "code",
   "execution_count": 10,
   "metadata": {
    "collapsed": false
   },
   "outputs": [
    {
     "data": {
      "text/plain": [
       "(3, 100, 2, 8, 32, 32)"
      ]
     },
     "execution_count": 10,
     "metadata": {},
     "output_type": "execute_result"
    }
   ],
   "source": [
    "test[:,0:100].shape"
   ]
  },
  {
   "cell_type": "code",
   "execution_count": 33,
   "metadata": {
    "collapsed": false
   },
   "outputs": [],
   "source": [
    "#Do this 50 at a time -> 0:50, 50:100, 100:150, 150:200\n",
    "X, y = batch(test[:,100:200], [])\n",
    "cdfs = list(cdfs)\n",
    "with tf.Session(graph=graph) as session:\n",
    "    saver = tf.train.Saver()\n",
    "    saver.restore(session, MODEL_LOAD_PATH)\n",
    "    cdfs.extend(mean_y.eval(feed_dict={x:X, keep_prob: 1}))\n",
    "\n",
    "cdfs = np.array(cdfs)"
   ]
  },
  {
   "cell_type": "code",
   "execution_count": 34,
   "metadata": {
    "collapsed": false
   },
   "outputs": [
    {
     "data": {
      "text/plain": [
       "(200, 600)"
      ]
     },
     "execution_count": 34,
     "metadata": {},
     "output_type": "execute_result"
    }
   ],
   "source": [
    "cdfs.shape"
   ]
  },
  {
   "cell_type": "markdown",
   "metadata": {},
   "source": [
    "## ++++++++++++++++++++++++ SHIFTED MODEL ++++++++++++++++++++++++++++++++"
   ]
  },
  {
   "cell_type": "code",
   "execution_count": 35,
   "metadata": {
    "collapsed": false
   },
   "outputs": [
    {
     "data": {
      "image/png": "[encoded data removed]",
      "text/plain": [
       "<matplotlib.figure.Figure at 0x1434cb6d0>"
      ]
     },
     "metadata": {},
     "output_type": "display_data"
    }
   ],
   "source": [
    "errors = np.mean(np.square(cdfs[:] - make_cdf(test_labels[:])), 1)\n",
    "counts,scores,_ = plt.hist(errors, bins=30)"
   ]
  },
  {
   "cell_type": "code",
   "execution_count": 36,
   "metadata": {
    "collapsed": false
   },
   "outputs": [
    {
     "data": {
      "text/plain": [
       "0.18793450107488469"
      ]
     },
     "execution_count": 36,
     "metadata": {},
     "output_type": "execute_result"
    }
   ],
   "source": [
    "errors.mean()"
   ]
  },
  {
   "cell_type": "code",
   "execution_count": 136,
   "metadata": {
    "collapsed": false
   },
   "outputs": [
    {
     "data": {
      "text/plain": [
       "<matplotlib.collections.PathCollection at 0x138792e10>"
      ]
     },
     "execution_count": 136,
     "metadata": {},
     "output_type": "execute_result"
    },
    {
     "data": {
      "image/png": "[encoded data removed]",
      "text/plain": [
       "<matplotlib.figure.Figure at 0x12587f910>"
      ]
     },
     "metadata": {},
     "output_type": "display_data"
    }
   ],
   "source": [
    "plt.scatter(test_labels, best_errs)"
   ]
  },
  {
   "cell_type": "code",
   "execution_count": 38,
   "metadata": {
    "collapsed": false
   },
   "outputs": [
    {
     "data": {
      "text/plain": [
       "<matplotlib.collections.PathCollection at 0x13d7b42d0>"
      ]
     },
     "execution_count": 38,
     "metadata": {},
     "output_type": "execute_result"
    },
    {
     "data": {
      "image/png": "[encoded data removed]",
      "text/plain": [
       "<matplotlib.figure.Figure at 0x1432a8e90>"
      ]
     },
     "metadata": {},
     "output_type": "display_data"
    }
   ],
   "source": [
    "plt.scatter(test_labels, errors)"
   ]
  },
  {
   "cell_type": "code",
   "execution_count": 140,
   "metadata": {
    "collapsed": false
   },
   "outputs": [
    {
     "data": {
      "text/plain": [
       "array([ 0.20074761])"
      ]
     },
     "execution_count": 140,
     "metadata": {},
     "output_type": "execute_result"
    }
   ],
   "source": [
    "errors[test_labels > 320]"
   ]
  },
  {
   "cell_type": "code",
   "execution_count": 141,
   "metadata": {
    "collapsed": false
   },
   "outputs": [
    {
     "data": {
      "text/plain": [
       "array([ 0.16779826])"
      ]
     },
     "execution_count": 141,
     "metadata": {},
     "output_type": "execute_result"
    }
   ],
   "source": [
    "best_errs[test_labels > 320]"
   ]
  },
  {
   "cell_type": "code",
   "execution_count": 60,
   "metadata": {
    "collapsed": false
   },
   "outputs": [
    {
     "data": {
      "text/plain": [
       "0.017999962137713179"
      ]
     },
     "execution_count": 60,
     "metadata": {},
     "output_type": "execute_result"
    }
   ],
   "source": [
    "mask = (test_labels > 220)*(test_labels < 300)\n",
    "errors[mask].mean()"
   ]
  },
  {
   "cell_type": "markdown",
   "metadata": {},
   "source": [
    "## ++++++++++++++++++++++ END SHIFTED MODEL ++++++++++++++++++++++++++++++"
   ]
  },
  {
   "cell_type": "markdown",
   "metadata": {},
   "source": [
    "### Load the best model here"
   ]
  },
  {
   "cell_type": "code",
   "execution_count": 88,
   "metadata": {
    "collapsed": true
   },
   "outputs": [],
   "source": [
    "RUN_NAME = 'CRPS-MODEL-3.0'\n",
    "DATA_DIR = 'netdata'\n",
    "ITERS = 100000\n",
    "START_ITER = 0\n",
    "MODEL_LOAD_PATH = None\n",
    "PIC_WIDTH = 32\n",
    "### Architectural Hyperparameters\n",
    "DEPTH_1 = 20         # The output depth of the first convolutional layer\n",
    "DEPTH_2 = 40         # The output depth of the second convolutional layer\n",
    "DEPTH_3 = 80         # The output depth of the second convolutional layer\n",
    "DEPTH_4 = 150        # The output depth of the second convolutional layer\n",
    "DEPTH_5 = 150        # The output depth of the second convolutional layer\n",
    "DEPTH_6 = 150        # The output depth of the second convolutional layer\n",
    "NUM_HIDDEN = 400     # Number of hidden units in the hidden layer\n",
    "NUM_OUTPUTS = 600    # Number of output classes in the softmax layer\n",
    "KERNEL_X = 3         # The width of the convolution kernel (using same for 1st and 2nd layers)\n",
    "KERNEL_Y = 3         # The height of the convolution kernel (using same for 1st and 2nd layers)\n",
    "mu = 0.0001\n",
    "LEARNING_RATE = 1e-4\n",
    "\n",
    "REGULARIZE_BIAS = False\n",
    "\n",
    "\n",
    "NUM_INPUTS = 3       # Number of input channels\n",
    "NUM_REPS = 64\n",
    "MBSIZE = 100\n",
    "\n",
    "TRAIN_LABEL_NOISE_STD = 2.\n",
    "TRAIN_LABEL_SMOOTHING_STD = 0.\n",
    "DATA_AUGMENTATION = False\n",
    "\n",
    "DATA_MEDIAN_FILTER = False\n",
    "DATA_UNIT_VAR = False\n",
    "VAL_PER = 1000\n",
    "DROPOUT = 0.5\n",
    "ALSO_MIN_RMSE = False\n",
    "TEMP_DIR_PATH = '.'\n",
    "TRAIN_ALL = False\n",
    "FILTER_BY_LABEL = False\n",
    "#########################################\n",
    "NUM_INPUTS = 9       # Number of input channels\n",
    "NUM_REPS = 144\n",
    "TRAIN_LABEL_NOISE_STD = 1.\n",
    "TRAIN_LABEL_SMOOTHING_STD = 2.\n",
    "DATA_AUGMENTATION = True\n",
    "RUN_NAME = 'AUG-EXP'"
   ]
  },
  {
   "cell_type": "code",
   "execution_count": 89,
   "metadata": {
    "collapsed": true
   },
   "outputs": [],
   "source": [
    "MODEL_LOAD_PATH = 'AUG-EXP/model-9800'\n",
    "best_cdfs = []"
   ]
  },
  {
   "cell_type": "code",
   "execution_count": 90,
   "metadata": {
    "collapsed": true
   },
   "outputs": [],
   "source": [
    "graph = tf.Graph()\n",
    "with graph.as_default():\n",
    "    ####################################### INPUT/OUTPUT PLACEHOLDERS ##############################################\n",
    "    x = tf.placeholder(tf.float32, shape=[None, PIC_WIDTH, PIC_WIDTH, NUM_INPUTS]) #Placeholder for the input images\n",
    "    y_ = tf.placeholder(tf.float32, shape=[None, NUM_OUTPUTS]) #Placeholder for the label cdfs\n",
    "    weights = tf.placeholder(tf.float32, shape=[None, 1])\n",
    "\n",
    "    ####################################### FIRST CONVOLUTIONAL LAYER ##############################################\n",
    "    # The weight tensor has dimensions [kernel_size_x, kernel_size_y, num_input_channels, num_output_channels]\n",
    "    W_conv1 = weight_variable([KERNEL_X, KERNEL_Y, NUM_INPUTS, DEPTH_1])\n",
    "    b_conv1 = bias_variable([DEPTH_1])\n",
    "    #Take the input image, reshape it to a 4D tensor with dimensions: [_, image_width, image_height, num_channels]\n",
    "    #x_image = tf.reshape(x, [-1,32,32,3])\n",
    "    # Convolve with kernel -> add bias -> apply ReLU -> max pool \n",
    "    h_conv1 = tf.nn.relu(conv2d(x, W_conv1) + b_conv1)\n",
    "    h_pool1 = max_pool_2x2(h_conv1)\n",
    "\n",
    "    ####################################### SECOND CONVOLUTIONAL LAYER ##############################################\n",
    "    W_conv2 = weight_variable([KERNEL_X, KERNEL_Y, DEPTH_1, DEPTH_2])\n",
    "    b_conv2 = bias_variable([DEPTH_2])\n",
    "\n",
    "    h_conv2 = tf.nn.relu(conv2d(h_pool1, W_conv2) + b_conv2)\n",
    "    h_pool2 = max_pool_2x2(h_conv2)\n",
    "\n",
    "    ####################################### THIRD CONVOLUTIONAL LAYER ##############################################\n",
    "    W_conv3 = weight_variable([KERNEL_X, KERNEL_Y, DEPTH_2, DEPTH_3])\n",
    "    b_conv3 = bias_variable([DEPTH_3])\n",
    "\n",
    "    h_conv3 = tf.nn.relu(conv2d(h_pool2, W_conv3) + b_conv3)\n",
    "    h_pool3 = max_pool_2x2(h_conv3)\n",
    "\n",
    "    ####################################### FOURTH CONVOLUTIONAL LAYER ##############################################\n",
    "    W_conv4 = weight_variable([KERNEL_X, KERNEL_Y, DEPTH_3, DEPTH_4])\n",
    "    #W_conv4 = weight_variable([2, 2, DEPTH_3, DEPTH_4]) #Modified this to support 5x5\n",
    "    b_conv4 = bias_variable([DEPTH_4])\n",
    "\n",
    "    h_conv4 = tf.nn.relu(conv2d(h_pool3, W_conv4) + b_conv4)\n",
    "    h_pool4 = max_pool_2x2(h_conv4)\n",
    "    # ####################################### FIFTH CONVOLUTIONAL LAYER ##############################################\n",
    "    #This layer uses a 1x1 convolution\n",
    "    W_conv5 = weight_variable([1, 1, DEPTH_4, DEPTH_5])\n",
    "    b_conv5 = bias_variable([DEPTH_5])\n",
    "\n",
    "    h_conv5 = tf.nn.relu(conv2d(h_pool4, W_conv5) + b_conv5)\n",
    "    h_pool5 = tf.nn.avg_pool(h_conv5,ksize=[1, 2, 2, 1], strides=[1, 2, 2, 1], padding='SAME')\n",
    "    h_pool5_flat = tf.reshape(h_pool5, [-1, DEPTH_6])\n",
    "\n",
    "    ############################################### DROPOUT ##########################################################\n",
    "    keep_prob = tf.placeholder(tf.float32)\n",
    "    h_fc1_drop = tf.nn.dropout(h_pool5_flat, keep_prob)\n",
    "\n",
    "    ############################################# SOFTMAX OUTPUT LAYER ###############################################\n",
    "    W_fc2 = weight_variable([DEPTH_5, NUM_OUTPUTS])\n",
    "    b_fc2 = bias_variable([NUM_OUTPUTS])\n",
    "\n",
    "    y_conv=tf.nn.softmax(tf.matmul(h_fc1_drop, W_fc2) + b_fc2)\n",
    "\n",
    "    #Cumulative sum\n",
    "    y = cumsum(y_conv)\n",
    "    ##################################### SETTING UP THE OPTIMISATION PROBLEM #####################################\n",
    "    crps = tf.reduce_mean(tf.reduce_mean(tf.square(y - y_), 1)*weights) #y_ here should be the label cdfs\n",
    "    ### Could add learning rate decay here - 1e-4 is the current learning rate\n",
    "    loss = crps + mu*(tf.nn.l2_loss(W_conv1) + tf.nn.l2_loss(W_conv2)\n",
    "                    + tf.nn.l2_loss(W_conv3) + tf.nn.l2_loss(W_conv4)\n",
    "                    + tf.nn.l2_loss(W_conv5) + tf.nn.l2_loss(W_fc2))\n",
    "#     if REGULARIZE_BIAS:\n",
    "#         loss += mu*(tf.nn.l2_loss(b_conv1) + tf.nn.l2_loss(b_conv2)\n",
    "#                 + tf.nn.l2_loss(b_conv3) + tf.nn.l2_loss(b_conv4)\n",
    "#                 + tf.nn.l2_loss(b_conv5) + tf.nn.l2_loss(b_fc2))\n",
    "\n",
    "    train_step = tf.train.AdamOptimizer(LEARNING_RATE).minimize(loss)\n",
    "\n",
    "    mean_y = tf.reduce_mean(tf.reshape(y,(-1, NUM_REPS, NUM_OUTPUTS)), 1)\n",
    "    mean_crps = tf.reduce_mean(tf.reduce_mean(tf.square(mean_y - y_), 1)*weights)\n",
    "\n",
    "    mean_crps_summ = tf.scalar_summary(\"mean crps\", mean_crps)\n",
    "    crps_summ = tf.scalar_summary(\"crps\", crps)"
   ]
  },
  {
   "cell_type": "code",
   "execution_count": 93,
   "metadata": {
    "collapsed": false
   },
   "outputs": [],
   "source": [
    "X, y = batch(test[:,100:200], [])\n",
    "best_cdfs = list(best_cdfs)\n",
    "with tf.Session(graph=graph) as session:\n",
    "    saver = tf.train.Saver()\n",
    "    saver.restore(session, MODEL_LOAD_PATH)\n",
    "    best_cdfs.extend(mean_y.eval(feed_dict={x:X, keep_prob: 1}))\n",
    "\n",
    "best_cdfs = np.array(best_cdfs)\n",
    "best_cdfs.shape"
   ]
  },
  {
   "cell_type": "code",
   "execution_count": 95,
   "metadata": {
    "collapsed": false
   },
   "outputs": [],
   "source": [
    "best_errs = np.mean(np.square(best_cdfs[:] - make_cdf(test_labels[:])), 1)"
   ]
  },
  {
   "cell_type": "code",
   "execution_count": 96,
   "metadata": {
    "collapsed": false
   },
   "outputs": [
    {
     "data": {
      "text/plain": [
       "0.02154622361472101"
      ]
     },
     "execution_count": 96,
     "metadata": {},
     "output_type": "execute_result"
    }
   ],
   "source": [
    "best_errs.mean()"
   ]
  },
  {
   "cell_type": "code",
   "execution_count": 95,
   "metadata": {
    "collapsed": false
   },
   "outputs": [
    {
     "data": {
      "text/plain": [
       "(0.076802474477180485, 0.035694463829734069)"
      ]
     },
     "execution_count": 95,
     "metadata": {},
     "output_type": "execute_result"
    }
   ],
   "source": [
    "best_errs[test_labels>220].mean(), errors[test_labels>220].mean()"
   ]
  },
  {
   "cell_type": "code",
   "execution_count": 127,
   "metadata": {
    "collapsed": false
   },
   "outputs": [
    {
     "data": {
      "text/plain": [
       "(200,)"
      ]
     },
     "execution_count": 127,
     "metadata": {},
     "output_type": "execute_result"
    }
   ],
   "source": [
    "pests = np.argmax(best_cdfs > 0.5, axis=1)\n",
    "pests.shape"
   ]
  },
  {
   "cell_type": "code",
   "execution_count": 114,
   "metadata": {
    "collapsed": false
   },
   "outputs": [
    {
     "data": {
      "text/plain": [
       "13"
      ]
     },
     "execution_count": 114,
     "metadata": {},
     "output_type": "execute_result"
    }
   ],
   "source": [
    "np.sum(test_labels>220)"
   ]
  },
  {
   "cell_type": "code",
   "execution_count": 128,
   "metadata": {
    "collapsed": false
   },
   "outputs": [
    {
     "data": {
      "text/plain": [
       "15"
      ]
     },
     "execution_count": 128,
     "metadata": {},
     "output_type": "execute_result"
    }
   ],
   "source": [
    "np.sum(pests>200)"
   ]
  },
  {
   "cell_type": "code",
   "execution_count": 134,
   "metadata": {
    "collapsed": false
   },
   "outputs": [
    {
     "data": {
      "text/plain": [
       "0.046472730939947179"
      ]
     },
     "execution_count": 134,
     "metadata": {},
     "output_type": "execute_result"
    }
   ],
   "source": [
    "best_errs[pests>200].mean()"
   ]
  },
  {
   "cell_type": "code",
   "execution_count": 133,
   "metadata": {
    "collapsed": false
   },
   "outputs": [
    {
     "data": {
      "text/plain": [
       "0.049008343528135011"
      ]
     },
     "execution_count": 133,
     "metadata": {},
     "output_type": "execute_result"
    }
   ],
   "source": [
    "errors[pests>200].mean()"
   ]
  },
  {
   "cell_type": "markdown",
   "metadata": {},
   "source": [
    "### Mildly Shifted Model here"
   ]
  },
  {
   "cell_type": "code",
   "execution_count": 696,
   "metadata": {
    "collapsed": false
   },
   "outputs": [
    {
     "data": {
      "text/plain": [
       "(55,)"
      ]
     },
     "execution_count": 696,
     "metadata": {},
     "output_type": "execute_result"
    }
   ],
   "source": [
    "pests[pests>160].shape"
   ]
  },
  {
   "cell_type": "code",
   "execution_count": 742,
   "metadata": {
    "collapsed": true
   },
   "outputs": [],
   "source": [
    "MODEL_LOAD_PATH = 'SHIFT-AUG-EXP3/model-47000'\n",
    "mild_cdfs = []"
   ]
  },
  {
   "cell_type": "code",
   "execution_count": 743,
   "metadata": {
    "collapsed": false
   },
   "outputs": [
    {
     "data": {
      "text/plain": [
       "(23, 600)"
      ]
     },
     "execution_count": 743,
     "metadata": {},
     "output_type": "execute_result"
    }
   ],
   "source": [
    "mask = (pests>190)*(pests<230)\n",
    "X, y = batch(test[:,mask], [])\n",
    "mild_cdfs = list(mild_cdfs)\n",
    "with tf.Session(graph=graph) as session:\n",
    "    saver = tf.train.Saver()\n",
    "    saver.restore(session, MODEL_LOAD_PATH)\n",
    "    mild_cdfs.extend(mean_y.eval(feed_dict={x:X, keep_prob: 1}))\n",
    "\n",
    "mild_cdfs = np.array(mild_cdfs)\n",
    "mean_mild_cdfs = np.mean(mild_cdfs, axis=1)\n",
    "mean_mild_cdfs.shape"
   ]
  },
  {
   "cell_type": "code",
   "execution_count": 744,
   "metadata": {
    "collapsed": false
   },
   "outputs": [
    {
     "data": {
      "text/plain": [
       "array([191, 191, 191, 191, 191, 191, 191, 207, 191, 191, 207, 191, 191,\n",
       "       207, 207, 191, 207, 207, 191, 207, 191, 207, 207])"
      ]
     },
     "execution_count": 744,
     "metadata": {},
     "output_type": "execute_result"
    }
   ],
   "source": [
    "pests[mask]"
   ]
  },
  {
   "cell_type": "code",
   "execution_count": 745,
   "metadata": {
    "collapsed": false
   },
   "outputs": [],
   "source": [
    "mild_errs = np.mean(np.square(mean_mild_cdfs[:] - make_cdf(test_labels[mask])), 1)"
   ]
  },
  {
   "cell_type": "code",
   "execution_count": 746,
   "metadata": {
    "collapsed": false
   },
   "outputs": [
    {
     "data": {
      "text/plain": [
       "0.032268045338288774"
      ]
     },
     "execution_count": 746,
     "metadata": {},
     "output_type": "execute_result"
    }
   ],
   "source": [
    "mild_errs.mean()"
   ]
  },
  {
   "cell_type": "code",
   "execution_count": 747,
   "metadata": {
    "collapsed": false
   },
   "outputs": [
    {
     "data": {
      "text/plain": [
       "0.034461155160765228"
      ]
     },
     "execution_count": 747,
     "metadata": {},
     "output_type": "execute_result"
    }
   ],
   "source": [
    "errors[mask].mean()"
   ]
  },
  {
   "cell_type": "code",
   "execution_count": 695,
   "metadata": {
    "collapsed": false
   },
   "outputs": [
    {
     "data": {
      "text/plain": [
       "(200,)"
      ]
     },
     "execution_count": 695,
     "metadata": {},
     "output_type": "execute_result"
    }
   ],
   "source": [
    "pests = np.argmax(old_cdfs > 0.5, axis=1)\n",
    "pests.shape"
   ]
  },
  {
   "cell_type": "code",
   "execution_count": 609,
   "metadata": {
    "collapsed": false
   },
   "outputs": [
    {
     "data": {
      "text/plain": [
       "[<matplotlib.lines.Line2D at 0x13c79a1d0>]"
      ]
     },
     "execution_count": 609,
     "metadata": {},
     "output_type": "execute_result"
    },
    {
     "data": {
      "image/png": "[encoded data removed]",
      "text/plain": [
       "<matplotlib.figure.Figure at 0x14244dd50>"
      ]
     },
     "metadata": {},
     "output_type": "display_data"
    }
   ],
   "source": [
    "plt.scatter(test_labels, pests)\n",
    "plt.plot(range(500), np.linspace(0,500, 500))"
   ]
  },
  {
   "cell_type": "code",
   "execution_count": 571,
   "metadata": {
    "collapsed": false
   },
   "outputs": [
    {
     "data": {
      "text/plain": [
       "array([176, 117, 117,  33, 176,  73, 169,  57, 176,  82])"
      ]
     },
     "execution_count": 571,
     "metadata": {},
     "output_type": "execute_result"
    }
   ],
   "source": [
    "pests[:10]"
   ]
  },
  {
   "cell_type": "code",
   "execution_count": 562,
   "metadata": {
    "collapsed": false
   },
   "outputs": [],
   "source": [
    "ub = 1.\n",
    "#ub = 0.989743\n",
    "ers = []\n",
    "for lb in np.linspace(0., 0.5, 50):\n",
    "    mod_cdfs = (old_cdfs>lb)*old_cdfs*(old_cdfs<ub)+ np.ones(600)*(old_cdfs>ub)\n",
    "    mod_errors = np.mean(np.square(mod_cdfs[:] - make_cdf(test_labels[:])), 1)\n",
    "    ers.append(mod_errors.mean())"
   ]
  },
  {
   "cell_type": "code",
   "execution_count": 561,
   "metadata": {
    "collapsed": false
   },
   "outputs": [
    {
     "data": {
      "text/plain": [
       "(0.02154622361472101, 0.021546570467563031)"
      ]
     },
     "execution_count": 561,
     "metadata": {},
     "output_type": "execute_result"
    }
   ],
   "source": [
    "errors.mean(), mod_errors.mean()"
   ]
  },
  {
   "cell_type": "code",
   "execution_count": 559,
   "metadata": {
    "collapsed": false
   },
   "outputs": [
    {
     "data": {
      "text/plain": [
       "0.98974358974358978"
      ]
     },
     "execution_count": 559,
     "metadata": {},
     "output_type": "execute_result"
    }
   ],
   "source": [
    "np.linspace(0.6, 1., 40)[38]"
   ]
  },
  {
   "cell_type": "code",
   "execution_count": 563,
   "metadata": {
    "collapsed": false
   },
   "outputs": [
    {
     "data": {
      "text/plain": [
       "0"
      ]
     },
     "execution_count": 563,
     "metadata": {},
     "output_type": "execute_result"
    }
   ],
   "source": [
    "np.argmin(ers)"
   ]
  },
  {
   "cell_type": "code",
   "execution_count": 553,
   "metadata": {
    "collapsed": false
   },
   "outputs": [
    {
     "data": {
      "image/png": "[encoded data removed]",
      "text/plain": [
       "<matplotlib.figure.Figure at 0x17b0a95d0>"
      ]
     },
     "metadata": {},
     "output_type": "display_data"
    }
   ],
   "source": [
    "mod_errors = np.mean(np.square(mod_cdfs[:] - make_cdf(test_labels[:])), 1)\n",
    "counts,scores,_ = plt.hist(mod_errors, bins=30)"
   ]
  },
  {
   "cell_type": "code",
   "execution_count": 498,
   "metadata": {
    "collapsed": false
   },
   "outputs": [
    {
     "data": {
      "text/plain": [
       "[<matplotlib.lines.Line2D at 0x13c823a50>]"
      ]
     },
     "execution_count": 498,
     "metadata": {},
     "output_type": "execute_result"
    },
    {
     "data": {
      "image/png": "[encoded data removed]",
      "text/plain": [
       "<matplotlib.figure.Figure at 0x147507e10>"
      ]
     },
     "metadata": {},
     "output_type": "display_data"
    }
   ],
   "source": [
    "plt.plot((old_cdfs[1]>0.2)*old_cdfs[1])"
   ]
  },
  {
   "cell_type": "code",
   "execution_count": null,
   "metadata": {
    "collapsed": true
   },
   "outputs": [],
   "source": [
    "mod_cdfs = []\n",
    "for cdf"
   ]
  },
  {
   "cell_type": "code",
   "execution_count": 497,
   "metadata": {
    "collapsed": false
   },
   "outputs": [
    {
     "data": {
      "text/plain": [
       "159"
      ]
     },
     "execution_count": 497,
     "metadata": {},
     "output_type": "execute_result"
    }
   ],
   "source": [
    "np.argmax(old_cdfs[1] > 0.9)"
   ]
  },
  {
   "cell_type": "code",
   "execution_count": 482,
   "metadata": {
    "collapsed": false
   },
   "outputs": [
    {
     "data": {
      "text/plain": [
       "(200, 600)"
      ]
     },
     "execution_count": 482,
     "metadata": {},
     "output_type": "execute_result"
    }
   ],
   "source": [
    "old_cdfs = np.mean(cdfs, axis=1)\n",
    "old_cdfs.shape"
   ]
  },
  {
   "cell_type": "code",
   "execution_count": 483,
   "metadata": {
    "collapsed": false
   },
   "outputs": [
    {
     "data": {
      "image/png": "[encoded data removed]",
      "text/plain": [
       "<matplotlib.figure.Figure at 0x142479250>"
      ]
     },
     "metadata": {},
     "output_type": "display_data"
    }
   ],
   "source": [
    "errors = np.mean(np.square(old_cdfs[:] - make_cdf(test_labels[:])), 1)\n",
    "counts,scores,_ = plt.hist(errors, bins=30)"
   ]
  },
  {
   "cell_type": "code",
   "execution_count": 484,
   "metadata": {
    "collapsed": false
   },
   "outputs": [
    {
     "data": {
      "text/plain": [
       "(0.02154622361472101, 0.025684414213131963, 0.017408033016310057)"
      ]
     },
     "execution_count": 484,
     "metadata": {},
     "output_type": "execute_result"
    }
   ],
   "source": [
    "errors.mean(), errors[::2].mean(), errors[1::2].mean()"
   ]
  },
  {
   "cell_type": "code",
   "execution_count": 490,
   "metadata": {
    "collapsed": false
   },
   "outputs": [
    {
     "data": {
      "text/plain": [
       "(0.0033721650937688558, 0.16779826348925755)"
      ]
     },
     "execution_count": 490,
     "metadata": {},
     "output_type": "execute_result"
    }
   ],
   "source": [
    "errors.min(), errors.max()"
   ]
  },
  {
   "cell_type": "code",
   "execution_count": 491,
   "metadata": {
    "collapsed": false
   },
   "outputs": [
    {
     "data": {
      "text/plain": [
       "array([ 0.00885304,  0.0143339 ,  0.01981477,  0.02529564,  0.03077651,\n",
       "        0.03625738,  0.04173825,  0.04721912,  0.05269999,  0.05818086,\n",
       "        0.06366173,  0.0691426 ,  0.07462347,  0.08010434,  0.08558521,\n",
       "        0.09106608,  0.09654695,  0.10202782,  0.10750869,  0.11298956,\n",
       "        0.11847043,  0.1239513 ,  0.12943217,  0.13491304,  0.14039391,\n",
       "        0.14587478,  0.15135565,  0.15683652,  0.16231739,  0.16779826])"
      ]
     },
     "execution_count": 491,
     "metadata": {},
     "output_type": "execute_result"
    }
   ],
   "source": [
    "scores[1:]"
   ]
  },
  {
   "cell_type": "code",
   "execution_count": 486,
   "metadata": {
    "collapsed": false
   },
   "outputs": [
    {
     "data": {
      "text/plain": [
       "array([ 0.23 ,  0.52 ,  0.685,  0.775,  0.835,  0.885,  0.9  ,  0.91 ,\n",
       "        0.915,  0.93 ,  0.95 ,  0.955,  0.955,  0.97 ,  0.97 ,  0.975,\n",
       "        0.98 ,  0.98 ,  0.985,  0.985,  0.99 ,  0.99 ,  0.99 ,  0.99 ,\n",
       "        0.99 ,  0.99 ,  0.99 ,  0.995,  0.995,  1.   ])"
      ]
     },
     "execution_count": 486,
     "metadata": {},
     "output_type": "execute_result"
    }
   ],
   "source": [
    "np.cumsum(counts)/200."
   ]
  },
  {
   "cell_type": "code",
   "execution_count": 487,
   "metadata": {
    "collapsed": false
   },
   "outputs": [
    {
     "data": {
      "text/plain": [
       "<matplotlib.collections.PathCollection at 0x14cf991d0>"
      ]
     },
     "execution_count": 487,
     "metadata": {},
     "output_type": "execute_result"
    },
    {
     "data": {
      "image/png": "[encoded data removed]",
      "text/plain": [
       "<matplotlib.figure.Figure at 0x144ca0710>"
      ]
     },
     "metadata": {},
     "output_type": "display_data"
    }
   ],
   "source": [
    "plt.scatter(test_labels, errors)"
   ]
  },
  {
   "cell_type": "code",
   "execution_count": 488,
   "metadata": {
    "collapsed": false
   },
   "outputs": [
    {
     "data": {
      "text/plain": [
       "<matplotlib.collections.PathCollection at 0x146c3dd50>"
      ]
     },
     "execution_count": 488,
     "metadata": {},
     "output_type": "execute_result"
    },
    {
     "data": {
      "image/png": "[encoded data removed]",
      "text/plain": [
       "<matplotlib.figure.Figure at 0x141d36790>"
      ]
     },
     "metadata": {},
     "output_type": "display_data"
    }
   ],
   "source": [
    "plt.scatter(test_labels[::2], errors[::2])"
   ]
  },
  {
   "cell_type": "code",
   "execution_count": 489,
   "metadata": {
    "collapsed": false
   },
   "outputs": [
    {
     "data": {
      "text/plain": [
       "<matplotlib.collections.PathCollection at 0x13ed0af10>"
      ]
     },
     "execution_count": 489,
     "metadata": {},
     "output_type": "execute_result"
    },
    {
     "data": {
      "image/png": "[encoded data removed]",
      "text/plain": [
       "<matplotlib.figure.Figure at 0x1485ef890>"
      ]
     },
     "metadata": {},
     "output_type": "display_data"
    }
   ],
   "source": [
    "plt.scatter(test_labels[1::2], errors[1::2])"
   ]
  },
  {
   "cell_type": "markdown",
   "metadata": {},
   "source": [
    "### Bad cases: 32, 46, 68, 76, +116, 118, 126, 148, 154, 168, +174, 186, 194, 69, 81, 123, 155, 169, +195"
   ]
  },
  {
   "cell_type": "code",
   "execution_count": 388,
   "metadata": {
    "collapsed": false
   },
   "outputs": [],
   "source": [
    "#bad = [32,46,68,76,116,126,148,154,168,174,186,194,69,81,123,155,169,195]\n",
    "#good = [82,21,37,29,43,51,75,79,85,95,111,131,137,165,181]\n",
    "bad = np.where(errors > 0.05)[0]\n",
    "good = np.where(errors < 0.007)[0]\n",
    "for case in good:\n",
    "    fig = plt.figure(figsize=(10,6))\n",
    "    for i in range(144):\n",
    "        plt.plot(cdfs[case][i])\n",
    "    \n",
    "    plt.plot(np.mean(cdfs[case],axis=0), 'b', linewidth=4)\n",
    "    plt.plot(make_cdf(test_labels[case:case+1])[0], 'r')\n",
    "    plt.savefig('good_pred_'+str(case))\n",
    "    plt.close(fig)"
   ]
  },
  {
   "cell_type": "code",
   "execution_count": null,
   "metadata": {
    "collapsed": true
   },
   "outputs": [],
   "source": [
    "np.argmax()"
   ]
  },
  {
   "cell_type": "code",
   "execution_count": 432,
   "metadata": {
    "collapsed": false
   },
   "outputs": [],
   "source": [
    "point_ests = []\n",
    "\n",
    "for i in range(200):\n",
    "    point_ests.append(np.argmax((old_cdfs[i])>0.8))\n",
    "\n",
    "point_ests = np.array(point_ests)"
   ]
  },
  {
   "cell_type": "code",
   "execution_count": 433,
   "metadata": {
    "collapsed": false
   },
   "outputs": [
    {
     "data": {
      "image/png": "[encoded data removed]",
      "text/plain": [
       "<matplotlib.figure.Figure at 0x13c702090>"
      ]
     },
     "metadata": {},
     "output_type": "display_data"
    }
   ],
   "source": [
    "point_errors = np.mean(np.square(make_cdf(point_ests[:]) - make_cdf(test_labels[:])), 1)\n",
    "counts,scores,_ = plt.hist(point_errors, bins=30)"
   ]
  },
  {
   "cell_type": "code",
   "execution_count": 434,
   "metadata": {
    "collapsed": false
   },
   "outputs": [
    {
     "data": {
      "text/plain": [
       "167"
      ]
     },
     "execution_count": 434,
     "metadata": {},
     "output_type": "execute_result"
    }
   ],
   "source": [
    "point_ests[174]"
   ]
  },
  {
   "cell_type": "code",
   "execution_count": 437,
   "metadata": {
    "collapsed": false
   },
   "outputs": [
    {
     "data": {
      "text/plain": [
       "189"
      ]
     },
     "execution_count": 437,
     "metadata": {},
     "output_type": "execute_result"
    }
   ],
   "source": [
    "uncertainty[174]"
   ]
  },
  {
   "cell_type": "code",
   "execution_count": 429,
   "metadata": {
    "collapsed": false
   },
   "outputs": [
    {
     "data": {
      "text/plain": [
       "0.032874999999999995"
      ]
     },
     "execution_count": 429,
     "metadata": {},
     "output_type": "execute_result"
    }
   ],
   "source": [
    "point_errors.mean()"
   ]
  },
  {
   "cell_type": "code",
   "execution_count": 362,
   "metadata": {
    "collapsed": false
   },
   "outputs": [
    {
     "data": {
      "text/plain": [
       "[<matplotlib.lines.Line2D at 0x1468fc890>]"
      ]
     },
     "execution_count": 362,
     "metadata": {},
     "output_type": "execute_result"
    },
    {
     "data": {
      "image/png": "[encoded data removed]",
      "text/plain": [
       "<matplotlib.figure.Figure at 0x1468fc910>"
      ]
     },
     "metadata": {},
     "output_type": "display_data"
    }
   ],
   "source": [
    "for i in range(144):\n",
    "        plt.plot(cdfs[29][i])\n",
    "\n",
    "plt.plot(np.mean(cdfs[29],axis=0), 'b', linewidth=4)\n",
    "plt.plot(make_cdf(test_labels[29:29+1])[0], 'r')"
   ]
  },
  {
   "cell_type": "code",
   "execution_count": 396,
   "metadata": {
    "collapsed": false
   },
   "outputs": [],
   "source": [
    "uncertainty = []\n",
    "for i in range(200):\n",
    "    curve_centers = [np.argmax((cdfs[i][j])>0.6) for j in range(144)]\n",
    "    left_bound = np.min(curve_centers)\n",
    "    right_bound = np.max(curve_centers)\n",
    "    uncertainty.append(right_bound - left_bound)"
   ]
  },
  {
   "cell_type": "code",
   "execution_count": 398,
   "metadata": {
    "collapsed": false
   },
   "outputs": [
    {
     "data": {
      "text/plain": [
       "(array([  9.,  29.,  44.,  34.,  22.,  24.,   9.,   9.,   7.,   5.,   3.,\n",
       "          1.,   0.,   1.,   0.,   1.,   0.,   0.,   0.,   2.]),\n",
       " array([   0.  ,    9.45,   18.9 ,   28.35,   37.8 ,   47.25,   56.7 ,\n",
       "          66.15,   75.6 ,   85.05,   94.5 ,  103.95,  113.4 ,  122.85,\n",
       "         132.3 ,  141.75,  151.2 ,  160.65,  170.1 ,  179.55,  189.  ]),\n",
       " <a list of 20 Patch objects>)"
      ]
     },
     "execution_count": 398,
     "metadata": {},
     "output_type": "execute_result"
    },
    {
     "data": {
      "image/png": "[encoded data removed]",
      "text/plain": [
       "<matplotlib.figure.Figure at 0x17bf428d0>"
      ]
     },
     "metadata": {},
     "output_type": "display_data"
    }
   ],
   "source": [
    "plt.hist(uncertainty, bins=20)"
   ]
  },
  {
   "cell_type": "code",
   "execution_count": 402,
   "metadata": {
    "collapsed": false
   },
   "outputs": [
    {
     "data": {
      "text/plain": [
       "array([ 32,  46,  68,  69,  76,  81, 116, 118, 123, 126, 148, 154, 155,\n",
       "       168, 169, 174, 186, 194, 195])"
      ]
     },
     "execution_count": 402,
     "metadata": {},
     "output_type": "execute_result"
    }
   ],
   "source": [
    "bad"
   ]
  },
  {
   "cell_type": "code",
   "execution_count": 467,
   "metadata": {
    "collapsed": false
   },
   "outputs": [
    {
     "data": {
      "text/plain": [
       "0.022727304882956954"
      ]
     },
     "execution_count": 467,
     "metadata": {},
     "output_type": "execute_result"
    }
   ],
   "source": [
    "errors[np.where(np.array(uncertainty) < 70)].mean()"
   ]
  },
  {
   "cell_type": "code",
   "execution_count": 406,
   "metadata": {
    "collapsed": false
   },
   "outputs": [
    {
     "data": {
      "text/plain": [
       "<matplotlib.collections.PathCollection at 0x177f86110>"
      ]
     },
     "execution_count": 406,
     "metadata": {},
     "output_type": "execute_result"
    },
    {
     "data": {
      "image/png": "[encoded data removed]",
      "text/plain": [
       "<matplotlib.figure.Figure at 0x17c752350>"
      ]
     },
     "metadata": {},
     "output_type": "display_data"
    }
   ],
   "source": [
    "plt.scatter(errors, uncertainty)"
   ]
  },
  {
   "cell_type": "markdown",
   "metadata": {},
   "source": [
    "### Trying out the max/min curve for diastole/systole"
   ]
  },
  {
   "cell_type": "code",
   "execution_count": 221,
   "metadata": {
    "collapsed": false
   },
   "outputs": [
    {
     "data": {
      "text/plain": [
       "45"
      ]
     },
     "execution_count": 221,
     "metadata": {},
     "output_type": "execute_result"
    }
   ],
   "source": [
    "np.argmax([np.argmax((cdfs[174][i])>0.5) for i in range(144)])"
   ]
  },
  {
   "cell_type": "code",
   "execution_count": 275,
   "metadata": {
    "collapsed": false
   },
   "outputs": [],
   "source": [
    "bests = []\n",
    "for i in range(200):  #cdfs.shape[0]):\n",
    "    if i%2 == 0:\n",
    "        bests.append(np.argmax([np.argmax((cdfs[i][j])>0.1) for j in range(144)]))\n",
    "    else:\n",
    "        bests.append(np.argmin([np.argmax((cdfs[i][j])>0.9) for j in range(144)]))\n",
    "\n",
    "bests = np.array(bests)"
   ]
  },
  {
   "cell_type": "code",
   "execution_count": 276,
   "metadata": {
    "collapsed": false
   },
   "outputs": [
    {
     "data": {
      "text/plain": [
       "array([  0, 138,  36,  16,  96,  81,   7,  48,   0,   9, 109,   0,   0,\n",
       "        45,   0,  72,  74,  18,   2, 135, 108,  36,   1,  63, 128,  81,\n",
       "         0,  45,   0,  36,  72,  16,  72,  18,   0,   0, 108,  63,   1,\n",
       "        15, 114,  36, 109,  33,   0,  39,   6,   0,   0,   0,   2,  45,\n",
       "        18,  36,  72,  36,  18,  99,   1,  18,  74,   9,   0,   0, 108,\n",
       "        36,  38, 140,  72,  45,  36,   1,  42,  18,   0, 117,  24, 138,\n",
       "         0,  36,   0, 108,   7,   0,   1,  54,   0, 138,   0,  30, 108,\n",
       "        48,   6, 108,   0,  36, 110, 138,  22, 108,  36,   0,  18,   9,\n",
       "        36,  12,   1, 138,   8,  81,   0,  63,   2,   1,   0, 123,  55,\n",
       "        10,  72,  99,   2,  63,   0,  88, 108,   0,   0,  66,   0, 108,\n",
       "         0,   0,  37,  54,  72,  66, 109,  63,  72,   0,  36, 138,   0,\n",
       "        54,  78,  36,  36, 126,   2, 126,   0,  36,  24,   0,  72,  18,\n",
       "        72,  39, 108,   3,   2, 126,  36,  66,  90,  51,   1,  63, 109,\n",
       "         0,  72,   0,  72, 117,  46,  79,  91, 132,  20, 117,  41,  36,\n",
       "         0,  27,  18,  45,   6,   9,   0,  84,  74,  15, 114,  57,  81,\n",
       "        99,  20,  54,  72,   0])"
      ]
     },
     "execution_count": 276,
     "metadata": {},
     "output_type": "execute_result"
    }
   ],
   "source": [
    "bests"
   ]
  },
  {
   "cell_type": "code",
   "execution_count": 271,
   "metadata": {
    "collapsed": false
   },
   "outputs": [],
   "source": [
    "new_cdfs = []\n",
    "for i in range(200):\n",
    "    new_cdfs.append(cdfs[i, bests[i], :])\n",
    "    \n",
    "new_cdfs = np.array(new_cdfs)"
   ]
  },
  {
   "cell_type": "code",
   "execution_count": 277,
   "metadata": {
    "collapsed": false
   },
   "outputs": [
    {
     "data": {
      "text/plain": [
       "(200, 600)"
      ]
     },
     "execution_count": 277,
     "metadata": {},
     "output_type": "execute_result"
    }
   ],
   "source": [
    "new_cdfs.shape"
   ]
  },
  {
   "cell_type": "code",
   "execution_count": 375,
   "metadata": {
    "collapsed": false
   },
   "outputs": [
    {
     "data": {
      "image/png": "[encoded data removed]",
      "text/plain": [
       "<matplotlib.figure.Figure at 0x147507f50>"
      ]
     },
     "metadata": {},
     "output_type": "display_data"
    }
   ],
   "source": [
    "errors = np.mean(np.square(old_cdfs[:] - make_cdf(test_labels[:])), 1)\n",
    "counts,scores,_ = plt.hist(errors, bins=30)"
   ]
  },
  {
   "cell_type": "code",
   "execution_count": 383,
   "metadata": {
    "collapsed": false
   },
   "outputs": [
    {
     "data": {
      "text/plain": [
       "(array([ 32,  46,  68,  69,  76,  81, 116, 118, 123, 126, 148, 154, 155,\n",
       "        168, 169, 174, 186, 194, 195]),)"
      ]
     },
     "execution_count": 383,
     "metadata": {},
     "output_type": "execute_result"
    }
   ],
   "source": [
    "np.where(errors > 0.05)"
   ]
  },
  {
   "cell_type": "code",
   "execution_count": 378,
   "metadata": {
    "collapsed": false
   },
   "outputs": [
    {
     "data": {
      "text/plain": [
       "(0.024039212247872362, 0.027462733991073227, 0.020615690504671502)"
      ]
     },
     "execution_count": 378,
     "metadata": {},
     "output_type": "execute_result"
    }
   ],
   "source": [
    "errors.mean(), errors[::2].mean(), errors[1::2].mean()"
   ]
  },
  {
   "cell_type": "code",
   "execution_count": 379,
   "metadata": {
    "collapsed": false
   },
   "outputs": [
    {
     "name": "stdout",
     "output_type": "stream",
     "text": [
      "0.0274627339911\n"
     ]
    },
    {
     "data": {
      "text/plain": [
       "<matplotlib.collections.PathCollection at 0x13ddbecd0>"
      ]
     },
     "execution_count": 379,
     "metadata": {},
     "output_type": "execute_result"
    },
    {
     "data": {
      "image/png": "[encoded data removed]",
      "text/plain": [
       "<matplotlib.figure.Figure at 0x1459f9490>"
      ]
     },
     "metadata": {},
     "output_type": "display_data"
    }
   ],
   "source": [
    "print errors[::2].mean()\n",
    "plt.scatter(test_labels[::2], errors[::2])"
   ]
  },
  {
   "cell_type": "code",
   "execution_count": 246,
   "metadata": {
    "collapsed": false
   },
   "outputs": [
    {
     "data": {
      "text/plain": [
       "(200, 600)"
      ]
     },
     "execution_count": 246,
     "metadata": {},
     "output_type": "execute_result"
    }
   ],
   "source": [
    "old_cdfs = np.mean(cdfs, axis=1)\n",
    "old_cdfs.shape"
   ]
  },
  {
   "cell_type": "code",
   "execution_count": 253,
   "metadata": {
    "collapsed": false
   },
   "outputs": [
    {
     "data": {
      "text/plain": [
       "0.024039212247872362"
      ]
     },
     "execution_count": 253,
     "metadata": {},
     "output_type": "execute_result"
    }
   ],
   "source": [
    "np.mean(np.square(old_cdfs - make_cdf(test_labels[:])), 1).mean()"
   ]
  },
  {
   "cell_type": "markdown",
   "metadata": {},
   "source": [
    "### Trying out the curve of minimal uncertainty"
   ]
  },
  {
   "cell_type": "code",
   "execution_count": null,
   "metadata": {
    "collapsed": true
   },
   "outputs": [],
   "source": [
    "errors = np.mean(np.square(cdfs[:] - make_cdf(test_labels[:])), 1)\n",
    "counts,scores,_ = plt.hist(errors, bins=30)"
   ]
  },
  {
   "cell_type": "markdown",
   "metadata": {},
   "source": [
    "### ++++++++++++++++++++++++++++++++++++++++++++++++++++++++++++++++++++++++++"
   ]
  },
  {
   "cell_type": "code",
   "execution_count": 108,
   "metadata": {
    "collapsed": false
   },
   "outputs": [
    {
     "data": {
      "text/plain": [
       "(array([ 10,  68,  72,  92,  98, 116, 117, 118, 126, 134, 148, 152, 154,\n",
       "        155, 168, 174, 178, 186, 196, 198]),)"
      ]
     },
     "execution_count": 108,
     "metadata": {},
     "output_type": "execute_result"
    }
   ],
   "source": [
    "np.where(test_labels > 200)"
   ]
  },
  {
   "cell_type": "code",
   "execution_count": 139,
   "metadata": {
    "collapsed": false
   },
   "outputs": [
    {
     "data": {
      "text/plain": [
       "(5,)"
      ]
     },
     "execution_count": 139,
     "metadata": {},
     "output_type": "execute_result"
    }
   ],
   "source": [
    "np.where(errors < 0.006)[0].shape"
   ]
  },
  {
   "cell_type": "markdown",
   "metadata": {},
   "source": [
    "### Change batch to just get 3"
   ]
  },
  {
   "cell_type": "code",
   "execution_count": 167,
   "metadata": {
    "collapsed": false
   },
   "outputs": [
    {
     "data": {
      "text/plain": [
       "(1, 200, 2, 8, 32, 32)"
      ]
     },
     "execution_count": 167,
     "metadata": {},
     "output_type": "execute_result"
    }
   ],
   "source": [
    "test[1:2,:,:,:,:,:].shape"
   ]
  },
  {
   "cell_type": "code",
   "execution_count": null,
   "metadata": {
    "collapsed": true
   },
   "outputs": [],
   "source": [
    "def batch(dat, labels):\n",
    "    '''Takes dat as a (num_groups, num_cases, slices_per_group, num_times,\n",
    "    rsize, csize) tensor and returns (num_cases * num_combs, rsize, csize,\n",
    "    num_groups) where num_combs is slices_per_group**num_groups and each\n",
    "    case is represented by '''\n",
    "\n",
    "    num_slice_groups, num_cases, slices_per_group, num_times, rsize, csize = np.shape(dat)\n",
    "    # there are 8 combinations of slices, and 8 time steps\n",
    "    num_time_groups = 3\n",
    "    num_groups = num_time_groups*num_slice_groups\n",
    "\n",
    "    num_slice_combs = (slices_per_group**num_slice_groups)\n",
    "    num_time_combs = 18\n",
    "    num_combs = num_time_combs*num_slice_combs\n",
    "\n",
    "    data = np.zeros((num_cases*num_combs,rsize,csize,num_groups), dtype='float16')\n",
    "    labels = np.repeat(labels, num_combs)\n",
    "\n",
    "    slice_perms = [(i,j,k) for i in range(slices_per_group)\n",
    "                    for j in range(slices_per_group)\n",
    "                    for k in range(slices_per_group)]\n",
    "    time_perms = [(i,j,k) for i in range(num_times//3)\n",
    "                    for j in range(num_times//3,2*num_times//3)\n",
    "                    for k in range(2*num_times//3,num_times)]\n",
    "    comb = 0\n",
    "    for (i,j,k) in slice_perms:\n",
    "        for (x,y,z) in time_perms:\n",
    "            data[comb::num_combs,:,:,0] = dat[0][:, i, x]\n",
    "            data[comb::num_combs,:,:,1] = dat[1][:, j, x]\n",
    "            data[comb::num_combs,:,:,2] = dat[2][:, k, x]\n",
    "            #\n",
    "            data[comb::num_combs,:,:,3] = dat[0][:, i, y]\n",
    "            data[comb::num_combs,:,:,4] = dat[1][:, j, y]\n",
    "            data[comb::num_combs,:,:,5] = dat[2][:, k, y]\n",
    "            #\n",
    "            data[comb::num_combs,:,:,6] = dat[0][:, i, z]\n",
    "            data[comb::num_combs,:,:,7] = dat[1][:, j, z]\n",
    "            data[comb::num_combs,:,:,8] = dat[2][:, k, z]\n",
    "            comb += 1\n",
    "\n",
    "    return data, labels.reshape((-1,1))"
   ]
  },
  {
   "cell_type": "code",
   "execution_count": 119,
   "metadata": {
    "collapsed": false
   },
   "outputs": [
    {
     "data": {
      "text/plain": [
       "(3, 200, 2, 8, 32, 32)"
      ]
     },
     "execution_count": 119,
     "metadata": {},
     "output_type": "execute_result"
    }
   ],
   "source": [
    "test.shape"
   ]
  },
  {
   "cell_type": "code",
   "execution_count": 147,
   "metadata": {
    "collapsed": true
   },
   "outputs": [],
   "source": [
    "def get_params_from_npz(path):\n",
    "    x = np.load(path)\n",
    "    return zip(*sorted(x.items(), key=lambda x: int(x[0].split('_')[1])))[1]"
   ]
  },
  {
   "cell_type": "code",
   "execution_count": 148,
   "metadata": {
    "collapsed": true
   },
   "outputs": [],
   "source": [
    "weights = get_params_from_npz('params1.npz')"
   ]
  },
  {
   "cell_type": "code",
   "execution_count": 163,
   "metadata": {
    "collapsed": false
   },
   "outputs": [
    {
     "data": {
      "text/plain": [
       "<Container object of 3 artists>"
      ]
     },
     "execution_count": 163,
     "metadata": {},
     "output_type": "execute_result"
    },
    {
     "data": {
      "image/png": "[encoded data removed]",
      "text/plain": [
       "<matplotlib.figure.Figure at 0x147587f10>"
      ]
     },
     "metadata": {},
     "output_type": "display_data"
    }
   ],
   "source": [
    "plt.stem([np.abs(weights[0][:,:,i,:]).mean() for i in range(9)])"
   ]
  },
  {
   "cell_type": "code",
   "execution_count": 120,
   "metadata": {
    "collapsed": false
   },
   "outputs": [
    {
     "data": {
      "text/plain": [
       "(96, 256)"
      ]
     },
     "execution_count": 120,
     "metadata": {},
     "output_type": "execute_result"
    }
   ],
   "source": [
    "case = 10\n",
    "ims = dash(test[:,case,0,:,:,:])\n",
    "ims.shape"
   ]
  },
  {
   "cell_type": "code",
   "execution_count": 142,
   "metadata": {
    "collapsed": false
   },
   "outputs": [],
   "source": [
    "for case in np.where(errors < 0.006)[0]:\n",
    "    fig = plt.figure(figsize=(15,6))\n",
    "    if case % 2 == 0:\n",
    "        ims = dash(test[:,case,0,:,:,:])\n",
    "        plt.imshow(ims)\n",
    "        plt.savefig('dia_'+str(case))\n",
    "        plt.close(fig)\n",
    "    else:\n",
    "        ims = dash(test[:,case,1,:,:,:])\n",
    "        plt.imshow(ims)\n",
    "        plt.savefig('sys_'+str(case))\n",
    "        plt.close(fig)"
   ]
  },
  {
   "cell_type": "code",
   "execution_count": 58,
   "metadata": {
    "collapsed": false
   },
   "outputs": [
    {
     "data": {
      "text/plain": [
       "(1000,)"
      ]
     },
     "execution_count": 58,
     "metadata": {},
     "output_type": "execute_result"
    }
   ],
   "source": [
    "all_labels = np.concatenate((test_labels, train_labels))\n",
    "all_labels.shape"
   ]
  },
  {
   "cell_type": "markdown",
   "metadata": {},
   "source": [
    "### Make sure it's the right CRPS for the model"
   ]
  },
  {
   "cell_type": "code",
   "execution_count": 105,
   "metadata": {
    "collapsed": false
   },
   "outputs": [
    {
     "data": {
      "text/plain": [
       "0.024039212247872362"
      ]
     },
     "execution_count": 105,
     "metadata": {},
     "output_type": "execute_result"
    }
   ],
   "source": [
    "np.mean(np.square(cdfs[:] - make_cdf(test_labels[:])))"
   ]
  },
  {
   "cell_type": "markdown",
   "metadata": {},
   "source": [
    "## Analyse the errors"
   ]
  },
  {
   "cell_type": "code",
   "execution_count": 113,
   "metadata": {
    "collapsed": false
   },
   "outputs": [
    {
     "data": {
      "image/png": "[encoded data removed]",
      "text/plain": [
       "<matplotlib.figure.Figure at 0x12b1a8890>"
      ]
     },
     "metadata": {},
     "output_type": "display_data"
    }
   ],
   "source": [
    "errors = np.mean(np.square(cdfs[:] - make_cdf(test_labels[:])), 1)\n",
    "counts,scores,_ = plt.hist(errors, bins=30)"
   ]
  },
  {
   "cell_type": "code",
   "execution_count": 16,
   "metadata": {
    "collapsed": false
   },
   "outputs": [
    {
     "data": {
      "text/plain": [
       "array([ 0.00614706,  0.01186751,  0.01758795,  0.0233084 ,  0.02902884,\n",
       "        0.03474929,  0.04046974,  0.04619018,  0.05191063,  0.05763107,\n",
       "        0.06335152,  0.06907196,  0.07479241,  0.08051285,  0.0862333 ,\n",
       "        0.09195374,  0.09767419,  0.10339463,  0.10911508,  0.11483553,\n",
       "        0.12055597,  0.12627642,  0.13199686,  0.13771731,  0.14343775,\n",
       "        0.1491582 ,  0.15487864,  0.16059909,  0.16631953,  0.17203998,\n",
       "        0.17776042])"
      ]
     },
     "execution_count": 16,
     "metadata": {},
     "output_type": "execute_result"
    }
   ],
   "source": [
    "scores"
   ]
  },
  {
   "cell_type": "code",
   "execution_count": 17,
   "metadata": {
    "collapsed": false
   },
   "outputs": [
    {
     "data": {
      "text/plain": [
       "array([ 0.26 ,  0.515,  0.675,  0.755,  0.835,  0.895,  0.905,  0.925,\n",
       "        0.935,  0.945,  0.955,  0.965,  0.965,  0.97 ,  0.975,  0.975,\n",
       "        0.98 ,  0.995,  0.995,  0.995,  0.995,  0.995,  0.995,  0.995,\n",
       "        0.995,  0.995,  0.995,  0.995,  0.995,  1.   ])"
      ]
     },
     "execution_count": 17,
     "metadata": {},
     "output_type": "execute_result"
    }
   ],
   "source": [
    "np.cumsum(counts)/200."
   ]
  },
  {
   "cell_type": "code",
   "execution_count": 27,
   "metadata": {
    "collapsed": false
   },
   "outputs": [
    {
     "data": {
      "text/plain": [
       "0.023818338644408348"
      ]
     },
     "execution_count": 27,
     "metadata": {},
     "output_type": "execute_result"
    }
   ],
   "source": [
    "np.mean(sorted(errors)[:200])"
   ]
  },
  {
   "cell_type": "code",
   "execution_count": 44,
   "metadata": {
    "collapsed": true
   },
   "outputs": [],
   "source": [
    "lb = 250\n",
    "ub = 600"
   ]
  },
  {
   "cell_type": "code",
   "execution_count": 45,
   "metadata": {
    "collapsed": false
   },
   "outputs": [],
   "source": [
    "test_labels[(test_labels>lb)*(test_labels<ub)];"
   ]
  },
  {
   "cell_type": "code",
   "execution_count": 46,
   "metadata": {
    "collapsed": false
   },
   "outputs": [
    {
     "data": {
      "text/plain": [
       "0.072349958938078607"
      ]
     },
     "execution_count": 46,
     "metadata": {},
     "output_type": "execute_result"
    }
   ],
   "source": [
    "big_pred = cdfs[(test_labels>lb)*(test_labels<ub)]\n",
    "big_test = test_labels[(test_labels>lb)*(test_labels<ub)]\n",
    "np.mean(np.square(big_pred - make_cdf(big_test)))"
   ]
  },
  {
   "cell_type": "code",
   "execution_count": 524,
   "metadata": {
    "collapsed": false
   },
   "outputs": [
    {
     "data": {
      "text/plain": [
       "array([ 157. ,   55. ,  121.1,   39.2,  152.2,   55.1,  173.7,   67. ,\n",
       "        218.4,  128.9,  154.7,   49.8,  230.5,  183.5,  156. ,   55. ,\n",
       "        154. ,   73. ,  142. ,   39.6,   33. ,   17. ,   55.5,   14. ,\n",
       "        117.9,   48.1,  105.9,   23.6,  160.4,   80.8])"
      ]
     },
     "execution_count": 524,
     "metadata": {},
     "output_type": "execute_result"
    }
   ],
   "source": [
    "test_labels[60:90]"
   ]
  },
  {
   "cell_type": "code",
   "execution_count": 527,
   "metadata": {
    "collapsed": false
   },
   "outputs": [
    {
     "data": {
      "text/plain": [
       "(array([18, 60]),)"
      ]
     },
     "execution_count": 527,
     "metadata": {},
     "output_type": "execute_result"
    }
   ],
   "source": [
    "np.where(test_labels == 157.)"
   ]
  },
  {
   "cell_type": "code",
   "execution_count": 536,
   "metadata": {
    "collapsed": false
   },
   "outputs": [
    {
     "data": {
      "text/plain": [
       "(8, 600)"
      ]
     },
     "execution_count": 536,
     "metadata": {},
     "output_type": "execute_result"
    }
   ],
   "source": [
    "cdfs[test_labels >= 250].shape"
   ]
  },
  {
   "cell_type": "code",
   "execution_count": 47,
   "metadata": {
    "collapsed": false
   },
   "outputs": [],
   "source": [
    "widths = []\n",
    "for ex in range(200):\n",
    "    widths.append(cdfs[ex][(cdfs[ex] > 0.1)*(cdfs[ex] < 0.9)].shape[0])\n",
    "\n",
    "widths = np.array(widths)"
   ]
  },
  {
   "cell_type": "code",
   "execution_count": 48,
   "metadata": {
    "collapsed": false
   },
   "outputs": [
    {
     "data": {
      "text/plain": [
       "66.420000000000002"
      ]
     },
     "execution_count": 48,
     "metadata": {},
     "output_type": "execute_result"
    }
   ],
   "source": [
    "widths.mean()"
   ]
  },
  {
   "cell_type": "code",
   "execution_count": 49,
   "metadata": {
    "collapsed": false
   },
   "outputs": [
    {
     "data": {
      "text/plain": [
       "(7,)"
      ]
     },
     "execution_count": 49,
     "metadata": {},
     "output_type": "execute_result"
    }
   ],
   "source": [
    "test_labels[test_labels>250].shape"
   ]
  },
  {
   "cell_type": "code",
   "execution_count": 50,
   "metadata": {
    "collapsed": false
   },
   "outputs": [
    {
     "data": {
      "text/plain": [
       "118.66149999999999"
      ]
     },
     "execution_count": 50,
     "metadata": {},
     "output_type": "execute_result"
    }
   ],
   "source": [
    "test_labels.mean()"
   ]
  },
  {
   "cell_type": "code",
   "execution_count": 52,
   "metadata": {
    "collapsed": false
   },
   "outputs": [
    {
     "data": {
      "text/plain": [
       "array([ 173.7,  154.7,  100.1,  128. ,   28.6,  118.2,  215. ,  133.5,\n",
       "        102. ,  249.7,  109.4])"
      ]
     },
     "execution_count": 52,
     "metadata": {},
     "output_type": "execute_result"
    }
   ],
   "source": [
    "test_labels[widths>100]"
   ]
  },
  {
   "cell_type": "code",
   "execution_count": 645,
   "metadata": {
    "collapsed": false
   },
   "outputs": [
    {
     "data": {
      "text/plain": [
       "(87.714285714285708, 17.886261972445187)"
      ]
     },
     "execution_count": 645,
     "metadata": {},
     "output_type": "execute_result"
    }
   ],
   "source": [
    "widths[test_labels>250].mean(), widths[test_labels>250].std()"
   ]
  },
  {
   "cell_type": "code",
   "execution_count": 646,
   "metadata": {
    "collapsed": false
   },
   "outputs": [
    {
     "data": {
      "text/plain": [
       "(61.177777777777777, 24.521907564814036)"
      ]
     },
     "execution_count": 646,
     "metadata": {},
     "output_type": "execute_result"
    }
   ],
   "source": [
    "widths[test_labels<200].mean(), widths[test_labels<200].std()"
   ]
  },
  {
   "cell_type": "code",
   "execution_count": 55,
   "metadata": {
    "collapsed": false
   },
   "outputs": [
    {
     "data": {
      "image/png": "[encoded data removed]",
      "text/plain": [
       "<matplotlib.figure.Figure at 0x12c259790>"
      ]
     },
     "metadata": {},
     "output_type": "display_data"
    }
   ],
   "source": [
    "\n",
    "_,_,_ = plt.hist(widths, bins=20)"
   ]
  },
  {
   "cell_type": "code",
   "execution_count": 56,
   "metadata": {
    "collapsed": false
   },
   "outputs": [
    {
     "data": {
      "text/plain": [
       "[<matplotlib.lines.Line2D at 0x12c6a0650>]"
      ]
     },
     "execution_count": 56,
     "metadata": {},
     "output_type": "execute_result"
    },
    {
     "data": {
      "image/png": "[encoded data removed]",
      "text/plain": [
       "<matplotlib.figure.Figure at 0x12c3790d0>"
      ]
     },
     "metadata": {},
     "output_type": "display_data"
    }
   ],
   "source": [
    "plt.plot(cdfs[18])"
   ]
  },
  {
   "cell_type": "code",
   "execution_count": 509,
   "metadata": {
    "collapsed": false
   },
   "outputs": [
    {
     "data": {
      "text/plain": [
       "array([ 175.7,  175.6,  162. ,  180.8,  243.3,  151.6,  198.4,  157. ,\n",
       "        174.4,  198. ,  174.8,  177.5,  153. ,  199. ,  178.9,  166.9,\n",
       "        155.9,  172.7,  191.5,  152.3,  150.7,  157. ,  152.2,  173.7,\n",
       "        218.4,  154.7,  230.5,  183.5,  156. ,  154. ,  160.4,  181.6,\n",
       "        202.9,  175.4,  244.1,  164.1,  158.9,  184.1,  171.3,  155.5,\n",
       "        397.1,  215. ,  284. ,  197.6,  169.5,  165. ,  305.5,  158.3,\n",
       "        154.5,  241.7,  166.6,  183.3,  181.3,  277.6,  177.8,  203.6,\n",
       "        268.3,  209.9,  198.1,  257. ,  249.7,  162.7,  250. ,  150.1,\n",
       "        260.6,  182. ,  215.9,  219.3])"
      ]
     },
     "execution_count": 509,
     "metadata": {},
     "output_type": "execute_result"
    }
   ],
   "source": [
    "test_labels[test_labels>lb]"
   ]
  },
  {
   "cell_type": "code",
   "execution_count": 510,
   "metadata": {
    "collapsed": false
   },
   "outputs": [],
   "source": [
    "big_pred = cdfs[test_labels>lb]\n",
    "big_test = test_labels[test_labels>lb]"
   ]
  },
  {
   "cell_type": "code",
   "execution_count": 511,
   "metadata": {
    "collapsed": false
   },
   "outputs": [
    {
     "data": {
      "text/plain": [
       "0.032509422458924124"
      ]
     },
     "execution_count": 511,
     "metadata": {},
     "output_type": "execute_result"
    }
   ],
   "source": [
    "np.mean(np.square(big_pred - make_cdf(big_test)))"
   ]
  },
  {
   "cell_type": "markdown",
   "metadata": {},
   "source": [
    "### Error distribution on diastole"
   ]
  },
  {
   "cell_type": "code",
   "execution_count": 58,
   "metadata": {
    "collapsed": false
   },
   "outputs": [
    {
     "name": "stdout",
     "output_type": "stream",
     "text": [
      "0.0275892003118\n"
     ]
    },
    {
     "data": {
      "text/plain": [
       "<matplotlib.collections.PathCollection at 0x12c9f7350>"
      ]
     },
     "execution_count": 58,
     "metadata": {},
     "output_type": "execute_result"
    },
    {
     "data": {
      "image/png": "[encoded data removed]",
      "text/plain": [
       "<matplotlib.figure.Figure at 0x12c7e28d0>"
      ]
     },
     "metadata": {},
     "output_type": "display_data"
    }
   ],
   "source": [
    "print errors[::2].mean()\n",
    "plt.scatter(test_labels[::2], errors[::2])"
   ]
  },
  {
   "cell_type": "markdown",
   "metadata": {},
   "source": [
    "### Error distribution on systole"
   ]
  },
  {
   "cell_type": "code",
   "execution_count": 59,
   "metadata": {
    "collapsed": false
   },
   "outputs": [
    {
     "name": "stdout",
     "output_type": "stream",
     "text": [
      "0.0200474769771\n"
     ]
    },
    {
     "data": {
      "text/plain": [
       "<matplotlib.collections.PathCollection at 0x12ce46f90>"
      ]
     },
     "execution_count": 59,
     "metadata": {},
     "output_type": "execute_result"
    },
    {
     "data": {
      "image/png": "[encoded data removed]",
      "text/plain": [
       "<matplotlib.figure.Figure at 0x12c9ac5d0>"
      ]
     },
     "metadata": {},
     "output_type": "display_data"
    }
   ],
   "source": [
    "print errors[1::2].mean()\n",
    "plt.scatter(test_labels[1::2], errors[1::2])"
   ]
  },
  {
   "cell_type": "markdown",
   "metadata": {},
   "source": [
    "### Total Errors"
   ]
  },
  {
   "cell_type": "code",
   "execution_count": 74,
   "metadata": {
    "collapsed": false
   },
   "outputs": [
    {
     "data": {
      "text/plain": [
       "0.019139550413124564"
      ]
     },
     "execution_count": 74,
     "metadata": {},
     "output_type": "execute_result"
    }
   ],
   "source": [
    "errors[test_labels<150].mean()"
   ]
  },
  {
   "cell_type": "code",
   "execution_count": 73,
   "metadata": {
    "collapsed": false
   },
   "outputs": [
    {
     "data": {
      "text/plain": [
       "0.032900692269841575"
      ]
     },
     "execution_count": 73,
     "metadata": {},
     "output_type": "execute_result"
    }
   ],
   "source": [
    "errors[test_labels>150].mean()"
   ]
  },
  {
   "cell_type": "code",
   "execution_count": 61,
   "metadata": {
    "collapsed": false
   },
   "outputs": [
    {
     "data": {
      "text/plain": [
       "((255,), (68,))"
      ]
     },
     "execution_count": 61,
     "metadata": {},
     "output_type": "execute_result"
    }
   ],
   "source": [
    "train_labels[train_labels>150].shape, test_labels[test_labels>150].shape"
   ]
  },
  {
   "cell_type": "code",
   "execution_count": 666,
   "metadata": {
    "collapsed": false
   },
   "outputs": [
    {
     "data": {
      "text/plain": [
       "<matplotlib.collections.PathCollection at 0x13af04110>"
      ]
     },
     "execution_count": 666,
     "metadata": {},
     "output_type": "execute_result"
    },
    {
     "data": {
      "image/png": "[encoded data removed]",
      "text/plain": [
       "<matplotlib.figure.Figure at 0x13acb2190>"
      ]
     },
     "metadata": {},
     "output_type": "display_data"
    }
   ],
   "source": [
    "plt.scatter(test_labels, errors)"
   ]
  },
  {
   "cell_type": "markdown",
   "metadata": {},
   "source": [
    "### Save the test output PDFs"
   ]
  },
  {
   "cell_type": "code",
   "execution_count": 237,
   "metadata": {
    "collapsed": false
   },
   "outputs": [],
   "source": [
    "y1_train = np.load('y1_train.npy')\n",
    "y1_test = np.load('y1_test.npy')"
   ]
  },
  {
   "cell_type": "code",
   "execution_count": 238,
   "metadata": {
    "collapsed": false
   },
   "outputs": [],
   "source": [
    "new_y1_train = np.cumsum(y1_train, axis=1)\n",
    "new_y1_test = np.cumsum(y1_test, axis=1)"
   ]
  },
  {
   "cell_type": "code",
   "execution_count": 242,
   "metadata": {
    "collapsed": false
   },
   "outputs": [],
   "source": [
    "np.save('new_y1_test', new_y1_test)\n",
    "np.save('new_y1_train', new_y1_train)"
   ]
  },
  {
   "cell_type": "code",
   "execution_count": 241,
   "metadata": {
    "collapsed": false
   },
   "outputs": [
    {
     "data": {
      "text/plain": [
       "[<matplotlib.lines.Line2D at 0x131832210>]"
      ]
     },
     "execution_count": 241,
     "metadata": {},
     "output_type": "execute_result"
    },
    {
     "data": {
      "image/png": "[encoded data removed]",
      "text/plain": [
       "<matplotlib.figure.Figure at 0x130fca2d0>"
      ]
     },
     "metadata": {},
     "output_type": "display_data"
    }
   ],
   "source": [
    "plt.plot(new_y1_test[199])"
   ]
  },
  {
   "cell_type": "code",
   "execution_count": 266,
   "metadata": {
    "collapsed": false
   },
   "outputs": [
    {
     "data": {
      "text/plain": [
       "(800, 600)"
      ]
     },
     "execution_count": 266,
     "metadata": {},
     "output_type": "execute_result"
    }
   ],
   "source": [
    "cdfs.shape"
   ]
  },
  {
   "cell_type": "code",
   "execution_count": 267,
   "metadata": {
    "collapsed": true
   },
   "outputs": [],
   "source": [
    "np.save('y2_train', cdfs)"
   ]
  },
  {
   "cell_type": "markdown",
   "metadata": {},
   "source": [
    "### Look at some of the output CDFs"
   ]
  },
  {
   "cell_type": "code",
   "execution_count": null,
   "metadata": {
    "collapsed": true
   },
   "outputs": [],
   "source": [
    "case = 0\n",
    "plt.plot(cdfs[case])\n",
    "plt.plot(make_cdf(test_labels[case:case+1])[0])"
   ]
  }
 ],
 "metadata": {
  "kernelspec": {
   "display_name": "Python 2",
   "language": "python",
   "name": "python2"
  },
  "language_info": {
   "codemirror_mode": {
    "name": "ipython",
    "version": 2
   },
   "file_extension": ".py",
   "mimetype": "text/x-python",
   "name": "python",
   "nbconvert_exporter": "python",
   "pygments_lexer": "ipython2",
   "version": "2.7.11"
  }
 },
 "nbformat": 4,
 "nbformat_minor": 0
}

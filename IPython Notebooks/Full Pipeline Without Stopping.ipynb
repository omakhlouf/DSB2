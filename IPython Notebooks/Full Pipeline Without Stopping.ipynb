{
 "cells": [
  {
   "cell_type": "code",
   "execution_count": null,
   "metadata": {
    "collapsed": true
   },
   "outputs": [],
   "source": [
    "from helpers import *"
   ]
  },
  {
   "cell_type": "code",
   "execution_count": null,
   "metadata": {
    "collapsed": true
   },
   "outputs": [],
   "source": [
    "%matplotlib inline"
   ]
  },
  {
   "cell_type": "code",
   "execution_count": null,
   "metadata": {
    "collapsed": false,
    "scrolled": true
   },
   "outputs": [],
   "source": [
    "def eval_case(case):\n",
    "    ###############################   Load patient #############################\n",
    "    patient = all_slices(case, pix=True)\n",
    "    #Get the middle slice\n",
    "    num_layers = len(patient)\n",
    "    mid_layer = num_layers//2\n",
    "    mid_slice = patient[mid_layer]\n",
    "    ###############################  Fix high contrast #############################\n",
    "    patient = fix_contrast(np.array(patient))\n",
    "    mid_slice = patient[mid_layer]\n",
    "    #########################  Find area that changes most #########################\n",
    "    mid_slice_stfd = spatial_temporal_finite_difference(mid_slice)\n",
    "    ###############################  Threshold cleanup #############################\n",
    "    mid_slice_stfd = threshold_std(mid_slice_stfd,1.)\n",
    "    #################################  Get Centroid ################################\n",
    "    # blur\n",
    "    result = cv2.GaussianBlur(mid_slice_stfd, (9, 9), 0)\n",
    "    # get centroid\n",
    "    row,col = get_centroid(result)\n",
    "    center = line_mask(result, row, col)\n",
    "    #plt.imshow(center+mid_slice_stfd)\n",
    "    ###############################  Bounding Box ##################################\n",
    "    # get roi\n",
    "    rstart, rend, cstart, cend = bounding_square(result, row, col)\n",
    "    width = rend-rstart\n",
    "\n",
    "    mid_slice = map(lambda x: x[rstart:rend, cstart:cend], mid_slice)\n",
    "    old_mid_slice_stfd = mid_slice_stfd.copy()\n",
    "    mid_slice_stfd = mid_slice_stfd[rstart:rend,cstart:cend]\n",
    "    ###############################  Get slice components ##########################\n",
    "    components = map(lambda i: filtered_components(mid_slice[i]), range(30))\n",
    "    masks,areas,centroids = map(np.array, zip(*components))\n",
    "    ###########################  Track components over time #########################\n",
    "    # match components over time\n",
    "    tracks = track_objects(masks)\n",
    "\n",
    "    ###############################  Plot Area Curves #############################\n",
    "    rareas = np.zeros_like(tracks)\n",
    "    for i in range(30):\n",
    "        rareas[:,i] = areas[i][tracks[:,i].astype(int)-1]\n",
    "    rareas = rareas.T[:-1,:]\n",
    "\n",
    "    return rareas, best_harmonic_fit(rareas.T)"
   ]
  },
  {
   "cell_type": "code",
   "execution_count": null,
   "metadata": {
    "collapsed": false
   },
   "outputs": [],
   "source": [
    "cd '/Users/omakhlouf/Desktop/Data Science Bowl/areacurves'"
   ]
  },
  {
   "cell_type": "code",
   "execution_count": null,
   "metadata": {
    "collapsed": false,
    "scrolled": true
   },
   "outputs": [],
   "source": [
    "broken = 0\n",
    "for i in range(1,101):\n",
    "    if i%20 == 0:\n",
    "        print 'Evaluating patient ', i, '...'\n",
    "    try:\n",
    "        curve, best = eval_case(i)\n",
    "        fig = plt.figure(figsize=(30,8))\n",
    "        plt.subplot(1,2,1)\n",
    "        plt.plot(curve)\n",
    "        plt.subplot(1,2,2)\n",
    "        plt.plot(curve[:,best])\n",
    "        plt.savefig(str(i))\n",
    "        plt.close(fig)\n",
    "    except Exception as e:\n",
    "        broken += 1\n",
    "        \n",
    "print broken"
   ]
  },
  {
   "cell_type": "markdown",
   "metadata": {},
   "source": [
    "## ++++++++++++++++++++++ EXPERIMENTS +++++++++++++++++++++++++++"
   ]
  },
  {
   "cell_type": "code",
   "execution_count": null,
   "metadata": {
    "collapsed": true
   },
   "outputs": [],
   "source": []
  },
  {
   "cell_type": "markdown",
   "metadata": {
    "collapsed": false
   },
   "source": [
    "## +++++++++++++++++++++++++++++++++++++++++++++++++++++++++++++++++++"
   ]
  }
 ],
 "metadata": {
  "kernelspec": {
   "display_name": "Python 2",
   "language": "python",
   "name": "python2"
  },
  "language_info": {
   "codemirror_mode": {
    "name": "ipython",
    "version": 2
   },
   "file_extension": ".py",
   "mimetype": "text/x-python",
   "name": "python",
   "nbconvert_exporter": "python",
   "pygments_lexer": "ipython2",
   "version": "2.7.11"
  }
 },
 "nbformat": 4,
 "nbformat_minor": 0
}
